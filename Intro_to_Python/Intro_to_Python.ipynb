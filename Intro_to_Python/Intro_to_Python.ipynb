{
 "cells": [
  {
   "cell_type": "markdown",
   "metadata": {},
   "source": [
    "# Intro to Python Programming"
   ]
  },
  {
   "cell_type": "markdown",
   "metadata": {
    "collapsed": true
   },
   "source": [
    "# Why Python?\n",
    "\n",
    "* It's a full and general purpose programming language.\n",
    "* Clean and elegant, easy to learn and be productive.\n",
    "* It's free and open source (you can always know exactly what your code is doing)!\n",
    "* Huge community.\n",
    "* Very popular for scientific programming and data science.\n",
    "\n",
    "\n",
    "Projects using Python:\n",
    "\n",
    "* YouTube\n",
    "* Google\n",
    "* NASA\n",
    "* Dropbox\n",
    "* Many more.\n",
    "\n",
    "# Workshop Objectives\n",
    "\n",
    "* To give you the essential Python tools so that you can start to apply it to help you in your own work or research!"
   ]
  },
  {
   "cell_type": "markdown",
   "metadata": {},
   "source": [
    "# Programming Basics\n",
    "\n",
    "We can boil down programming into two main 'entities': Data and Operations. In a program, we have some information, or data, and we perform some operations on it to produce the desired output. So let's see how these two are represented in Python.\n",
    "\n",
    "## Data\n",
    "\n",
    "As you can imagine, data can come in several forms and be packaged in many ways. The fundamental Python data types that we will cover here are the following: integers, floats, booleans, and strings. We can store the values of these different types in what we call 'variables'. You can just think of them as containers with a name (no spaces or special characters!) that have a piece of data. Below are some examples of how we can work with these data types.\n",
    "\n",
    "### Primitives"
   ]
  },
  {
   "cell_type": "code",
   "execution_count": 49,
   "metadata": {
    "collapsed": false
   },
   "outputs": [
    {
     "name": "stdout",
     "output_type": "stream",
     "text": [
      "4\n",
      "2\n",
      "0.5 0.1\n",
      "Hello, world.\n",
      "False\n",
      "True\n",
      "None\n"
     ]
    }
   ],
   "source": [
    "# this is a comment. anything that follows a '#' symbol in Python is ignored by the interpeter\n",
    "\n",
    "# here are two ways we can represent numbers\n",
    "\n",
    "#integers a.k.a int\n",
    "x = 4  #here we store the integer value of 4 in the variable x\n",
    "y = 2\n",
    "\n",
    "#floating point numbers \n",
    "a = 0.5\n",
    "b = 0.1\n",
    "\n",
    "# strings are sequences of characters. they are always contained in single or double quotes\n",
    "s = \"Hello, world.\"\n",
    "\n",
    "#booleans are data types that can take on only the values 'True' or 'False':\n",
    "\n",
    "n = False\n",
    "m  = True\n",
    "\n",
    "#finally, we have the 'None' type which is basically nothing, it's like an empty variable\n",
    "\n",
    "t = None\n",
    "\n",
    "## so now what we've done is store some values in some variables. how can we see what those values are? print!\n",
    "\n",
    "print(x)\n",
    "print(y)\n",
    "print(a, b)\n",
    "print(s)\n",
    "print(n)\n",
    "print(m)\n",
    "print(t)"
   ]
  },
  {
   "cell_type": "code",
   "execution_count": 14,
   "metadata": {
    "collapsed": false
   },
   "outputs": [
    {
     "name": "stdout",
     "output_type": "stream",
     "text": [
      "5\n",
      "5.0\n"
     ]
    }
   ],
   "source": [
    "#another useful thing is type-casting where we can convert some types into other types.\n",
    "\n",
    "x = 5.0\n",
    "y = \"5.0\"\n",
    "\n",
    "#converts a floating point number to an integer\n",
    "print(int(x))\n",
    "\n",
    "#converts the string \"5.0\" into a numeric value\n",
    "print(float(x))"
   ]
  },
  {
   "cell_type": "code",
   "execution_count": 38,
   "metadata": {
    "collapsed": false
   },
   "outputs": [
    {
     "name": "stdout",
     "output_type": "stream",
     "text": [
      "8\n",
      "0.8\n",
      "5\n",
      "Hello, world. How are you?\n"
     ]
    }
   ],
   "source": [
    "# we can do some basic operations on these data types\n",
    "\n",
    "print(4 + 4)  #add or subtract two integers\n",
    "print(4/5)    # divide"
   ]
  },
  {
   "cell_type": "code",
   "execution_count": 39,
   "metadata": {
    "collapsed": false
   },
   "outputs": [
    {
     "name": "stdout",
     "output_type": "stream",
     "text": [
      "6\n"
     ]
    }
   ],
   "source": [
    "# we can assign the value of a variable back to itself.\n",
    "\n",
    "x = x + 1\n",
    "print(x)"
   ]
  },
  {
   "cell_type": "code",
   "execution_count": 40,
   "metadata": {
    "collapsed": false
   },
   "outputs": [
    {
     "name": "stdout",
     "output_type": "stream",
     "text": [
      "Hello, world. How are you?\n"
     ]
    }
   ],
   "source": [
    "#we can 'concatenate' two strings\n",
    "\n",
    "print(s + \" How are you?\")"
   ]
  },
  {
   "cell_type": "markdown",
   "metadata": {},
   "source": [
    "### Data structures\n",
    "\n",
    "Now that we have a better idea of the types of information Python handles. We would like to scale things up and be able to store the data in a way as to be able to easily handle many values at once.\n",
    "\n",
    "#### Lists\n",
    "\n",
    "A list is simply an ordered collection of values."
   ]
  },
  {
   "cell_type": "code",
   "execution_count": 16,
   "metadata": {
    "collapsed": false
   },
   "outputs": [
    {
     "name": "stdout",
     "output_type": "stream",
     "text": [
      "[1, 2, 3, 4]\n",
      "1\n",
      "2\n",
      "4\n"
     ]
    }
   ],
   "source": [
    "# This is a list:\n",
    "l = [1, 2, 3, 4]\n",
    "# we can access each element in a list with its index (starting from 0)\n",
    "print(l)\n",
    "print(l[0]) #prints the first element in the list\n",
    "print(l[1]) #prints the second element in the list\n",
    "print(l[-1]) #what does this print?"
   ]
  },
  {
   "cell_type": "code",
   "execution_count": 20,
   "metadata": {
    "collapsed": false
   },
   "outputs": [
    {
     "name": "stdout",
     "output_type": "stream",
     "text": [
      "[3, 4]\n",
      "[2, 3, 4]\n",
      "[1, 2, 3]\n"
     ]
    }
   ],
   "source": [
    "#list slicing. very useful way in python to access sub-lists in python\n",
    "\n",
    "#say we want to make a list that only has the elements between positions 2 and 4 in list l\n",
    "\n",
    "sliced = l[2:4]\n",
    "\n",
    "print(sliced)\n",
    "\n",
    "#now say we want a list that contains everything but the first number in l\n",
    "\n",
    "everything_but_first = l[1:]\n",
    "\n",
    "print(everything_but_first)\n",
    "\n",
    "#now make a list that has everything except the last element in the list (remember the -1 index)\n",
    "\n",
    "everything_but_last = l[:-1]\n",
    "print(everything_but_last)"
   ]
  },
  {
   "cell_type": "code",
   "execution_count": 11,
   "metadata": {
    "collapsed": false
   },
   "outputs": [
    {
     "name": "stdout",
     "output_type": "stream",
     "text": [
      "3000\n"
     ]
    }
   ],
   "source": [
    "#we can modify the values in the list\n",
    "l[1] = 3000\n",
    "print(l[1])"
   ]
  },
  {
   "cell_type": "code",
   "execution_count": 12,
   "metadata": {
    "collapsed": false
   },
   "outputs": [
    {
     "name": "stdout",
     "output_type": "stream",
     "text": [
      "adding a value\n",
      "[1, 3000, 3, 4, 'hi!']\n"
     ]
    }
   ],
   "source": [
    "#we can add values to the end of the list with the append() function\n",
    "print(\"adding a value\")\n",
    "l.append(\"hi!\")\n",
    "print(l)"
   ]
  },
  {
   "cell_type": "markdown",
   "metadata": {},
   "source": [
    "#### Tuples\n",
    "\n",
    "Tuples are like lists, but they are less flexible. Unlike lists, they have a fixed size, and you can't reassign elements to them once they're assigned. The advantage is that they are more memory efficient than lists. So it's good to use them when you know that you will not be changing your data around much."
   ]
  },
  {
   "cell_type": "code",
   "execution_count": 18,
   "metadata": {
    "collapsed": false
   },
   "outputs": [
    {
     "name": "stdout",
     "output_type": "stream",
     "text": [
      "('Martin', 50, 1.65)\n",
      "50\n"
     ]
    }
   ],
   "source": [
    "#declare a tuple. use round brackets instead of square brackets\n",
    "person = ('Martin', 50, 1.65) \n",
    "print(person)\n",
    "\n",
    "#you can still access its elements just like in a list\n",
    "print(person[1])\n"
   ]
  },
  {
   "cell_type": "markdown",
   "metadata": {},
   "source": [
    "#### Dictionaries\n",
    "\n",
    "Dictionaries are one of the most useful data structures in Python and because they are very powerful for organizing data. A dictionary is like a list, except every element is indexed by a 'key instead of a number like we saw with lists and tuples. \n",
    "\n",
    "```d[key] = value ```"
   ]
  },
  {
   "cell_type": "code",
   "execution_count": 76,
   "metadata": {
    "collapsed": false
   },
   "outputs": [
    {
     "name": "stdout",
     "output_type": "stream",
     "text": [
      "{'heights': [], 'weights': []}\n"
     ]
    }
   ],
   "source": [
    "# dictionaries are initialized with curly braces\n",
    "d = {} # is an empty dictionary\n",
    "\n",
    "#let's add some keys to the dictionary and give it a value.\n",
    "d['heights'] = []\n",
    "d['weights'] = []\n",
    "\n",
    "print(d)"
   ]
  },
  {
   "cell_type": "code",
   "execution_count": 77,
   "metadata": {
    "collapsed": false
   },
   "outputs": [
    {
     "name": "stdout",
     "output_type": "stream",
     "text": [
      "{'heights': [165.4], 'weights': [221.2]}\n",
      "dict_keys(['heights', 'weights'])\n"
     ]
    }
   ],
   "source": [
    "#now we can add 'heights' to the list \n",
    "d['heights'].append(165.4)\n",
    "d['weights'].append(221.2)\n",
    "\n",
    "print(d)\n",
    "\n",
    "#if we want to get the 'keys' of the dictionary we use the keys() function\n",
    "\n",
    "print(d.keys())"
   ]
  },
  {
   "cell_type": "markdown",
   "metadata": {},
   "source": [
    "### Python is very flexible with data \n",
    "\n",
    "As you may have started to notice, it is possible to store any kind of mixture of data into lists, tuples, and dictionaries. Here are some examples:"
   ]
  },
  {
   "cell_type": "code",
   "execution_count": 35,
   "metadata": {
    "collapsed": false
   },
   "outputs": [
    {
     "name": "stdout",
     "output_type": "stream",
     "text": [
      "['hi', 1, 2, ('a', 2, 'e')]\n",
      "{1: [1, 2, 3], 'bob': 4}\n"
     ]
    }
   ],
   "source": [
    "mix = ['hi', 1, 2, ('a', 2, 'e')]\n",
    "print(mix)\n",
    "\n",
    "d2 = {1: [1, 2, 3], 'bob': 4}\n",
    "print(d2)"
   ]
  },
  {
   "cell_type": "markdown",
   "metadata": {},
   "source": [
    "## Operations\n",
    "\n",
    "Now that we have an idea of how Python stores data, we would like to be able to do something interesting with is. That is, peform operations on the data in an efficient manner."
   ]
  },
  {
   "cell_type": "markdown",
   "metadata": {},
   "source": [
    "### `for` loops\n",
    "\n",
    "Loops make python repeat a set of commands a given number of times. They are by far the most widely used loop."
   ]
  },
  {
   "cell_type": "code",
   "execution_count": 36,
   "metadata": {
    "collapsed": false
   },
   "outputs": [
    {
     "name": "stdout",
     "output_type": "stream",
     "text": [
      "hi\n",
      "1\n",
      "2\n",
      "('a', 2, 'e')\n"
     ]
    }
   ],
   "source": [
    "# for loops store the each item in the list in the variable following the 'for' one at a time.\n",
    "\n",
    "#let's iterate through that 'mix' list that we made in the previous cell and print each item in the list\n",
    "for i in mix:\n",
    "    print(i)"
   ]
  },
  {
   "cell_type": "code",
   "execution_count": 37,
   "metadata": {
    "collapsed": false
   },
   "outputs": [
    {
     "name": "stdout",
     "output_type": "stream",
     "text": [
      "0\n",
      "1\n",
      "2\n",
      "3\n",
      "4\n",
      "5\n",
      "6\n",
      "7\n",
      "8\n",
      "9\n"
     ]
    }
   ],
   "source": [
    "# we can also iterate through a range of numbers by using the range(n) command which returns a list containing the\n",
    "# integers within the specified range\n",
    "\n",
    "for i in range(10):\n",
    "    print(i)"
   ]
  },
  {
   "cell_type": "code",
   "execution_count": 47,
   "metadata": {
    "collapsed": false
   },
   "outputs": [
    {
     "name": "stdout",
     "output_type": "stream",
     "text": [
      "6\n"
     ]
    }
   ],
   "source": [
    "#write a for loop that adds the numbers from 1 to n. declare any variables you may need\n",
    "\n",
    "n = 4\n",
    "total = 0\n",
    "\n",
    "#the loop will repeat whatever is under it and indented to the right\n",
    "for i in range(n):\n",
    "    total = total + i\n",
    "    \n",
    "print(total)   "
   ]
  },
  {
   "cell_type": "markdown",
   "metadata": {},
   "source": [
    "### `if` statements\n",
    "\n",
    "`if` statements allow us to control which parts of code are executed depending on a condition. This condition is expressed as a boolean that can be `True` or `False`. If the statement is `True` then the code contained in the `if` statement will execute. Otherwise, it gets skipped."
   ]
  },
  {
   "cell_type": "code",
   "execution_count": 48,
   "metadata": {
    "collapsed": false
   },
   "outputs": [
    {
     "name": "stdout",
     "output_type": "stream",
     "text": [
      "True\n",
      "False\n"
     ]
    }
   ],
   "source": [
    "#first, a bit more about booleans. we can compare two booleans using the '==' operator to obtain a 'True' if they are\n",
    "# equal and 'False' if they are not equal.\n",
    "\n",
    "print(True == True)\n",
    "print(True == False)"
   ]
  },
  {
   "cell_type": "code",
   "execution_count": 53,
   "metadata": {
    "collapsed": false
   },
   "outputs": [
    {
     "name": "stdout",
     "output_type": "stream",
     "text": [
      "True\n",
      "False\n",
      "True\n",
      "False\n"
     ]
    }
   ],
   "source": [
    "# We can perform some operations on boolean variables to better express conditions\n",
    "\n",
    "#the 'and' operation gives a True boolean if both elements are true\n",
    "a,b = True, True\n",
    "print(a and b)\n",
    "\n",
    "a,b = True, False\n",
    "print(a and b)\n",
    "\n",
    "\n",
    "# the 'or' operator gives True if either one (or both) of the elements is true\n",
    "print(a or b)\n",
    "\n",
    "# the 'not' operator simply gives you the opposite of the given element\n",
    "print(not a)"
   ]
  },
  {
   "cell_type": "code",
   "execution_count": 55,
   "metadata": {
    "collapsed": false
   },
   "outputs": [
    {
     "name": "stdout",
     "output_type": "stream",
     "text": [
      "True\n"
     ]
    }
   ],
   "source": [
    "feel_like_it = True\n",
    "raining = False\n",
    "date_tonight = True\n",
    "\n",
    "\n",
    "#write a boolean to decide if you should go to the gym based on the three booleans above.\n",
    "go_to_gym = (feel_like_it and not raining) or date_tonight\n",
    "\n",
    "print(go_to_gym)\n",
    "\n",
    "#play around with different values of the variables!"
   ]
  },
  {
   "cell_type": "markdown",
   "metadata": {},
   "source": [
    "We can use `if` statements to make our loops more powerful"
   ]
  },
  {
   "cell_type": "code",
   "execution_count": null,
   "metadata": {
    "collapsed": true
   },
   "outputs": [],
   "source": [
    "#write a for loop that prints every even number up until n. (hint. use the modulo operator which returns the \n",
    "# remainder of dividing two numbers. e.g. 5 % 2 = 3, 10%2 = 0)\n",
    "\n",
    "n = 25\n",
    "for i in range(n):\n",
    "    if i % 2 == 0:\n",
    "        print(i)\n",
    "    else:\n",
    "        continue #the 'continue' statement lets you skip to the next iteration in the loop\n"
   ]
  },
  {
   "cell_type": "markdown",
   "metadata": {},
   "source": [
    "Now we can use these booleans to control how our code gets executed. Here's an example:"
   ]
  },
  {
   "cell_type": "code",
   "execution_count": 61,
   "metadata": {
    "collapsed": false
   },
   "outputs": [
    {
     "name": "stdout",
     "output_type": "stream",
     "text": [
      "i have a date tonight\n"
     ]
    }
   ],
   "source": [
    "if feel_like_it and raining: #whatever follows the if has to be a boolean statement\n",
    "    print(\"i feel like it, but it's raining\")\n",
    "#if the previous clause is not met, the 'elif' or 'else if' block is checked\n",
    "elif date_tonight:\n",
    "    print(\"i have a date tonight\"\n",
    "#if neither the if or the elif match then we go into the 'else'\n",
    "else:\n",
    "    print(\"i should just stay home\")"
   ]
  },
  {
   "cell_type": "markdown",
   "metadata": {},
   "source": [
    "Try an example for yourself. This is a famous programming challenge to test `if` statements, known as the 'fizzbuzz' test. You have to print the numbers from 0 to 50 following three rules:\n",
    "\n",
    "* If the number is divisible by 3, print 'fizz'\n",
    "* If the number is divisible by 5, print 'buzz'\n",
    "* If the number is divisible by both 3 and 5, pring 'fizzbuzz'\n",
    "* Otherwise, print the number.\n",
    "\n",
    "There are many different ways to do this, so take a couple of minutes to come up with yours. (hint. use the `%` operator)."
   ]
  },
  {
   "cell_type": "code",
   "execution_count": 3,
   "metadata": {
    "collapsed": false
   },
   "outputs": [
    {
     "name": "stdout",
     "output_type": "stream",
     "text": [
      "fizzbuzz\n",
      "1\n",
      "2\n",
      "fizz\n",
      "4\n",
      "buzz\n",
      "fizz\n",
      "7\n",
      "8\n",
      "fizz\n",
      "buzz\n",
      "11\n",
      "fizz\n",
      "13\n",
      "14\n",
      "fizzbuzz\n",
      "16\n",
      "17\n",
      "fizz\n",
      "19\n",
      "buzz\n",
      "fizz\n",
      "22\n",
      "23\n",
      "fizz\n",
      "buzz\n",
      "26\n",
      "fizz\n",
      "28\n",
      "29\n",
      "fizzbuzz\n",
      "31\n",
      "32\n",
      "fizz\n",
      "34\n",
      "buzz\n",
      "fizz\n",
      "37\n",
      "38\n",
      "fizz\n",
      "buzz\n",
      "41\n",
      "fizz\n",
      "43\n",
      "44\n",
      "fizzbuzz\n",
      "46\n",
      "47\n",
      "fizz\n",
      "49\n",
      "buzz\n",
      "fizz\n",
      "52\n",
      "53\n",
      "fizz\n",
      "buzz\n",
      "56\n",
      "fizz\n",
      "58\n",
      "59\n",
      "fizzbuzz\n",
      "61\n",
      "62\n",
      "fizz\n",
      "64\n",
      "buzz\n",
      "fizz\n",
      "67\n",
      "68\n",
      "fizz\n",
      "buzz\n",
      "71\n",
      "fizz\n",
      "73\n",
      "74\n",
      "fizzbuzz\n",
      "76\n",
      "77\n",
      "fizz\n",
      "79\n",
      "buzz\n",
      "fizz\n",
      "82\n",
      "83\n",
      "fizz\n",
      "buzz\n",
      "86\n",
      "fizz\n",
      "88\n",
      "89\n",
      "fizzbuzz\n",
      "91\n",
      "92\n",
      "fizz\n",
      "94\n",
      "buzz\n",
      "fizz\n",
      "97\n",
      "98\n",
      "fizz\n"
     ]
    }
   ],
   "source": [
    "for i in range(100):\n",
    "    if i % 15 == 0:\n",
    "        print(\"fizzbuzz\")\n",
    "    elif i % 3 == 0:\n",
    "        print(\"fizz\")\n",
    "    elif i % 5 == 0:\n",
    "        print(\"buzz\")\n",
    "    else:\n",
    "        print(i)"
   ]
  },
  {
   "cell_type": "markdown",
   "metadata": {},
   "source": [
    "### List comprehensions\n",
    "\n",
    "List comprehensions are a very nice Python feature that allow you to make lists in a single line. Let's see how they work."
   ]
  },
  {
   "cell_type": "code",
   "execution_count": null,
   "metadata": {
    "collapsed": true
   },
   "outputs": [],
   "source": [
    "# this will grow a list where each element in the list is whatever the statement preceding the 'for' evaluates to\n",
    "numbers_times_two = [n*2 for n in range(10)] \n",
    "print(numbers_time_two)"
   ]
  },
  {
   "cell_type": "code",
   "execution_count": null,
   "metadata": {
    "collapsed": true
   },
   "outputs": [],
   "source": [
    "# we can also add if statements in the list comprehension\n",
    "odd_numbers = [i for i in range(10) if i % 2 != 0]\n",
    "print(odd_numbers)"
   ]
  },
  {
   "cell_type": "code",
   "execution_count": null,
   "metadata": {
    "collapsed": true
   },
   "outputs": [],
   "source": [
    "#now try one yourself. make a list comprehension where each item is a tuple (number, number*number) \n",
    "square_tuples = [(i, i*i) for i in range(10)]"
   ]
  },
  {
   "cell_type": "markdown",
   "metadata": {},
   "source": [
    "## Functions\n",
    "\n",
    "That day of the week function was super useful! Let's say we want to use that code again many times, but sometimes we want it to find a different day of the week. We would have to change our if statement each time and re-run the code. This seems like a bit of a pain. Thankfully there is a better way.. functions! Think of a function as a little machine that takes in some input and does something to it and returns some output. So let's turn the days of the week finder into a function."
   ]
  },
  {
   "cell_type": "code",
   "execution_count": 69,
   "metadata": {
    "collapsed": true
   },
   "outputs": [],
   "source": [
    "#the first line of every function is a header. headers have 3 parts. the 'def' keyword which tells python you are\n",
    "#about to declare a function, then the name of the function, and finally the inputs to the function\n",
    "\n",
    "def day_finder(day_to_find):\n",
    "    days_of_week = ['Monday', 'Tuesday', 'Wednesday', 'Thursday', 'Friday', 'Satuday', 'Sunday']\n",
    "    for day in days_of_week:\n",
    "        if day == day_to_find:\n",
    "            #the return statement ends every function and it 'sends' the output of your function to whoever called it\n",
    "            return \"Thank God it's %s.\" % (day) # the %s in the string is like a placeholder that gets filled with\n",
    "                                                # the value of the string variable 'day'\n",
    "        else:\n",
    "            continue\n",
    "    "
   ]
  },
  {
   "cell_type": "code",
   "execution_count": 70,
   "metadata": {
    "collapsed": false
   },
   "outputs": [
    {
     "name": "stdout",
     "output_type": "stream",
     "text": [
      "Thank God it's Tuesday\n"
     ]
    }
   ],
   "source": [
    "#you can call any function just by typing its name and the arguments you want it to work on in braces ()\n",
    "print(day_finder('Tuesday')) #\"thank god it's tuesday\" is the return value of the function day_finder()"
   ]
  },
  {
   "cell_type": "markdown",
   "metadata": {},
   "source": [
    "### A word on 'variable scope'\n",
    "\n",
    "As you may have noticed, it would be a mess if variables were accessible from everywhere in the code. In fact, in Python, anything that is defined within an 'indentation block' is shared but not otherwise.\n",
    "\n",
    "Example:\n",
    "\n",
    "```\n",
    "a = 3\n",
    "\n",
    "def fun():\n",
    "    b  = 3\n",
    "    for i in range(10):\n",
    "        i = i + 1 \n",
    "        \n",
    "```\n",
    "\n",
    "In this example `a` can be accessed from anywhere in the code. `b` can only be seen inside the indentation block started by `fun()` and `i` can only be seen within the indentation block defined by the `for` loop."
   ]
  },
  {
   "cell_type": "markdown",
   "metadata": {},
   "source": [
    "## Object Oriented Programming\n",
    "\n",
    "Just how we generalized a piece of code that runs on similar kinds of input and gave it a name with the functions example, we can do the same thing with just about any piece of Python. Objects let us easily work with instances of some kind of *thing* where each instance might be a little different from the other but still behave according to its type of *thing*. \n",
    "\n",
    "Let's illustrate this with our *thing* being a Recipe. We can have many different types of recipes but we would like to be able to deal with each one in a uniform manner. We therefore define a Recipe as an object that is defined by some 'attributes'"
   ]
  },
  {
   "cell_type": "code",
   "execution_count": 78,
   "metadata": {
    "collapsed": true
   },
   "outputs": [],
   "source": [
    "# every object is defined in a 'class' and classes are declared with the 'class' keyword\n",
    "class Recipe:\n",
    "    def __init__(self, n, ig, ml, pt):\n",
    "        self.name = n\n",
    "        self.ingredients = ig #set the ingredients attribute of the object to the value of ig\n",
    "        self.meal = ml\n",
    "        self.prep_time = pt\n",
    "    "
   ]
  },
  {
   "cell_type": "code",
   "execution_count": 79,
   "metadata": {
    "collapsed": false
   },
   "outputs": [
    {
     "name": "stdout",
     "output_type": "stream",
     "text": [
      "['ham', 'bread', 'cheese']\n",
      "90\n"
     ]
    }
   ],
   "source": [
    "#now that we've defined what a Recipe should look like, we can nicely store some new recipes. \n",
    "\n",
    "#let's make some recipes\n",
    "\n",
    "sandwich = Recipe('sandwich', ['ham', 'bread', 'cheese'], 'lunch', 10)\n",
    "cake = Recipe('cake', ['flour', 'sugar', 'eggs'], 'dessert', 90)\n",
    "\n",
    "#add two more recipes of your own!\n",
    "\n",
    "\n",
    "# now we can very conveniently access some information about our recipes by name. This can be done with the '.' \n",
    "# operator that we saw above\n",
    "\n",
    "#print the ingredients in the sandwich, and the preparation time of the cake\n",
    "\n",
    "print(sandwich.ingredients)\n",
    "\n",
    "print(cake.prep_time)"
   ]
  },
  {
   "cell_type": "markdown",
   "metadata": {},
   "source": [
    "Let's go even further and make a new object to contain our Recipe objects. Let's call this class *Cookbook* and it will simply contain a list of Recipe objects. However, it will not only have some data variables, but it will also be able to perform functions. "
   ]
  },
  {
   "cell_type": "code",
   "execution_count": 102,
   "metadata": {
    "collapsed": true
   },
   "outputs": [],
   "source": [
    "class Cookbook:\n",
    "    def __init__(self, r):\n",
    "        self.recipes = r\n",
    "        \n",
    "    #functions declared inside a class are called 'Class functions' and they act on an object\n",
    "    def get_vegetarian(self):\n",
    "        \"\"\"This function is going to return recipes in the cookbook that do not contain meat.\"\"\"\n",
    "        meats = ['ham', 'beef', 'chicken', 'fish']\n",
    "        veg_dishes = []\n",
    "        for recipe in self.recipes: #the 'self' keyword is used to access the object the function is being called on\n",
    "            if meats not in recipe.ingredients: #hint: use the 'in' operator which returns true if a value is in the \n",
    "                                                #given list. e.g.: 5 in [1, 3, 5] returns True.\n",
    "                veg_dishes.append(recipe)\n",
    "        return veg_dishes\n",
    "    \n",
    "    #write a class function that returns a list of recipes that take under 'n' minutes to prepare\n",
    "    def preptime(self, n):\n",
    "        recipes = []\n",
    "        for recipe in self.recipes:\n",
    "            if recipe.prep_time < n:\n",
    "                recipes.append(recipe)\n",
    "        return recipes\n",
    "                "
   ]
  },
  {
   "cell_type": "code",
   "execution_count": 94,
   "metadata": {
    "collapsed": false
   },
   "outputs": [],
   "source": [
    "# let's make a cookbook\n",
    "\n",
    "#gather some recipes\n",
    "recipes = []\n",
    "\n",
    "recipes.append(Recipe('steak', ['beef', 'butter', 'mashed potatoes'], 'main', 120))\n",
    "recipes.append(Recipe('toast', ['nutella', 'bread'], 'snack', 5))\n",
    "recipes.append(Recipe('salad', ['lettuce', 'kale', 'tomatoes'], 'main', 15))\n",
    "recipes.append(Recipe('chicken parm', ['chicken', 'sauce', 'cheese'], 'main', 90))\n",
    "recipes.append(Recipe('brownie', ['chocolate', 'flour', 'eggs'], 'dessert', 15))\n",
    "\n",
    "#put them in a cookbook\n",
    "\n",
    "cookbook = Cookbook(recipes)"
   ]
  },
  {
   "cell_type": "code",
   "execution_count": 100,
   "metadata": {
    "collapsed": false
   },
   "outputs": [
    {
     "name": "stdout",
     "output_type": "stream",
     "text": [
      "[<__main__.Recipe object at 0x1048ac208>, <__main__.Recipe object at 0x1048ac748>, <__main__.Recipe object at 0x1048ac278>, <__main__.Recipe object at 0x1048ac780>, <__main__.Recipe object at 0x1048ac7b8>]\n",
      "[<__main__.Recipe object at 0x1048ac748>, <__main__.Recipe object at 0x1048ac278>, <__main__.Recipe object at 0x1048ac7b8>]\n"
     ]
    }
   ],
   "source": [
    "#get vegetarian recipes\n",
    "\n",
    "print(cookbook.get_vegetarian())\n",
    "\n",
    "#get recipes that take less than 20 minutes to prepare\n",
    "\n",
    "print(cookbook.preptime(20))"
   ]
  },
  {
   "cell_type": "code",
   "execution_count": 101,
   "metadata": {
    "collapsed": false
   },
   "outputs": [
    {
     "name": "stdout",
     "output_type": "stream",
     "text": [
      "toast\n",
      "salad\n",
      "brownie\n"
     ]
    }
   ],
   "source": [
    "#oops what is that? because our functions are returning lists of objects we are seeing how the objects are represented\n",
    "# when we print them. What you see are addresses in memory where the objects are stored. Let's print it in a way\n",
    "# we can understand\n",
    "\n",
    "\n",
    "#print the name and ingredients of recipes that take under 20 minutes to prepare\n",
    "short_recipes = cookbook.preptime(20)\n",
    "\n",
    "for s in short_recipes:\n",
    "    print(s.name)"
   ]
  },
  {
   "cell_type": "markdown",
   "metadata": {},
   "source": [
    "# Libraries\n",
    "\n",
    "We've now covered most of the basics you need to get up and running. However, one of the nicest things about Python is that it has a fairly extensive 'standard library'. The standard library is a set of functions that come with Python that do a variety of useful things so that you don't have to reinvent the wheel each time you write a program. We've already seen an example with the `range()` function. I'm going to give some examples of some of the most useful functions in the standard library, but you should always check if what you are trying to do has already been implemented to save you time.\n",
    "\n",
    "Some functions are directly built-in and some you have to `import` from a *module* which is just the name of a Python program whose functions you can use in your code."
   ]
  },
  {
   "cell_type": "markdown",
   "metadata": {},
   "source": [
    "### Help"
   ]
  },
  {
   "cell_type": "code",
   "execution_count": 12,
   "metadata": {
    "collapsed": false
   },
   "outputs": [
    {
     "name": "stdout",
     "output_type": "stream",
     "text": [
      "Help on built-in function abs in module builtins:\n",
      "\n",
      "abs(x, /)\n",
      "    Return the absolute value of the argument.\n",
      "\n"
     ]
    }
   ],
   "source": [
    "#help prints what the given function does\n",
    "help(abs)"
   ]
  },
  {
   "cell_type": "markdown",
   "metadata": {},
   "source": [
    "### Sets and Lists"
   ]
  },
  {
   "cell_type": "code",
   "execution_count": 8,
   "metadata": {
    "collapsed": false
   },
   "outputs": [
    {
     "name": "stdout",
     "output_type": "stream",
     "text": [
      "{'beyonce', 'lady gaga', 'rihanna'} {'lil kim', 'nicki minaj', 'rihanna'}\n",
      "{'rihanna'}\n"
     ]
    }
   ],
   "source": [
    "#a set is a group of unique items from a list\n",
    "pop_stars = [\"beyonce\", \"rihanna\", \"lady gaga\", \"lady gaga\"]\n",
    "\n",
    "hip_hop_stars = [\"rihanna\", \"nicki minaj\", \"lil kim\"]\n",
    "\n",
    "pop = set(pop_stars)\n",
    "\n",
    "hip_hop = set(hip_hop_stars)\n",
    "\n",
    "print(pop, hip_hop)\n",
    "\n",
    "#you can perform some set operations. look up the Python set documentation an print the intersection between both sets.\n",
    "\n",
    "overlap = pop.intersection(hip_hop)\n",
    "\n",
    "print(overlap)"
   ]
  },
  {
   "cell_type": "code",
   "execution_count": 4,
   "metadata": {
    "collapsed": false
   },
   "outputs": [
    {
     "name": "stdout",
     "output_type": "stream",
     "text": [
      "[1, 2, 3, 5]\n",
      "5\n",
      "1\n",
      "11\n",
      "4\n"
     ]
    }
   ],
   "source": [
    "#sort a list\n",
    "\n",
    "s = sorted([1, 5, 3, 2])\n",
    "print(s)\n",
    "\n",
    "#max and min of a list\n",
    "print(max(s))\n",
    "print(min(s))\n",
    "\n",
    "#print the sum of a list's elements\n",
    "\n",
    "print(sum(s))\n",
    "\n",
    "#get length of list\n",
    "\n",
    "print(len(s))"
   ]
  },
  {
   "cell_type": "code",
   "execution_count": null,
   "metadata": {
    "collapsed": true
   },
   "outputs": [],
   "source": [
    "#write a for loop that iterates through each *index* in s and prints the index\n",
    "\n",
    "for i in range(len(s)):\n",
    "    print(i)"
   ]
  },
  {
   "cell_type": "code",
   "execution_count": 27,
   "metadata": {
    "collapsed": false
   },
   "outputs": [
    {
     "name": "stdout",
     "output_type": "stream",
     "text": [
      "0 rihanna\n",
      "1 nicki minaj\n",
      "2 lil kim\n"
     ]
    }
   ],
   "source": [
    "#the enumerate() function gives you the item and the index of a list at the same time\n",
    "\n",
    "for i, number in enumerate(hip_hop_stars):\n",
    "    print(i, number)"
   ]
  },
  {
   "cell_type": "markdown",
   "metadata": {},
   "source": [
    "### Some math"
   ]
  },
  {
   "cell_type": "code",
   "execution_count": 5,
   "metadata": {
    "collapsed": true
   },
   "outputs": [],
   "source": [
    "#let's import some libraries so we can use their functions\n",
    "import math \n",
    "import random\n",
    "#python numerical tools\n",
    "import numpy as np"
   ]
  },
  {
   "cell_type": "code",
   "execution_count": 9,
   "metadata": {
    "collapsed": false
   },
   "outputs": [
    {
     "name": "stdout",
     "output_type": "stream",
     "text": [
      "0.30930068420811463\n",
      "6\n",
      "pineapple\n"
     ]
    }
   ],
   "source": [
    "#generate a random floating point number between 0 and 1\n",
    "ran = random.random()\n",
    "print(ran)\n",
    "\n",
    "#print a random integer in the given range\n",
    "random_integer = random.randint(2, 100)\n",
    "print(random_integer)\n",
    "\n",
    "#sample randomly from a list\n",
    "print(np.random.choice([\"watermelon\", \"mango\", \"pineapple\"]))"
   ]
  },
  {
   "cell_type": "code",
   "execution_count": 40,
   "metadata": {
    "collapsed": false
   },
   "outputs": [
    {
     "name": "stdout",
     "output_type": "stream",
     "text": [
      "22026.465794806718\n",
      "8.0\n"
     ]
    }
   ],
   "source": [
    "#compute e^(n)\n",
    "print(math.exp(10))\n",
    "\n",
    "#compute x^n\n",
    "print(math.pow(2,3))"
   ]
  },
  {
   "cell_type": "markdown",
   "metadata": {},
   "source": [
    "### String functions"
   ]
  },
  {
   "cell_type": "code",
   "execution_count": 11,
   "metadata": {
    "collapsed": false
   },
   "outputs": [
    {
     "name": "stdout",
     "output_type": "stream",
     "text": [
      "I'm Walt Disney\n",
      "I-'-m- -W-a-l-t- -D-i-s-n-e-y-.\n",
      "[\"I'm\", 'Walt', 'Disney.']\n"
     ]
    }
   ],
   "source": [
    "# you can remove characters from the end of a string with the strip() function\n",
    "\n",
    "disney = \"I'm Walt Disney.\"\n",
    "\n",
    "print(disney.strip(\".\")) #removes the character from the given string\n",
    "\n",
    "#the join function inserts characters between elements in a list and joins them into a string\n",
    "\n",
    "print(\"-\".join(disney))\n",
    "\n",
    "#the opposite of join is the split() function which breaks a string up into a list of sub-strings\n",
    "\n",
    "print(disney.split()) #you can also tell split() which characters to break on\n"
   ]
  },
  {
   "cell_type": "markdown",
   "metadata": {},
   "source": [
    "### File handling\n",
    "\n",
    "A very important part of dealing with scientific data is handling files containing your data and loading them into your Python scripts. Thankfully Python also makes this very easy.\n"
   ]
  },
  {
   "cell_type": "code",
   "execution_count": 63,
   "metadata": {
    "collapsed": false
   },
   "outputs": [
    {
     "name": "stdout",
     "output_type": "stream",
     "text": [
      "food_item, price, quantity\n",
      "bananas, 1.5, 10\n",
      "cupcakes, 3, 4\n",
      "skittles, 2, 200\n",
      "tacos, 2, 100\n",
      "chips, 1, 2.5\n"
     ]
    }
   ],
   "source": [
    "#to open a file you just use the open() function along with the 'with' context manager (more on this below)\n",
    "\n",
    "#the 'with' block takes care of opening and closing the file, and giving us the lines of the file to iterate over\n",
    "with open(\"food.csv\", \"r\") as food: # the \"r\" argument tells open() that we want to read the file\n",
    "    for item in food:\n",
    "        print(item.strip(\"\\n\")) #let's get rid of the linebreak character"
   ]
  },
  {
   "cell_type": "code",
   "execution_count": 64,
   "metadata": {
    "collapsed": true
   },
   "outputs": [],
   "source": [
    "#we can also write to a file\n",
    "with open(\"helloworld.txt\", \"w+\") as hello:\n",
    "    hello.write(\"Hello, world!\")\n",
    "    \n",
    "#check to see if the file was created"
   ]
  },
  {
   "cell_type": "markdown",
   "metadata": {},
   "source": [
    "### Multiprocessing\n",
    "\n",
    "Most computers today have multiple processors, meaning you can use these processors simulaneously to make your computations go a lot faster. Default python code is run as a single process. So if you have some work to do that can be split up into independent parts, you can easily implement this with the `multiprocessing` module in Python."
   ]
  },
  {
   "cell_type": "code",
   "execution_count": 84,
   "metadata": {
    "collapsed": false
   },
   "outputs": [
    {
     "name": "stdout",
     "output_type": "stream",
     "text": [
      "Serial job took 24.022435903549194 seconds.\n",
      "[]\n"
     ]
    }
   ],
   "source": [
    "import multiprocessing\n",
    "import time #this module allows us to do some operations involving time.\n",
    "\n",
    "MAX_PROC = 4\n",
    "\n",
    "def square(x):\n",
    "    time.sleep(3) #let's make it a bit slower by making python sleep for 10 seconds before returning the output\n",
    "    return x*x\n",
    "\n",
    "to_do = [1, 2, 3, 4, 5, 6, 7, 8]\n",
    "\n",
    "#let's write a loop that squares each element in that list in series\n",
    "\n",
    "#record the time at which we start the computation\n",
    "t_start_serial = time.time() \n",
    "\n",
    "squared_serial = []\n",
    "for i in to_do:\n",
    "    squared.append(square(i))\n",
    "\n",
    "#get the difference in time between now and the start time to get total time.\n",
    "t_end_serial = time.time() - t_start_serial \n",
    "\n",
    "print(\"Serial job took %s seconds.\" % (t_end_serial))\n",
    "print(squared_serial)"
   ]
  },
  {
   "cell_type": "code",
   "execution_count": 83,
   "metadata": {
    "collapsed": false
   },
   "outputs": [
    {
     "name": "stdout",
     "output_type": "stream",
     "text": [
      "Parallel job took 6.006745100021362 seconds!\n",
      "[1, 4, 9, 16, 25, 36, 49, 64]\n"
     ]
    }
   ],
   "source": [
    "#that was slow! now let's do this in parallel\n",
    "\n",
    "pool = multiprocessing.Pool(MAX_PROC) #we start a 'pool' of workers that we can send processing jobs to\n",
    "\n",
    "t_start_para = time.time()\n",
    "\n",
    "squared_para = []\n",
    "for squared_number in pool.map(square, to_do):\n",
    "    squared_para.append(squared_number) \n",
    "\n",
    "t_end_para = time.time() - t_start_para\n",
    "print(\"Parallel job took %s seconds!\" % (t_end_para))\n",
    "print(squared_para)"
   ]
  },
  {
   "cell_type": "markdown",
   "metadata": {},
   "source": [
    "## Mini-project\n",
    "\n",
    "At this point you should have a pretty good idea of the Python basics and some of the extras. Yet, we are still only scratching the surface of the surface of the iceberg. Python has appliations in pretty much every field of programming and software development. But since we are mainly interested in using it as a tool for data handling let's do a mini data-science project to get an idea of some more data-specific Python capabilities. Here the goal is to be able to load a data-set efficiently and do some nice visualizations. \n",
    "\n",
    "The mini project is to take baby name data from the US social security database and try to identify \"Hipster\" names. This example inspired by a Kaggle post (https://www.kaggle.com/ryanburge/d/kaggle/us-baby-names/hipster-names). You can load the original dataset [here](https://www.kaggle.com/kaggle/us-baby-names). \n",
    "\n",
    "I filtered and re-arranged the original data to make it easier for us to handle (but trust, me I used Python for that and it was very easy). So you can find the dataset we will use in this exercise in the workshop downloads under the name `BabyNames.csv`\n",
    "\n",
    "Here's what the data looks like:\n",
    "\n",
    "```\n",
    "name, 1880, 1881, 1882, .... , 2014\n",
    "Aaron, 3, 4, 6, 22, 0, ...., 199\n",
    "Aaliyah, 0, 0, 0, 0, 1, ...., 100\n",
    "```\n",
    "\n",
    "As you can see, each row in the file is a baby name, and each column contains the number of babies with that name for each year this dataset was collected."
   ]
  },
  {
   "cell_type": "code",
   "execution_count": 22,
   "metadata": {
    "collapsed": false
   },
   "outputs": [
    {
     "name": "stderr",
     "output_type": "stream",
     "text": [
      "/Users/carlosgonzalezoliver/anaconda/envs/py35/lib/python3.5/site-packages/PIL/Image.py:85: RuntimeWarning: The _imaging extension was built for another  version of Pillow or PIL\n",
      "  warnings.warn(str(v), RuntimeWarning)\n",
      "/Users/carlosgonzalezoliver/anaconda/envs/py35/lib/python3.5/site-packages/PIL/Image.py:85: RuntimeWarning: The _imaging extension was built for another  version of Pillow or PIL\n",
      "  warnings.warn(str(v), RuntimeWarning)\n"
     ]
    }
   ],
   "source": [
    "import os\n",
    "#this is python's main plotting library\n",
    "import matplotlib.pyplot as plt\n",
    "\n",
    "#tell the notebook to make plots appear inline\n",
    "%matplotlib inline\n",
    "\n",
    "#set the size of figures\n",
    "plt.rcParams['figure.figsize'] = 12, 10"
   ]
  },
  {
   "cell_type": "code",
   "execution_count": 111,
   "metadata": {
    "collapsed": false
   },
   "outputs": [],
   "source": [
    "#the os module lets us take care of operating system operations. let's use it to specify the path to a  file for opening\n",
    "\n",
    "#let's load the name dataset\n",
    "babypath = os.path.join(\"/\", \"Users\", \"carlosgonzalezoliver\", \"Projects\", \"Notebooks\", \\\n",
    "                       \"BabyNames.csv\")\n",
    "\n",
    "def read_names(file_path):\n",
    "    names_dict = {}\n",
    "    with open(file_path) as f:\n",
    "        for row_number, row_string in enumerate(f):\n",
    "            #first we need to check if we're at a header row\n",
    "            if row_number == 0:\n",
    "                #let's store the years so we can use them as labels later             \n",
    "                #we split the row_string by the comma since this is a csv file\n",
    "                years = row_string.split(\",\")[1:]\n",
    "                \n",
    "                #convert each year to an integer\n",
    "                int_years = [int(y.strip()) for y in years]\n",
    "                \n",
    "            else:\n",
    "                row_info = row_string.split(\",\")\n",
    "                name = row_info[0]\n",
    "                counts = [float(c.strip()) for c in row_info[1:]]\n",
    "                \n",
    "                names_dict[name] = counts\n",
    "    #return a dictionary with all the names and their data, and a list with the years \n",
    "    return names_dict, int_years"
   ]
  },
  {
   "cell_type": "code",
   "execution_count": 112,
   "metadata": {
    "collapsed": false
   },
   "outputs": [
    {
     "name": "stdout",
     "output_type": "stream",
     "text": [
      "[17.0, 19.0, 20.0, 22.0, 13.0, 28.0, 16.0, 20.0, 29.0, 25.0, 17.0, 16.0, 24.0, 26.0, 25.0, 20.0, 30.0, 28.0, 30.0, 36.0, 37.0, 38.0, 37.0, 41.0, 38.0, 58.0, 50.0, 74.0, 56.0, 60.0, 82.0, 69.0, 124.0, 165.0, 210.0, 273.0, 234.0, 298.0, 347.0, 313.0, 431.0, 399.0, 447.0, 434.0, 453.0, 477.0, 506.0, 551.0, 584.0, 570.0, 587.0, 553.0, 534.0, 573.0, 568.0, 565.0, 541.0, 544.0, 598.0, 589.0, 668.0, 621.0, 659.0, 709.0, 699.0, 736.0, 878.0, 1037.0, 1043.0, 1149.0, 1207.0, 1252.0, 1271.0, 1408.0, 1628.0, 1719.0, 1816.0, 1810.0, 1923.0, 1954.0, 2027.0, 2029.0, 2144.0, 2132.0, 2208.0, 2159.0, 2187.0, 2317.0, 2532.0, 2925.0, 3415.0, 3469.0, 3473.0, 3613.0, 3914.0, 3839.0, 3827.0, 3842.0, 3772.0, 4209.0, 4127.0, 4215.0, 4316.0, 3952.0, 3998.0, 4113.0, 4142.0, 4189.0, 4174.0, 4682.0, 5251.0, 5369.0, 5365.0, 5381.0, 5349.0, 5565.0, 5490.0, 5481.0, 5491.0, 6679.0, 6332.0, 6861.0, 6606.0, 6231.0, 6269.0, 6571.0, 6551.0, 6414.0, 6048.0, 5371.0, 4592.0, 4179.0, 4008.0, 3668.0, 3402.0]\n"
     ]
    }
   ],
   "source": [
    "baby_dict, year_list = read_names(babypath)\n",
    "\n",
    "#look up your name in the dictionary!\n",
    "print(baby_dict['Carlos'])"
   ]
  },
  {
   "cell_type": "code",
   "execution_count": 99,
   "metadata": {
    "collapsed": false
   },
   "outputs": [],
   "source": [
    "#first let's look for an individual name and plot its popularity trend in time.\n",
    "\n",
    "#this function takes as input a name to search for, and the dataframe. it will return a list of years that name\n",
    "# appears in, and a list of the counts for each of those years\n",
    "\n",
    "#one obstacle for this task is that some names have multiple counts for the same year. so we will have to deal with\n",
    "# this. we'll take the average of the years and use that as our count.\n",
    "\n",
    "\n",
    "#notice the 'title=' argument. this is known as keyword argument. it is useful for giving a default value to a function\n",
    "#so in this case the user can decide whether or not he gives the title of the plot. If he/she doesn't then the title\n",
    "#defaults to \"Plot Title\"\n",
    "\n",
    "def name_plot(name, names_dict, year_list, title=\"Plot Title\"):\n",
    "    #we give the matplotlib function plot() the x and y lists that we would like to plot\n",
    "    plt.plot(year_list, baby_dict[name], label=name)\n",
    "    plt.title(title)\n",
    "    plt.xlabel(\"Year\")\n",
    "    plt.ylabel(\"Count\")\n",
    "    \n",
    "    pass\n",
    "   "
   ]
  },
  {
   "cell_type": "code",
   "execution_count": 89,
   "metadata": {
    "collapsed": false
   },
   "outputs": [
    {
     "data": {
      "image/png": "[encoded data removed]",
      "text/plain": [
       "<matplotlib.figure.Figure at 0x10d89a668>"
      ]
     },
     "metadata": {},
     "output_type": "display_data"
    }
   ],
   "source": [
    "#let's try out the function. give it a name and the names_df\n",
    "name_plot(\"Carlos\", baby_dict, year_list, title=\"Carlos Popularity\")\n"
   ]
  },
  {
   "cell_type": "code",
   "execution_count": 106,
   "metadata": {
    "collapsed": true
   },
   "outputs": [],
   "source": [
    "# we define a hipster name with the three following criteria. let's say a name is popular if it reaches 1000 babies in \n",
    "# a given year.\n",
    "# Criteria:\n",
    "# * was very popular a long time ago (at least 1000 count between 1915-1930)\n",
    "# * very unpopular 30 years ago (under 1000 between 1980-2000)\n",
    "# * popular in recent years (more than 1000 after 2010)\n",
    "\n",
    "\n",
    "def hipster_names(baby_dict, year_list):\n",
    "    \n",
    "    #let's start an emty list to contain all the matching 'hip' names\n",
    "    hip_names = []\n",
    "    \n",
    "    #let's establish the ranges of time to look at\n",
    "    popular_range = range(1915, 1930)\n",
    "    unpopular_range = range(1960, 2000)\n",
    "    recent = 2010\n",
    "    \n",
    "    names = baby_dict.keys()\n",
    "\n",
    "    #we go through each row in the name group\n",
    "    for name in names:\n",
    "        #set some booleans with some initial values that will tell us together if the name is hip\n",
    "        was_popular = False\n",
    "        was_unpopular = True\n",
    "        becoming_popular = False\n",
    "        \n",
    "        #we go through each year in the name\n",
    "        for index, count in enumerate(baby_dict[name]):\n",
    "            current_year = year_list[index]\n",
    "            #check if the name was popular a long time ago\n",
    "            if current_year in popular_range and count >= 1000:\n",
    "                was_popular = True\n",
    "                continue\n",
    "            #check if the year was unpopular recently\n",
    "            if current_year in unpopular_range and count >= 1000:\n",
    "                was_unpopular = False\n",
    "                continue\n",
    "            #check if the name is growing in popularity\n",
    "            if current_year >= recent and count >= 1000:\n",
    "                becoming_popular = True\n",
    "                continue\n",
    "\n",
    "        #combine all the booleans to tell us if the name matches all our criteria. if it does, add it to the list\n",
    "        if was_popular and was_unpopular and becoming_popular:\n",
    "            print(name)\n",
    "            hip_names.append(name)\n",
    "\n",
    "    #return the list.\n",
    "    return hip_names"
   ]
  },
  {
   "cell_type": "code",
   "execution_count": 107,
   "metadata": {
    "collapsed": false
   },
   "outputs": [
    {
     "name": "stdout",
     "output_type": "stream",
     "text": [
      "Violet\n",
      "Eleanor\n",
      "Oliver\n",
      "Genevieve\n",
      "Rosalie\n",
      "Hazel\n",
      "Lena\n",
      "Ella\n",
      "Stella\n",
      "Clara\n",
      "['Violet', 'Eleanor', 'Oliver', 'Genevieve', 'Rosalie', 'Hazel', 'Lena', 'Ella', 'Stella', 'Clara']\n"
     ]
    }
   ],
   "source": [
    "#now we just have to call the function hipster_names. give this a couple of minutes as it's a lot of data!\n",
    "hip_names = hipster_names(baby_dict, year_list)\n",
    "print(hip_names)"
   ]
  },
  {
   "cell_type": "code",
   "execution_count": 108,
   "metadata": {
    "collapsed": false
   },
   "outputs": [
    {
     "data": {
      "text/plain": [
       "<matplotlib.legend.Legend at 0x10d93a748>"
      ]
     },
     "execution_count": 108,
     "metadata": {},
     "output_type": "execute_result"
    },
    {
     "data": {
      "image/png": "[encoded data removed]",
      "text/plain": [
       "<matplotlib.figure.Figure at 0x10d93a128>"
      ]
     },
     "metadata": {},
     "output_type": "display_data"
    }
   ],
   "source": [
    "#let's plot the trendlines of each hip name\n",
    "for n in hip_names:\n",
    "    name_plot(n, baby_dict, year_list, title=\"Hipster Names\")\n",
    "\n",
    "#we set the legend, x-axis label, y-axis label, and title of the plot\n",
    "plt.legend(loc=\"upper left\")"
   ]
  },
  {
   "cell_type": "markdown",
   "metadata": {},
   "source": [
    "## Things we didn't cover\n",
    "\n",
    "There are many, many, many more useful libraries that I didn't have time to cover. I'm going to list a few of the ones that you might want to check out.\n",
    "\n",
    "* [numpy](http://www.numpy.org/) very powerful numerical and matrix operations \n",
    "* [pandas](http://pandas.pydata.org/) game changer for data handling\n",
    "* [seaborn](http://seaborn.pydata.org/index.html) scientific plotting \n",
    "* [scikit-learn](http://scikit-learn.org/stable/) very complete Machine Learning algorithms and tools\n",
    "* [BioPython](http://biopython.org/wiki/Biopython) biological sequence data and analysis. (alignments, trees, etc.)"
   ]
  },
  {
   "cell_type": "code",
   "execution_count": null,
   "metadata": {
    "collapsed": true
   },
   "outputs": [],
   "source": []
  }
 ],
 "metadata": {
  "kernelspec": {
   "display_name": "Python 3",
   "language": "python",
   "name": "python3"
  },
  "language_info": {
   "codemirror_mode": {
    "name": "ipython",
    "version": 3
   },
   "file_extension": ".py",
   "mimetype": "text/x-python",
   "name": "python",
   "nbconvert_exporter": "python",
   "pygments_lexer": "ipython3",
   "version": "3.5.2"
  }
 },
 "nbformat": 4,
 "nbformat_minor": 0
}
