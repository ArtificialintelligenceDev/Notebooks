{
 "cells": [
  {
   "cell_type": "markdown",
   "metadata": {},
   "source": [
    "# COMP 364: Molecular Structures with BioPython\n",
    "\n",
    "\n",
    "Last week we learned about tools to deal with biological sequences with `BioPython`.\n",
    "\n",
    "Sequence analysis is very important, but ultimately, biological function is determined by structure.\n",
    "\n",
    "Here is the (partial) sequence for a dopamine transporter protein:\n",
    "\n",
    "```\n",
    "DERETWSGKVDFLLSVIGFAVDLANVWRFPYLCYKNGGGAFLVPYGIMLAVGGIPLFYMELALGQHNRKGAITCWGRLVP\n",
    "LFKGIGYAVVLIAFYVDFYYNVIIAWSLRFFFASFTNSLPWTSCNNIWNTPNCRPFEGHVEGFQSAASEYFNRYILELNR\n",
    "SEGIHDLGAIKWDMALCLLIVYLICYFSLWKGISTSGKVVWFTALFPYAVLLILLIRGLTLPGSFLGIQYYLTPNFSAIY\n",
    "KAEVWVDAATQVFFSLGPGFGVLLAYASYNKYHNNVYKDALLTSFINSATSFIAGFVIFSVLGYMAHTLGVRIEDVATEG\n",
    "PGLVFVVYPAAIATMPASTFWALIFFMMLATLGLDSSFGGSEAIITALSDEFPKIKRNRELFVAGLFSLYFVVGLASCTQ\n",
    "GGFYFFHLLDRYAAGYSILVAVFFEAIAVSWIYGTNRFSEDIRDMIGFPPGRYWQVCWRFVAPIFLLFITVYGLIGYEPL\n",
    "TYADYVYPSWANALGWCIAGSSVVMIPAVAIFKLLSTPGSLRQRFTILTTPWRDQ\n",
    "```\n",
    "\n",
    "This protein's job is to take the dopamine neurotransmitter out of the neuron's synapses and terminate that feel-good positive response we get from dopamine.\n",
    "\n",
    "This big string of text doesn't tell us much about how it can actually do this.\n",
    "\n",
    "Structural biologists are able to determine what that sequence looks like when it takes its natural shape in the cell.\n",
    "\n",
    "Here is that sequence's [structure](http://www.rcsb.org/pdb/ngl/ngl.do?pdbid=4XP1&bionumber=1) in 3D.\n",
    "\n",
    "Clearly there is a lot more information coded in the sequence that we need to consider.\n",
    "\n",
    "Today I'll walk you through extracting some useful information from this particular protein using BioPython's `PDB` module."
   ]
  },
  {
   "cell_type": "markdown",
   "metadata": {},
   "source": [
    "### What is a structure?\n",
    "\n",
    "Biomolecules such as proteins, RNA, DNA, and chemicals (such as dopamine) are made up of atoms.\n",
    "\n",
    "Each atom occupies a point in 4 dimensions: X, Y, Z, and time. For now we will forget about time and only deal with fixed shapshots of atoms.\n",
    "\n",
    "Structural biologists isolate molecules in the lab, and using tools such as X-ray crystallography can obtain the X, Y, and Z coordinates of all the atoms in the molecule.\n",
    "\n",
    "![](http://i0.wp.com/cen.xraycrystals.org/wp-content/uploads/2014/07/09232-cover1-BFormDNAcxd.jpg?resize=250%2C288)\n",
    "\n",
    "This is the famous X-ray diffraction pattern of DNA used by Watson & Crick & Franklin to solve the double helix structure of DNA.\n",
    "\n",
    "Other notable structure solving technologies: electron microscopy, cryo-electron microscopy, Nuclear Magnetic Resonance (NMR).\n",
    "\n",
    "We don't have to worry about how they did it, but for many years now, solved structures (3D positions of biomolecules atoms) have been deposited in the [RCSB PDB Database](http://www.rcsb.org/pdb/home/home.do)\n",
    "\n"
   ]
  },
  {
   "cell_type": "markdown",
   "metadata": {},
   "source": [
    "### Downloading a Structure File from the PDB database\n",
    "\n",
    "Every entry in the database has a unique ID code.\n",
    "\n",
    "The dopamine transporter we are interested in is: 4XP1\n",
    "\n",
    "The main file format for sequences is `FASTA`, for structures it is `PDB` or `mmCIF`.\n",
    "\n",
    "BioPython.PDB has parsers for both.\n",
    "\n",
    "[Here](http://biopython.org/wiki/The_Biopython_Structural_Bioinformatics_FAQ) is the main BioPython.PDB reference page.\n",
    "\n",
    "We can automatically download a structure from the database using the `PDBList` object's method `retrieve_pdb_file`."
   ]
  },
  {
   "cell_type": "code",
   "execution_count": null,
   "metadata": {},
   "outputs": [],
   "source": [
    "from Bio.PDB import *\n",
    "\n",
    "pdbl = PDBList()\n",
    "pdbl.retrieve_pdb_file('4XP1')"
   ]
  },
  {
   "cell_type": "markdown",
   "metadata": {},
   "source": [
    "That warning tells us that the PDB format is deprecated and that the new default is mmCIF.\n",
    "\n",
    "We'll go into what that looks like in a little bit."
   ]
  },
  {
   "cell_type": "markdown",
   "metadata": {},
   "source": [
    "Now we should have a folder containing `4XP1.cif` in our working directory."
   ]
  },
  {
   "cell_type": "code",
   "execution_count": null,
   "metadata": {
    "collapsed": true
   },
   "outputs": [],
   "source": [
    "import os\n",
    "os.listdir()"
   ]
  },
  {
   "cell_type": "code",
   "execution_count": null,
   "metadata": {
    "collapsed": true
   },
   "outputs": [],
   "source": [
    "os.listdir('xp')"
   ]
  },
  {
   "cell_type": "markdown",
   "metadata": {},
   "source": [
    "### Parsing Structure files"
   ]
  },
  {
   "cell_type": "code",
   "execution_count": null,
   "metadata": {
    "collapsed": true
   },
   "outputs": [],
   "source": [
    "parser = MMCIFParser()"
   ]
  },
  {
   "cell_type": "markdown",
   "metadata": {},
   "source": [
    "The first argument to the instance method `get_structure` is an optional name for the molecule, and the second argument is the path to the structure file."
   ]
  },
  {
   "cell_type": "code",
   "execution_count": null,
   "metadata": {},
   "outputs": [],
   "source": [
    "structure = parser.get_structure('4XP1', 'xp/4xp1.cif')"
   ]
  },
  {
   "cell_type": "markdown",
   "metadata": {},
   "source": [
    "Now we have extracted all the structural information from the file.\n",
    "\n",
    "Let's take a peek at the attributes."
   ]
  },
  {
   "cell_type": "code",
   "execution_count": null,
   "metadata": {
    "collapsed": true
   },
   "outputs": [],
   "source": [
    "def cleandir(obj):\n",
    "    print(\", \".join([a for a in dir(obj) if not a.startswith(\"_\")]))\n",
    "cleandir(structure)"
   ]
  },
  {
   "cell_type": "markdown",
   "metadata": {},
   "source": [
    "Structure objects are organized in a specific hierarchy of objects.\n",
    "\n",
    "![](http://biopython.org/wiki/Smcra.png)\n",
    "\n",
    "We're just going to focus on the core elements which are: Model --> Chain --> Residue --> Atom.\n",
    "\n",
    "Each structure file can contain multiple \"models\" of the same molecule.\n",
    "\n",
    "Each model contains several \"chains\" or strands of protein/RNA/DNA/.\n",
    "\n",
    "Each \"chain\" is made up of residues, or amino acids/DNA bases/RNA bases.\n",
    "\n",
    "Each residue is made up of Atoms."
   ]
  },
  {
   "cell_type": "markdown",
   "metadata": {},
   "source": [
    "### Visualizing structures in jupyter Notebooks"
   ]
  },
  {
   "cell_type": "markdown",
   "metadata": {},
   "source": [
    "There is a very nice \"widget\" for notebooks that lets us visualize structure objects.\n",
    "\n",
    "```\n",
    "conda config --add channels conda-forge\n",
    "conda install nglview -c bioconda\n",
    "# might need: jupyter-nbextension enable nglview --py --sys-prefix\n",
    "```\n",
    "\n",
    "To do more advanced manipulations, it is better to use standalone tools such as [Chimera](https://www.cgl.ucsf.edu/chimera/) and [pyMOL](https://pymol.org/2/).\n",
    "\n",
    "Let's view our dopamine transporter protein bound to dopamine."
   ]
  },
  {
   "cell_type": "code",
   "execution_count": null,
   "metadata": {
    "collapsed": true
   },
   "outputs": [],
   "source": [
    "import nglview as nv"
   ]
  },
  {
   "cell_type": "code",
   "execution_count": null,
   "metadata": {
    "collapsed": true
   },
   "outputs": [],
   "source": [
    "view = nv.show_biopython(structure)\n",
    "view.clear_representations()\n",
    "#view as ball and stick (atom and bond)\n",
    "view.add_ball_and_stick()"
   ]
  },
  {
   "cell_type": "code",
   "execution_count": null,
   "metadata": {},
   "outputs": [],
   "source": [
    "view"
   ]
  },
  {
   "cell_type": "markdown",
   "metadata": {},
   "source": [
    "As expected, we see a bunch of atoms in 3D space. \n",
    "\n",
    "This can often be hard to look at so we usually visualize this with what's known as a \"ribbon\" representation."
   ]
  },
  {
   "cell_type": "code",
   "execution_count": null,
   "metadata": {},
   "outputs": [],
   "source": [
    "view.clear_representations()\n",
    "#add ribbons\n",
    "view.add_cartoon('protein')\n",
    "#add ball and stick for non-rotien\n",
    "view.add_ball_and_stick('not protein')\n",
    "view"
   ]
  },
  {
   "cell_type": "markdown",
   "metadata": {
    "collapsed": true
   },
   "source": [
    "Individual atoms are not shown and instead, each chain is visualized as a continuous ribbon. \n",
    "\n",
    "We can see here that we have 3 different chains and a couple of ligands.\n",
    "\n",
    "Let's see how we can get a handle on the different components.\n",
    "\n",
    "How many models are there in this structure? It looks like there is only one transporter protein so we should only have a single model."
   ]
  },
  {
   "cell_type": "code",
   "execution_count": null,
   "metadata": {
    "collapsed": true
   },
   "outputs": [],
   "source": [
    "for model in structure:\n",
    "    print(f\"model {model}\")"
   ]
  },
  {
   "cell_type": "markdown",
   "metadata": {},
   "source": [
    "Ok we have one model. \n",
    "\n",
    "But we should have several chains as we saw above."
   ]
  },
  {
   "cell_type": "code",
   "execution_count": null,
   "metadata": {
    "collapsed": true
   },
   "outputs": [],
   "source": [
    "model = structure[0] #since we only have one model\n",
    "for chain in model:\n",
    "    print(f\"chain {chain}, Chain ID: {chain.id}\")"
   ]
  },
  {
   "cell_type": "markdown",
   "metadata": {},
   "source": [
    "Ok as we guessed, we have 3 chains: A, L, and H.\n",
    "\n",
    "We can go one step further and get all the residues in a chain.\n",
    "\n",
    "We can access individual chains like keys in a dictionary from a model."
   ]
  },
  {
   "cell_type": "code",
   "execution_count": null,
   "metadata": {
    "collapsed": true
   },
   "outputs": [],
   "source": [
    "chain_A = model['A']"
   ]
  },
  {
   "cell_type": "code",
   "execution_count": null,
   "metadata": {
    "collapsed": true
   },
   "outputs": [],
   "source": [
    "for res in chain_A:\n",
    "    print(f\"Residue name: {res.resname}, number: {res.id[1]}\")"
   ]
  },
  {
   "cell_type": "markdown",
   "metadata": {},
   "source": [
    "Now we see that each chain is made up of `Residue` objects.\n",
    "\n",
    "Finally, each residue should be made up of atoms.\n",
    "\n",
    "Let's get residue 56 from Chain A."
   ]
  },
  {
   "cell_type": "code",
   "execution_count": null,
   "metadata": {
    "collapsed": true
   },
   "outputs": [],
   "source": [
    "res = chain_A[56]"
   ]
  },
  {
   "cell_type": "code",
   "execution_count": null,
   "metadata": {
    "collapsed": true
   },
   "outputs": [],
   "source": [
    "print(res)"
   ]
  },
  {
   "cell_type": "code",
   "execution_count": null,
   "metadata": {
    "collapsed": true
   },
   "outputs": [],
   "source": [
    "for atom in res:\n",
    "    print(f\"{atom.name}\")"
   ]
  },
  {
   "cell_type": "markdown",
   "metadata": {},
   "source": [
    "Putting it all together, we can print every atom in every chain."
   ]
  },
  {
   "cell_type": "code",
   "execution_count": null,
   "metadata": {
    "collapsed": true
   },
   "outputs": [],
   "source": [
    "for model in structure:\n",
    "    for chain in model:\n",
    "        for residue in chain:\n",
    "            for atom in residue:\n",
    "                print(atom)"
   ]
  },
  {
   "cell_type": "markdown",
   "metadata": {},
   "source": [
    "# Mini project: find the dopamine binding pockets\n",
    "\n",
    "Let's say I want to design a drug that binds to the transporter and blocks it from binding to dopamine.\n",
    "\n",
    "This should have the effect of making people happier because dopamine now won't be removed from the synapses.\n",
    "\n",
    "Actually, that's exactly what many antidepressants and narcotics (cocaine, amphetamines) do.\n",
    "\n",
    "In order to do this, we need to know which residues dopamine binds so we can design a chemical that targets these kinds of residues.\n",
    "\n",
    "## mmCIF annotations\n",
    "\n",
    "mmCIF files are like dictionaries with key:value pairs.\n",
    "\n",
    "When we parsed the file above, we really only got the structure info, but there is a lot more information that we can access by parsing a little differently.\n"
   ]
  },
  {
   "cell_type": "markdown",
   "metadata": {},
   "source": [
    "MMCIF files have a ton of information and they look like this:\n",
    "\n",
    "```\n",
    "# \n",
    "loop_\n",
    "_pdbx_nonpoly_scheme.asym_id \n",
    "_pdbx_nonpoly_scheme.entity_id \n",
    "_pdbx_nonpoly_scheme.mon_id \n",
    "_pdbx_nonpoly_scheme.ndb_seq_num \n",
    "_pdbx_nonpoly_scheme.pdb_seq_num \n",
    "_pdbx_nonpoly_scheme.auth_seq_num \n",
    "_pdbx_nonpoly_scheme.pdb_mon_id \n",
    "_pdbx_nonpoly_scheme.auth_mon_id \n",
    "_pdbx_nonpoly_scheme.pdb_strand_id \n",
    "_pdbx_nonpoly_scheme.pdb_ins_code \n",
    "D 4  NA  1  701 701 NA  NA  A . \n",
    "E 4  NA  1  702 702 NA  NA  A . \n",
    "F 5  CL  1  703 704 CL  CL  A . \n",
    "G 6  MAL 1  704 1   MAL MAL A . \n",
    "H 6  MAL 1  705 2   MAL MAL A . \n",
    "I 7  NAG 1  706 1   NAG NAG A . \n",
    "J 8  P4G 1  707 1   P4G P4G A . \n",
    "K 9  LDP 1  708 2   LDP LDP A . \n",
    "```\n",
    "\n",
    "This happens to be an entry for \"non-polymer\" entities aka ligands/chemicals.\n",
    "\n",
    "There are 10 `_pdbx_nonpoly_scheme..` headers. Each corresponds to a label for the columns in the entries below.\n",
    "\n",
    "So `_pdbx_nonpoly_scheme.mon_id` corresponds to the third column which is the `id` of the ligand.\n",
    "\n",
    "The `loop_` means, when parsing, loop over all the rows for each column label to make a list.\n",
    "\n",
    "For example: `_pdbx_nonpoly_scheme.asym_id ` after looping would map to: `['D', 'E', 'F', 'G', ...]`\n",
    "\n",
    "We're interested in `LDP` which is dopamine, but we see that there are others.\n",
    "\n",
    "BioPython lets us parse this information into a dictionary."
   ]
  },
  {
   "cell_type": "code",
   "execution_count": null,
   "metadata": {
    "collapsed": true
   },
   "outputs": [],
   "source": [
    "struc_dict = MMCIF2Dict.MMCIF2Dict('xp/4xp1.cif')"
   ]
  },
  {
   "cell_type": "code",
   "execution_count": null,
   "metadata": {
    "collapsed": true
   },
   "outputs": [],
   "source": [
    "print(struc_dict.keys())"
   ]
  },
  {
   "cell_type": "markdown",
   "metadata": {},
   "source": [
    "As you can see we have tons of keys.\n",
    "\n",
    "Binding sites are often annotated by the researches in their mmCIF files.\n",
    "\n",
    "```\n",
    "loop_\n",
    "_struct_site.id \n",
    "_struct_site.pdbx_evidence_code \n",
    "_struct_site.pdbx_auth_asym_id \n",
    "_struct_site.pdbx_auth_comp_id \n",
    "_struct_site.pdbx_auth_seq_id \n",
    "_struct_site.pdbx_auth_ins_code \n",
    "_struct_site.pdbx_num_residues \n",
    "_struct_site.details \n",
    "AC1 Software A NA  701 ? 5 'binding site for residue NA A 701'                             \n",
    "AC2 Software A NA  702 ? 5 'binding site for residue NA A 702'                             \n",
    "AC3 Software A CL  703 ? 4 'binding site for residue CL A 703'                             \n",
    "AC4 Software A MAL 704 ? 4 'binding site for residue MAL A 704'                            \n",
    "AC5 Software A MAL 705 ? 4 'binding site for residue MAL A 705'                            \n",
    "AC6 Software A P4G 707 ? 1 'binding site for residue P4G A 707'                            \n",
    "AC7 Software A LDP 708 ? 9 'binding site for residue LDP A 708'                            \n",
    "AC8 Software A EDO 709 ? 2 'binding site for residue EDO A 709'                            \n",
    "AC9 Software A Y01 710 ? 4 'binding site for residue Y01 A 710'                            \n",
    "AD1 Software A CLR 711 ? 5 'binding site for residue CLR A 711'                            \n",
    "AD2 Software L NA  301 ? 4 'binding site for residue NA L 301'                             \n",
    "AD3 Software A NAG 706 ? 1 'binding site for Mono-Saccharide NAG A 706 bound to ASN A 141' \n",
    "```"
   ]
  },
  {
   "cell_type": "code",
   "execution_count": null,
   "metadata": {
    "collapsed": true
   },
   "outputs": [],
   "source": [
    "struc_dict['_struct_site.details']"
   ]
  },
  {
   "cell_type": "markdown",
   "metadata": {},
   "source": [
    "So the binding site for LDP has ID `AC7`."
   ]
  },
  {
   "cell_type": "markdown",
   "metadata": {},
   "source": [
    "Now if we look at another entry in the mmCIF we can get a list of all the residues in each binding site:\n",
    "\n",
    "```\n",
    "loop_\n",
    "_struct_site_gen.id \n",
    "_struct_site_gen.site_id \n",
    "_struct_site_gen.pdbx_num_res \n",
    "_struct_site_gen.label_comp_id \n",
    "_struct_site_gen.label_asym_id \n",
    "_struct_site_gen.label_seq_id \n",
    "_struct_site_gen.pdbx_auth_ins_code \n",
    "_struct_site_gen.auth_comp_id \n",
    "_struct_site_gen.auth_asym_id \n",
    "_struct_site_gen.auth_seq_id \n",
    "_struct_site_gen.label_atom_id \n",
    "_struct_site_gen.label_alt_id \n",
    "_struct_site_gen.symmetry \n",
    "_struct_site_gen.details \n",
    "1  AC1 5 ALA A 20  ? ALA A 44  . ? 1_555 ? \n",
    "2  AC1 5 ASN A 25  ? ASN A 49  . ? 1_555 ? \n",
    "3  AC1 5 SER A 255 ? SER A 320 . ? 1_555 ? \n",
    "4  AC1 5 ASN A 287 ? ASN A 352 . ? 1_555 ? \n",
    "5  AC1 5 HOH P .   ? HOH A 814 . ? 1_555 ? \n",
    "...\n",
    "...\n",
    "```"
   ]
  },
  {
   "cell_type": "markdown",
   "metadata": {},
   "source": [
    "There are other useful entries such as the title of the publication that this structure was featured in."
   ]
  },
  {
   "cell_type": "code",
   "execution_count": null,
   "metadata": {
    "collapsed": true
   },
   "outputs": [],
   "source": [
    "struc_dict['_citation.title']"
   ]
  },
  {
   "cell_type": "markdown",
   "metadata": {},
   "source": [
    "All entry types are documented [here](http://mmcif.wwpdb.org/dictionaries/mmcif_pdbx_v50.dic/Index/).\n",
    "\n",
    "Let's extract all residues in the LDP binding site."
   ]
  },
  {
   "cell_type": "code",
   "execution_count": null,
   "metadata": {
    "collapsed": true
   },
   "outputs": [],
   "source": [
    "site_ID = struc_dict['_struct_site_gen.site_id']\n",
    "site_chain = struc_dict['_struct_site_gen.auth_asym_id']\n",
    "site_resnum = struc_dict['_struct_site_gen.auth_seq_id']\n",
    "site_resname = struc_dict['_struct_site_gen.label_comp_id']\n",
    "\n",
    "cif_binding_residues = []\n",
    "for bind_id, ch, num, name in zip(site_ID, site_chain, site_resnum, site_resname):\n",
    "    if bind_id == \"AC7\":\n",
    "        print(bind_id, ch, num, name)\n",
    "        try:\n",
    "            cif_binding_residues.append(structure[0][ch][int(num)])\n",
    "        except:\n",
    "            continue\n",
    "    else:\n",
    "        continue"
   ]
  },
  {
   "cell_type": "markdown",
   "metadata": {},
   "source": [
    "Let's say we don't trust this annotation. We can compute our own ligand binding site and compare.\n",
    "\n",
    "NOTE: Obviously we could have done this directly with the `structure` object we obtained earlier.\n",
    "\n",
    "### Step 1: Find the LDP residue\n",
    "\n",
    "We can get all the residues of a model using the `model.get_residues()` method."
   ]
  },
  {
   "cell_type": "code",
   "execution_count": null,
   "metadata": {
    "collapsed": true
   },
   "outputs": [],
   "source": [
    "#finding LDP residue\n",
    "LDP = None\n",
    "for res in structure[0].get_residues():\n",
    "    if res.resname == \"LDP\":\n",
    "        LDP = res\n",
    "print(LDP)"
   ]
  },
  {
   "cell_type": "markdown",
   "metadata": {},
   "source": [
    "### Step 2: find all other residues within a certain distance cutoff\n",
    "\n",
    "Let's set a distance cutoff of 10 Angstroms.\n",
    "\n",
    "We will count as binding residues any residue whose $\\alpha$-carbon is within 10 Angstrom of any atom in LDP.\n",
    "\n",
    "BioPython gives us a vector of X, Y, Z coordinates for every atom in the residue.\n",
    "\n",
    "Let's get the X, Y, Z coordinates of the alpha carbon of residue 56 in chain A.\n",
    "\n",
    "For this, we use the `coord` attribute."
   ]
  },
  {
   "cell_type": "code",
   "execution_count": null,
   "metadata": {
    "collapsed": true
   },
   "outputs": [],
   "source": [
    "res_1_CA = structure[0]['A'][56]['CA']\n",
    "print(res_1_CA.coord)"
   ]
  },
  {
   "cell_type": "markdown",
   "metadata": {},
   "source": [
    "Now we can use this to compute distances!"
   ]
  },
  {
   "cell_type": "markdown",
   "metadata": {},
   "source": [
    "Let's take another atom."
   ]
  },
  {
   "cell_type": "code",
   "execution_count": null,
   "metadata": {
    "collapsed": true
   },
   "outputs": [],
   "source": [
    "res_2_CA = structure[0]['A'][327]['CA']\n",
    "print(res_2.coord)"
   ]
  },
  {
   "cell_type": "markdown",
   "metadata": {},
   "source": [
    "The difference between the coordinates will be a 3D vector."
   ]
  },
  {
   "cell_type": "code",
   "execution_count": null,
   "metadata": {
    "collapsed": true
   },
   "outputs": [],
   "source": [
    "diff = res_1_CA.coord - res_2_CA.coord\n",
    "print(diff)"
   ]
  },
  {
   "cell_type": "markdown",
   "metadata": {},
   "source": [
    "To get positive values we square the vector and then take the square root."
   ]
  },
  {
   "cell_type": "code",
   "execution_count": null,
   "metadata": {
    "collapsed": true
   },
   "outputs": [],
   "source": [
    "import numpy as np\n",
    "dist = np.sqrt(diff * diff)\n",
    "print(dist)"
   ]
  },
  {
   "cell_type": "markdown",
   "metadata": {},
   "source": [
    "We now have the distance along each axis between the two CA atoms of the two residues.\n",
    "\n",
    "We can apply this to every residue."
   ]
  },
  {
   "cell_type": "code",
   "execution_count": null,
   "metadata": {
    "collapsed": true
   },
   "outputs": [],
   "source": [
    "cutoff = 10\n",
    "\n",
    "binding_residues = []\n",
    "\n",
    "for res in structure[0].get_residues():\n",
    "    #skip the LDP residue\n",
    "    if res == LDP:\n",
    "        continue\n",
    "    #non-amino acid residues are tagged with an 'H' in their id tuple\n",
    "    #we want to skip these\n",
    "    elif res.id[0].startswith(\"H\"):\n",
    "        continue\n",
    "    else:\n",
    "        alpha_carbon = res['CA']\n",
    "        distances = []\n",
    "        for atom in LDP:\n",
    "            #subtract the two position vectors\n",
    "            diff_vector = alpha_carbon.coord - atom.coord\n",
    "            #to get a positive value we square the difference vector\n",
    "            #we then take the square root to go back to the original scale\n",
    "            distances.append(np.sqrt(np.sum(diff_vector * diff_vector)))\n",
    "        #we get the nearest atom using min(distances) and see if it falls inside\n",
    "        #the cutoff\n",
    "        if min(distances) < cutoff:\n",
    "            binding_residues.append(res)"
   ]
  },
  {
   "cell_type": "code",
   "execution_count": null,
   "metadata": {
    "collapsed": true
   },
   "outputs": [],
   "source": [
    "print(binding_residues)"
   ]
  },
  {
   "cell_type": "code",
   "execution_count": null,
   "metadata": {
    "collapsed": true
   },
   "outputs": [],
   "source": [
    "#view = nv.demo()\n",
    "view = nv.show_biopython(structure)\n",
    "\n",
    "# use hex values for now.\n",
    "residues = structure[0].get_residues()\n",
    "#this is a bit of a hack to set the binding residues to red in the visualization\n",
    "colors = ['0x0000FF' if r not in binding_residues else '0xFF0000' for r in residues]\n",
    "view._set_color_by_residue(colors, component_index=0, repr_index=0)\n",
    "view"
   ]
  },
  {
   "cell_type": "markdown",
   "metadata": {},
   "source": [
    "Ok now let's compare this to our list of residues obtained from the mmCIF annotations."
   ]
  },
  {
   "cell_type": "code",
   "execution_count": null,
   "metadata": {
    "collapsed": true
   },
   "outputs": [],
   "source": [
    "view = nv.show_biopython(structure)\n",
    "\n",
    "# use hex values for now.\n",
    "residues = structure[0].get_residues()\n",
    "#this is a bit of a hack to set the binding residues to red in the visualization\n",
    "colors = ['0x0000FF' if r not in cif_binding_residues else '0xFF0000' for r in residues]\n",
    "view._set_color_by_residue(colors, component_index=0, repr_index=0)\n",
    "view"
   ]
  },
  {
   "cell_type": "markdown",
   "metadata": {},
   "source": [
    "It looks like we were maybe a bit too permissive with our distance cutoff."
   ]
  }
 ],
 "metadata": {
  "kernelspec": {
   "display_name": "Python 3",
   "language": "python",
   "name": "python3"
  },
  "language_info": {
   "codemirror_mode": {
    "name": "ipython",
    "version": 3
   },
   "file_extension": ".py",
   "mimetype": "text/x-python",
   "name": "python",
   "nbconvert_exporter": "python",
   "pygments_lexer": "ipython3",
   "version": "3.6.2"
  }
 },
 "nbformat": 4,
 "nbformat_minor": 2
}
