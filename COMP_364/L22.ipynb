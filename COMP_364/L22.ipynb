{
 "cells": [
  {
   "cell_type": "markdown",
   "metadata": {},
   "source": [
    "# COMP 364: Object Oriented Programming (OOP) Pt. I\n",
    "\n",
    "### FYI From Last Lecture\n",
    "\n",
    "If you want to try the Twitter example, here is how to do the authentication.\n",
    "\n",
    "1. Register here https://apps.twitter.com/\n",
    "2. Go to “Keys and Access Tokens” tab, and copy your “API key” and “API secret”. Scroll down and click “Create my access token”, and copy your “Access token” and “Access token secret”.\n",
    "3. `pip install requests_oauthlib`\n",
    "3. Include this in your code:\n",
    "\n",
    "```python\n",
    ">>> import requests\n",
    ">>> from requests_oauthlib import OAuth1\n",
    "\n",
    ">>> url = 'https://api.twitter.com/1.1/account/verify_credentials.json'\n",
    "#replace placeholders with your keys from registering with Twitter\n",
    ">>> auth = OAuth1('YOUR_APP_KEY', 'YOUR_APP_SECRET',\n",
    "...               'USER_OAUTH_TOKEN', 'USER_OAUTH_TOKEN_SECRET')\n",
    "\n",
    ">>> requests.get(url, auth=auth)\n",
    "<Response [200]>\n",
    "```\n",
    "\n",
    "## What is OOP?\n",
    "\n",
    "Let us turn to the Bible.\n",
    "\n",
    "\"And God made the beast of the earth after his kind, and cattle after their kind, and every thing that creepeth upon the earth after his kind: and God saw that it was good.\" -- Genesis 1:25 (King James Bible)\n",
    "\n",
    "\"God made all sorts of wild animals, livestock, and small animals, each able to **produce offspring of the same kind**. And God saw that it was good.\" -- Genesis 1:25 (New Living Translation)\n",
    "\n",
    "OOP is a programming paradigm that lets us organize/create data according its kind.\n",
    "\n",
    "Lets us think about programming in a very natural and intuitive way.\n",
    "\n",
    "[Useful reading](https://docs.python.org/3/reference/datamodel.html)\n"
   ]
  },
  {
   "cell_type": "markdown",
   "metadata": {},
   "source": [
    "For example, all lists can have objects appended to them."
   ]
  },
  {
   "cell_type": "code",
   "execution_count": 32,
   "metadata": {},
   "outputs": [
    {
     "name": "stdout",
     "output_type": "stream",
     "text": [
      "[1, 2]\n"
     ]
    }
   ],
   "source": [
    "mylist = [1]\n",
    "mylist.append(2)\n",
    "print(mylist)"
   ]
  },
  {
   "cell_type": "markdown",
   "metadata": {},
   "source": [
    "But we can't append to an object of type integer. \n",
    "\n",
    "That would be behaviour that is *not* according to its kind. God says that is not good."
   ]
  },
  {
   "cell_type": "code",
   "execution_count": 33,
   "metadata": {},
   "outputs": [
    {
     "ename": "AttributeError",
     "evalue": "'int' object has no attribute 'append'",
     "output_type": "error",
     "traceback": [
      "\u001b[0;31m---------------------------------------------------------------------------\u001b[0m",
      "\u001b[0;31mAttributeError\u001b[0m                            Traceback (most recent call last)",
      "\u001b[0;32m<ipython-input-33-7a1f00d403a2>\u001b[0m in \u001b[0;36m<module>\u001b[0;34m()\u001b[0m\n\u001b[1;32m      1\u001b[0m \u001b[0mx\u001b[0m \u001b[0;34m=\u001b[0m \u001b[0;36m2\u001b[0m\u001b[0;34m\u001b[0m\u001b[0m\n\u001b[0;32m----> 2\u001b[0;31m \u001b[0mx\u001b[0m\u001b[0;34m.\u001b[0m\u001b[0mappend\u001b[0m\u001b[0;34m(\u001b[0m\u001b[0;36m3\u001b[0m\u001b[0;34m)\u001b[0m\u001b[0;34m\u001b[0m\u001b[0m\n\u001b[0m",
      "\u001b[0;31mAttributeError\u001b[0m: 'int' object has no attribute 'append'"
     ]
    }
   ],
   "source": [
    "x = 2\n",
    "x.append(3)"
   ]
  },
  {
   "cell_type": "markdown",
   "metadata": {},
   "source": [
    "Different object **types** have different **attributes**, according to their kind."
   ]
  },
  {
   "cell_type": "markdown",
   "metadata": {},
   "source": [
    "We've gone pretty far in the course using types that Python has made for us. \n",
    "\n",
    "But the point of today is to learn how we can define our own classes.\n",
    "\n",
    "In Python, type $\\iff$ class.\n",
    "\n",
    "# Defining a Class\n",
    "\n",
    "The statement `class` is used to create a class. \n",
    "\n",
    "Like a function definition, anything tabbed in belongs to the **class definition**.\n",
    "\n",
    "Here is the most basic class definition possible:"
   ]
  },
  {
   "cell_type": "code",
   "execution_count": 72,
   "metadata": {
    "collapsed": true
   },
   "outputs": [],
   "source": [
    "class Foo:\n",
    "    pass"
   ]
  },
  {
   "cell_type": "markdown",
   "metadata": {},
   "source": [
    "We defined a class, or a type, that we called `Foo` and pretty much left the definition empty otherwise.\n",
    "\n",
    "Now we can create objects of type `Foo`.\n",
    "\n",
    "Once you defined a class, you can create an object of that type using the class name as a function.\n",
    "\n",
    "Doing this creates an **instance** of the class Foo. \n",
    "\n",
    "For example, each person is an **instance** of the imaginary class \"Human\"."
   ]
  },
  {
   "cell_type": "code",
   "execution_count": 98,
   "metadata": {
    "collapsed": true
   },
   "outputs": [],
   "source": [
    "#create an instance of the type Foo\n",
    "myfoo = Foo()\n",
    "#create another instance of type Foo\n",
    "myotherfoo = Foo()"
   ]
  },
  {
   "cell_type": "code",
   "execution_count": 101,
   "metadata": {},
   "outputs": [
    {
     "name": "stdout",
     "output_type": "stream",
     "text": [
      "My object is of type: <class '__main__.Foo'>\n",
      "The id of my object is: 4578050176\n"
     ]
    }
   ],
   "source": [
    "print(f\"My object is of type: {type(myfoo)}\")\n",
    "print(f\"The id of my object is: {id(myfoo)}\")\n"
   ]
  },
  {
   "cell_type": "code",
   "execution_count": 102,
   "metadata": {},
   "outputs": [
    {
     "name": "stdout",
     "output_type": "stream",
     "text": [
      "The other instance's id is: 4578050344\n",
      "myfoo and myotherfoo are the same type: True\n"
     ]
    }
   ],
   "source": [
    "print(f\"The other instance's id is: {id(myotherfoo)}\")\n",
    "print(f\"myfoo and myotherfoo are the same type: {type(myfoo) == type(myotherfoo)}\")"
   ]
  },
  {
   "cell_type": "markdown",
   "metadata": {
    "collapsed": true
   },
   "source": [
    "Like an object's `id`, the `type` of an object can <span style=\"color:red\"> never change </span>"
   ]
  },
  {
   "cell_type": "markdown",
   "metadata": {},
   "source": [
    "Classes are also objects but let's not go down that rabbit hole. If you're interested, look up \"Metaprogramming\"."
   ]
  },
  {
   "cell_type": "code",
   "execution_count": 73,
   "metadata": {},
   "outputs": [
    {
     "data": {
      "text/plain": [
       "type"
      ]
     },
     "execution_count": 73,
     "metadata": {},
     "output_type": "execute_result"
    }
   ],
   "source": [
    "type(Foo)"
   ]
  },
  {
   "cell_type": "markdown",
   "metadata": {},
   "source": [
    "So we were able to create an object but we didn't actually *code* anything...\n",
    "\n",
    "Clearly there is some magic going on here.\n",
    "\n",
    "# Class Hierarchies\n",
    "\n",
    "We can often understand the world as a hierarchy of types.\n",
    "\n",
    "\n",
    "![](http://www.blueoakmountaintech.com/DLF_Book.html/images/DLF_Chapter_515.gif)\n",
    "\n",
    "More specifically, *derived* classes *inherit* the properties of *base* classes. \n",
    "\n",
    "For example: dog types have all the properties of the animal class which has all the properties of the 'living-thing' class, etc.\n",
    "\n",
    "\n",
    "________\n",
    "\n",
    "Types in Python work the same way. \n",
    "\n",
    "In Python, the class hierarchy looks more like this:\n",
    "\n",
    "\n",
    "![](https://i.stack.imgur.com/33Zt8.png)\n",
    "\n",
    "\n",
    "Whenever we create a new class, it *inherits* the attributes of the class **object** (the most generic class).\n",
    "\n",
    "This makes `object` the *base* class of `Foo`."
   ]
  },
  {
   "cell_type": "markdown",
   "metadata": {
    "collapsed": true
   },
   "source": [
    "The **object** class contains some methods that let us create new objects.\n",
    "\n",
    "### Creating a new object\n",
    "\n",
    "The `object` class has a method called `__new__()` which creates new objects of a given type and **returns** it.\n",
    "\n",
    "This is what is used to create new objects."
   ]
  },
  {
   "cell_type": "code",
   "execution_count": 109,
   "metadata": {
    "collapsed": true
   },
   "outputs": [],
   "source": [
    "myfoo = object.__new__(Foo)\n",
    "type(myfoo)"
   ]
  },
  {
   "cell_type": "markdown",
   "metadata": {},
   "source": [
    "Is (partially) equivalent to .."
   ]
  },
  {
   "cell_type": "code",
   "execution_count": 111,
   "metadata": {},
   "outputs": [],
   "source": [
    "myfoo = Foo()"
   ]
  },
  {
   "cell_type": "markdown",
   "metadata": {},
   "source": [
    "### Initializing an object\n",
    "\n",
    "Once an object is created, it is like a blank slate.\n",
    "\n",
    "In order for it to be useful we have to give it some attributes.\n",
    "\n",
    "This is done by the `__init__` method. Which is short for **initialization**.\n",
    "\n",
    "`__init__(self, *args, **kwargs)` takes as input an instance of the class, given the name `self` here and returns nothing. It just sets attributes.\n",
    "\n",
    "e.g. It lets us do something like this:\n",
    "```python\n",
    ">>> x = 5\n",
    "#numerator is an attribute of integer objects\n",
    ">>> s.numerator\n",
    "5\n",
    ">>> s.denominator\n",
    "0\n",
    "```"
   ]
  },
  {
   "cell_type": "markdown",
   "metadata": {},
   "source": [
    "So what's really happening when we do `myfoo = Foo()` is the base class `__new__` method is called to create a new object.\n",
    "\n",
    "Then the `__init__()` method is called to set its attributes."
   ]
  },
  {
   "cell_type": "code",
   "execution_count": 131,
   "metadata": {
    "collapsed": true
   },
   "outputs": [],
   "source": [
    "myfoo = object.__new__(Foo)\n",
    "object.__init__(myfoo)\n",
    "#now the object is fully created"
   ]
  },
  {
   "cell_type": "markdown",
   "metadata": {},
   "source": [
    "### Overriding\n",
    "\n",
    "Since `Foo` is actually using the `__init__` method from the `object` class we get a very boring looking object that is the most generic type of data we can create.\n",
    "\n",
    "If we want to customize our object, we have to re-define or **override** the `__init__` method inside our class definition.\n",
    "\n",
    "Python will always use the definition of a method of the derived class before the base class if it is defined.\n",
    "\n",
    "So let's redefine our class."
   ]
  },
  {
   "cell_type": "code",
   "execution_count": 126,
   "metadata": {},
   "outputs": [],
   "source": [
    "class Foo:\n",
    "    def __init__(self, n):\n",
    "        self.name = n"
   ]
  },
  {
   "cell_type": "markdown",
   "metadata": {},
   "source": [
    "Now when I create an object, I can pass an argument and the `__init__` method I defined will be used instead of the generic `object` method.\n",
    "\n",
    "We have **overridden** the base method definition for our own."
   ]
  },
  {
   "cell_type": "code",
   "execution_count": 127,
   "metadata": {},
   "outputs": [],
   "source": [
    "myfoo = Foo(\"Carlos\")"
   ]
  },
  {
   "cell_type": "code",
   "execution_count": 128,
   "metadata": {},
   "outputs": [
    {
     "data": {
      "text/plain": [
       "'Carlos'"
      ]
     },
     "execution_count": 128,
     "metadata": {},
     "output_type": "execute_result"
    }
   ],
   "source": [
    "myfoo.name"
   ]
  },
  {
   "cell_type": "markdown",
   "metadata": {},
   "source": [
    "### Instance and Class Attributes\n",
    "\n",
    "What we've done is define something known as an **instance attribute**.\n",
    "\n",
    "All instances of the class `Foo` will have a `name` attribute (or instance variable) but their values are independent of each other."
   ]
  },
  {
   "cell_type": "code",
   "execution_count": 132,
   "metadata": {},
   "outputs": [
    {
     "name": "stdout",
     "output_type": "stream",
     "text": [
      "Plato\n",
      "Socrates\n"
     ]
    }
   ],
   "source": [
    "a = Foo(\"Plato\")\n",
    "b = Foo(\"Socrates\")\n",
    "\n",
    "print(a.name)\n",
    "print(b.name)"
   ]
  },
  {
   "cell_type": "markdown",
   "metadata": {},
   "source": [
    "`a` and `b` are both **instances** of the class Foo so they both have a name but their `name` attributes are different.\n",
    "\n",
    "We can also define data that is common to all **instances** of a class. These are known as **class attributes**.\n",
    "\n",
    "**Class attributes** are defined outside any function definitions of a class."
   ]
  },
  {
   "cell_type": "code",
   "execution_count": 136,
   "metadata": {
    "collapsed": true
   },
   "outputs": [],
   "source": [
    "class Family():\n",
    "    address = \"1234 Elm St.\"\n",
    "    family_members = 0\n",
    "    def __init__(self, n):\n",
    "        self.name = n\n",
    "        \n",
    "        Family.family_members += 1"
   ]
  },
  {
   "cell_type": "code",
   "execution_count": 139,
   "metadata": {
    "collapsed": true
   },
   "outputs": [],
   "source": [
    "alice = Family(\"Alice\")\n",
    "bob = Family(\"Bob\")"
   ]
  },
  {
   "cell_type": "code",
   "execution_count": 140,
   "metadata": {},
   "outputs": [
    {
     "name": "stdout",
     "output_type": "stream",
     "text": [
      "Alice\n",
      "Bob\n",
      "1234 Elm St.\n",
      "4\n"
     ]
    }
   ],
   "source": [
    "print(alice.name)\n",
    "print(bob.name)\n",
    "print(Family.address)\n",
    "print(Family.family_members)"
   ]
  },
  {
   "cell_type": "markdown",
   "metadata": {},
   "source": [
    "You are not limited to having attributes defined in `__init__(self)`. \n",
    "\n",
    "At any point later in your code you can create and set new attributes.\n",
    "\n",
    "The purpose of `__init__(self)` is to ensure that **all** instances of a class have some common data."
   ]
  },
  {
   "cell_type": "code",
   "execution_count": 141,
   "metadata": {
    "collapsed": true
   },
   "outputs": [],
   "source": [
    "alice.sex = \"F\""
   ]
  },
  {
   "cell_type": "code",
   "execution_count": 142,
   "metadata": {},
   "outputs": [
    {
     "name": "stdout",
     "output_type": "stream",
     "text": [
      "F\n"
     ]
    }
   ],
   "source": [
    "print(alice.sex)"
   ]
  },
  {
   "cell_type": "code",
   "execution_count": 143,
   "metadata": {},
   "outputs": [
    {
     "ename": "AttributeError",
     "evalue": "'Family' object has no attribute 'sex'",
     "output_type": "error",
     "traceback": [
      "\u001b[0;31m---------------------------------------------------------------------------\u001b[0m",
      "\u001b[0;31mAttributeError\u001b[0m                            Traceback (most recent call last)",
      "\u001b[0;32m<ipython-input-143-c81fa51fa28a>\u001b[0m in \u001b[0;36m<module>\u001b[0;34m()\u001b[0m\n\u001b[0;32m----> 1\u001b[0;31m \u001b[0mprint\u001b[0m\u001b[0;34m(\u001b[0m\u001b[0mbob\u001b[0m\u001b[0;34m.\u001b[0m\u001b[0msex\u001b[0m\u001b[0;34m)\u001b[0m\u001b[0;34m\u001b[0m\u001b[0m\n\u001b[0m",
      "\u001b[0;31mAttributeError\u001b[0m: 'Family' object has no attribute 'sex'"
     ]
    }
   ],
   "source": [
    "print(bob.sex)"
   ]
  },
  {
   "cell_type": "markdown",
   "metadata": {},
   "source": [
    "As you know, object attributes can also be executable i.e. functions."
   ]
  },
  {
   "cell_type": "code",
   "execution_count": 144,
   "metadata": {
    "collapsed": true
   },
   "outputs": [],
   "source": [
    "class DNA:\n",
    "    def __init__(self, seq):\n",
    "        self.sequence = seq\n",
    "    def compute_GC(self):\n",
    "        return len([n for n in self.sequence if n in {\"G\", \"C\"}]) / len(self.sequence)"
   ]
  },
  {
   "cell_type": "markdown",
   "metadata": {},
   "source": [
    "The function `dir(object)` tells us the accessible attributes of an object."
   ]
  },
  {
   "cell_type": "code",
   "execution_count": 146,
   "metadata": {},
   "outputs": [
    {
     "data": {
      "text/plain": [
       "['__class__',\n",
       " '__delattr__',\n",
       " '__dict__',\n",
       " '__dir__',\n",
       " '__doc__',\n",
       " '__eq__',\n",
       " '__format__',\n",
       " '__ge__',\n",
       " '__getattribute__',\n",
       " '__gt__',\n",
       " '__hash__',\n",
       " '__init__',\n",
       " '__init_subclass__',\n",
       " '__le__',\n",
       " '__lt__',\n",
       " '__module__',\n",
       " '__ne__',\n",
       " '__new__',\n",
       " '__reduce__',\n",
       " '__reduce_ex__',\n",
       " '__repr__',\n",
       " '__setattr__',\n",
       " '__sizeof__',\n",
       " '__str__',\n",
       " '__subclasshook__',\n",
       " '__weakref__',\n",
       " 'compute_GC',\n",
       " 'sequence']"
      ]
     },
     "execution_count": 146,
     "metadata": {},
     "output_type": "execute_result"
    }
   ],
   "source": [
    "d = DNA(\"AACCGG\")\n",
    "dir(d)"
   ]
  },
  {
   "cell_type": "code",
   "execution_count": 147,
   "metadata": {},
   "outputs": [
    {
     "data": {
      "text/plain": [
       "0.6666666666666666"
      ]
     },
     "execution_count": 147,
     "metadata": {},
     "output_type": "execute_result"
    }
   ],
   "source": [
    "d.compute_GC()"
   ]
  },
  {
   "cell_type": "code",
   "execution_count": 148,
   "metadata": {},
   "outputs": [
    {
     "data": {
      "text/plain": [
       "0.0"
      ]
     },
     "execution_count": 148,
     "metadata": {},
     "output_type": "execute_result"
    }
   ],
   "source": [
    "b = DNA(\"AAAAAAAA\")\n",
    "b.compute_GC()"
   ]
  },
  {
   "cell_type": "markdown",
   "metadata": {},
   "source": [
    "There are many other functions that are defined for us that we can override to do cool things."
   ]
  },
  {
   "cell_type": "code",
   "execution_count": 149,
   "metadata": {
    "collapsed": true
   },
   "outputs": [],
   "source": [
    "class WeirdNumber:\n",
    "    def __init__(self, n):\n",
    "        self.num = n\n",
    "    def __add__(self, other):\n",
    "        return self.num / other.num"
   ]
  },
  {
   "cell_type": "code",
   "execution_count": 150,
   "metadata": {},
   "outputs": [
    {
     "data": {
      "text/plain": [
       "1.5"
      ]
     },
     "execution_count": 150,
     "metadata": {},
     "output_type": "execute_result"
    }
   ],
   "source": [
    "w = WeirdNumber(3)\n",
    "x = WeirdNumber(2)\n",
    "\n",
    "w + x"
   ]
  },
  {
   "cell_type": "markdown",
   "metadata": {},
   "source": [
    "Now we know that the `+` operator calls the `__add__` **instance method** of the two objects being added.\n",
    "\n",
    "**Instance methods always** take as input an instance of the class. Hence, the mandatory `self` positional argument.\n",
    "\n",
    "`self` is implicitly passed through the `.` operator."
   ]
  },
  {
   "cell_type": "code",
   "execution_count": 151,
   "metadata": {
    "collapsed": true
   },
   "outputs": [],
   "source": [
    "class Foo:\n",
    "    def print_self(self):\n",
    "        print(self)"
   ]
  },
  {
   "cell_type": "code",
   "execution_count": 154,
   "metadata": {},
   "outputs": [
    {
     "name": "stdout",
     "output_type": "stream",
     "text": [
      "<__main__.Foo object at 0x110ddc898>\n"
     ]
    }
   ],
   "source": [
    "f = Foo()\n",
    "f.print_self()"
   ]
  },
  {
   "cell_type": "markdown",
   "metadata": {},
   "source": [
    "## Summary\n",
    "\n",
    "Classes define types of objects that share some common attributes.\n",
    "\n",
    "A class can produce instance of itself using the `ClassName(*args, **args)` syntax.\n",
    "\n",
    "When a class instance is created, the `__new__()` and `__init__` methods are used to create the object, and set its attributes initially.\n",
    "\n",
    "If the class definition **overrides** the base class's methods then the **derived** class definition will be used."
   ]
  },
  {
   "cell_type": "code",
   "execution_count": 155,
   "metadata": {
    "collapsed": true
   },
   "outputs": [],
   "source": [
    "import datetime as dt\n",
    "\n",
    "class Book:\n",
    "    def __init__(self, author, title, loaned):\n",
    "        self.author = author\n",
    "        self.title = title\n",
    "        self.loaned = loaned\n",
    "    def borrow(self):\n",
    "        if not self.loaned:\n",
    "            self.loaned = dt.date.today()\n",
    "    def book_return(self, borrow_days=10, late_fee=0.25):\n",
    "        date_loaned = self.loaned()\n",
    "        self.loaned = False\n",
    "        if self.loaned > dt.date.today() + 10:\n",
    "            return (dt.date.today() - self.loaned) * late_fee\n",
    "        else:\n",
    "            return None\n",
    "class Library:\n",
    "    def __init__(self):\n",
    "        self.books = {}\n",
    "    def add_book(self, title, author):\n",
    "        b = Book(author, title, False)\n",
    "        if title not in self.books:\n",
    "            self.books[title] = b"
   ]
  },
  {
   "cell_type": "code",
   "execution_count": 156,
   "metadata": {
    "collapsed": true
   },
   "outputs": [],
   "source": [
    "mylib = Library()\n",
    "mylib.add_book(\"How to Travel with a Salmon\", \"Umberto Eco\")"
   ]
  },
  {
   "cell_type": "code",
   "execution_count": 157,
   "metadata": {},
   "outputs": [
    {
     "name": "stdout",
     "output_type": "stream",
     "text": [
      "{'How to Travel with a Salmon': <__main__.Book object at 0x110dcaac8>}\n"
     ]
    }
   ],
   "source": [
    "print(mylib.books)"
   ]
  },
  {
   "cell_type": "code",
   "execution_count": 159,
   "metadata": {
    "collapsed": true
   },
   "outputs": [],
   "source": [
    "salmon = mylib.books[\"How to Travel with a Salmon\"]"
   ]
  },
  {
   "cell_type": "code",
   "execution_count": 160,
   "metadata": {
    "collapsed": true
   },
   "outputs": [],
   "source": [
    "salmon.borrow()"
   ]
  },
  {
   "cell_type": "code",
   "execution_count": 161,
   "metadata": {},
   "outputs": [
    {
     "data": {
      "text/plain": [
       "datetime.date(2017, 11, 1)"
      ]
     },
     "execution_count": 161,
     "metadata": {},
     "output_type": "execute_result"
    }
   ],
   "source": [
    "salmon.loaned"
   ]
  }
 ],
 "metadata": {
  "kernelspec": {
   "display_name": "Python 3",
   "language": "python",
   "name": "python3"
  },
  "language_info": {
   "codemirror_mode": {
    "name": "ipython",
    "version": 3
   },
   "file_extension": ".py",
   "mimetype": "text/x-python",
   "name": "python",
   "nbconvert_exporter": "python",
   "pygments_lexer": "ipython3",
   "version": "3.6.2"
  }
 },
 "nbformat": 4,
 "nbformat_minor": 1
}
