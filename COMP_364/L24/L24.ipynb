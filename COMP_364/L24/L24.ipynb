{
 "cells": [
  {
   "cell_type": "markdown",
   "metadata": {},
   "source": [
    "# COMP 364: A brief tour of the Standard Library\n",
    "\n",
    "There are three kinds of modules/packages:\n",
    "\n",
    "* Modules you make yourself\n",
    "* Third-party modules (e.g. [matplotlib](https://matplotlib.org/))\n",
    "* Standard library modules\n",
    "\n",
    "Standard library modules come included in Python and they contain many useful tools.\n",
    "\n",
    "They are maintained by the core Python development team so you can count on them being reliable.\n",
    "\n",
    "The Python Standard Library is very extensive, so I will just show you some highlights.\n",
    "\n",
    "Refer to [this](https://docs.python.org/3/tutorial/stdlib.html) and [this](https://docs.python.org/3/library/index.html) for a more complete view on the Standard Library.\n",
    "\n",
    "**Note:** Standard Library packages and modules are NOT the same thing as **built-in** objects (e.g. `print`, `open`, `zip`, `enumerate`). You still have to `import` standard library modules/packages you just don't have to install them from elsewhere.\n",
    "\n"
   ]
  },
  {
   "cell_type": "markdown",
   "metadata": {},
   "source": [
    "## System-related \n",
    "\n",
    "* `sys`: functions and variables working on the Python interpreter\n",
    "* `os`: operating system functionality\n",
    "* `shutil`: file manipulation\n",
    "\n",
    "### `sys`"
   ]
  },
  {
   "cell_type": "code",
   "execution_count": 1,
   "metadata": {},
   "outputs": [
    {
     "name": "stdout",
     "output_type": "stream",
     "text": [
      "Interpreter is located at: /Users/carlosgonzalezoliver/anaconda/envs/py36/bin/python\n",
      "\n",
      "Look for modules in: ['', '/Users/carlosgonzalezoliver/anaconda/envs/py36/lib/python36.zip', '/Users/carlosgonzalezoliver/anaconda/envs/py36/lib/python3.6', '/Users/carlosgonzalezoliver/anaconda/envs/py36/lib/python3.6/lib-dynload', '/Users/carlosgonzalezoliver/anaconda/envs/py36/lib/python3.6/site-packages', '/Users/carlosgonzalezoliver/anaconda/envs/py36/lib/python3.6/site-packages/IPython/extensions', '/Users/carlosgonzalezoliver/.ipython']\n",
      "\n"
     ]
    }
   ],
   "source": [
    "import sys\n",
    "\n",
    "#get the interpreter path\n",
    "print(f\"Interpreter is located at: {sys.executable}\\n\")\n",
    "#get module search path\n",
    "print(f\"Look for modules in: {sys.path}\\n\")\n"
   ]
  },
  {
   "cell_type": "code",
   "execution_count": 2,
   "metadata": {},
   "outputs": [
    {
     "ename": "SystemExit",
     "evalue": "",
     "output_type": "error",
     "traceback": [
      "An exception has occurred, use %tb to see the full traceback.\n",
      "\u001b[0;31mSystemExit\u001b[0m\n"
     ]
    },
    {
     "name": "stderr",
     "output_type": "stream",
     "text": [
      "/Users/carlosgonzalezoliver/anaconda/envs/py36/lib/python3.6/site-packages/IPython/core/interactiveshell.py:2870: UserWarning: To exit: use 'exit', 'quit', or Ctrl-D.\n",
      "  warn(\"To exit: use 'exit', 'quit', or Ctrl-D.\", stacklevel=1)\n"
     ]
    }
   ],
   "source": [
    "#kill the interpreter, stops your program's execution (works better outside of notebooks)\n",
    "sys.exit()"
   ]
  },
  {
   "cell_type": "markdown",
   "metadata": {},
   "source": [
    "### `sys`: command-line arguments\n",
    "\n",
    "Until now we have been getting input from the user in an \"interactive\" way. \n",
    "\n",
    "That is, the program pauses execution and waits for the user to respond to the `input` query.\n",
    "\n",
    "You can also let users give input to your program at the beginning of execution and then execution is never halted.\n",
    "\n",
    "This is done through **command-line arguments**\n",
    "\n",
    "Imagine you have a file `divide.py` that divides two numbers given by the user.\n",
    "\n",
    "Using `input()` we had\n",
    "\n",
    "```python\n",
    "a = int(input(\"Give me the first number: \"))\n",
    "b = int(input(\"Give me the second number: \"))\n",
    "\n",
    "print(a / b)\n",
    "```\n",
    "\n",
    "With command-line arguments, the information is taken **before** execution.\n",
    "\n",
    "```python\n",
    "import sys\n",
    "\n",
    "a = int(sys.argv[1])\n",
    "b = int(sys.argv[2])\n",
    "\n",
    "print(a/b)\n",
    "```\n",
    "\n",
    "From the command line, you would call the program as such:\n",
    "\n",
    "```\n",
    "$ python divide.py 3 2\n",
    "```\n",
    "\n",
    "`sys.argv` stores a list of strings given by the command line.\n",
    "\n",
    "In this case:\n",
    "\n",
    "```python\n",
    "print(sys.argv)\n",
    "```\n",
    "\n",
    "Would produce:\n",
    "\n",
    "```python\n",
    "[\"divide.py\", \"3\", \"2\"]\n",
    "```\n",
    "\n",
    "Command line arguments are often preferred when it is desireable to automate the execution of a program.\n",
    "\n",
    "## `os`\n",
    "\n",
    "This module lets you perform actions related to the operating system.\n",
    "\n"
   ]
  },
  {
   "cell_type": "code",
   "execution_count": 3,
   "metadata": {},
   "outputs": [
    {
     "name": "stdout",
     "output_type": "stream",
     "text": [
      "My operating system type is: posix\n",
      "I am currently in directory: /Users/carlosgonzalezoliver/Projects/Notebooks/COMP_364/L24\n"
     ]
    }
   ],
   "source": [
    "import os\n",
    "\n",
    "print(f\"My operating system type is: {os.name}\")\n",
    "\n",
    "print(f\"I am currently in directory: {os.getcwd()}\")"
   ]
  },
  {
   "cell_type": "markdown",
   "metadata": {},
   "source": [
    "You can also change your current working directory"
   ]
  },
  {
   "cell_type": "code",
   "execution_count": 4,
   "metadata": {},
   "outputs": [
    {
     "data": {
      "text/plain": [
       "'/Users/carlosgonzalezoliver/Projects'"
      ]
     },
     "execution_count": 4,
     "metadata": {},
     "output_type": "execute_result"
    }
   ],
   "source": [
    "os.chdir(\"/Users/carlosgonzalezoliver/Projects\")\n",
    "os.getcwd()"
   ]
  },
  {
   "cell_type": "markdown",
   "metadata": {},
   "source": [
    "You can see what files are in a directory. No arguments means, look in the current directory."
   ]
  },
  {
   "cell_type": "code",
   "execution_count": 5,
   "metadata": {},
   "outputs": [
    {
     "data": {
      "text/plain": [
       "['.DS_Store',\n",
       " '.ipynb_checkpoints',\n",
       " 'AbstractClassification',\n",
       " 'ArXiVDT',\n",
       " 'BGSA_Workshop',\n",
       " 'briancaffey.github.io',\n",
       " 'cgoliver.github.io',\n",
       " 'cminerva',\n",
       " 'Crick',\n",
       " 'dapps',\n",
       " 'Dorys_Whaleish_Dictionary.py',\n",
       " 'ETHDogs',\n",
       " 'Ethereum',\n",
       " 'Euler',\n",
       " 'Git_Talk',\n",
       " 'Git_Tutorial',\n",
       " 'Google',\n",
       " 'haikus',\n",
       " 'Kattis',\n",
       " 'Keras-RCNN',\n",
       " 'Kernels',\n",
       " 'kernelx',\n",
       " 'machine_learning',\n",
       " 'mateRNAl',\n",
       " 'myproject',\n",
       " 'Notebooks',\n",
       " 'Nussinov',\n",
       " 'Pear',\n",
       " 'Pickypedia',\n",
       " 'Plumbing',\n",
       " 'pocketcluster',\n",
       " 'Popgen_sols',\n",
       " 'pyCourses',\n",
       " 'pyMeet',\n",
       " 'RNA',\n",
       " 'RNA-Popgen-Notebook',\n",
       " 'SeizuresBot',\n",
       " 'Test',\n",
       " 'testblog',\n",
       " 'tPPI',\n",
       " 'Voting',\n",
       " 'zminerva']"
      ]
     },
     "execution_count": 5,
     "metadata": {},
     "output_type": "execute_result"
    }
   ],
   "source": [
    "os.listdir()"
   ]
  },
  {
   "cell_type": "markdown",
   "metadata": {},
   "source": [
    "Or you can give a path."
   ]
  },
  {
   "cell_type": "code",
   "execution_count": 6,
   "metadata": {},
   "outputs": [
    {
     "data": {
      "text/plain": [
       "['.ipynb_checkpoints',\n",
       " 'L24.ipynb',\n",
       " 'rand_dict.json',\n",
       " 'rand_dict.pickle',\n",
       " 'test.csv',\n",
       " 'test.txt']"
      ]
     },
     "execution_count": 6,
     "metadata": {},
     "output_type": "execute_result"
    }
   ],
   "source": [
    "os.listdir(\"/Users/carlosgonzalezoliver/Projects/Notebooks/COMP_364/L24\")"
   ]
  },
  {
   "cell_type": "markdown",
   "metadata": {},
   "source": [
    "Let's go back to where we were."
   ]
  },
  {
   "cell_type": "code",
   "execution_count": 7,
   "metadata": {
    "collapsed": true
   },
   "outputs": [],
   "source": [
    "os.chdir(\"/Users/carlosgonzalezoliver/Projects/Notebooks/COMP_364/L24\")"
   ]
  },
  {
   "cell_type": "markdown",
   "metadata": {},
   "source": [
    "You can also create new directories."
   ]
  },
  {
   "cell_type": "code",
   "execution_count": 8,
   "metadata": {
    "collapsed": true
   },
   "outputs": [],
   "source": [
    "os.mkdir(\"Temp\")"
   ]
  },
  {
   "cell_type": "code",
   "execution_count": 9,
   "metadata": {},
   "outputs": [
    {
     "data": {
      "text/plain": [
       "['.ipynb_checkpoints',\n",
       " 'L24.ipynb',\n",
       " 'rand_dict.json',\n",
       " 'rand_dict.pickle',\n",
       " 'Temp',\n",
       " 'test.csv',\n",
       " 'test.txt']"
      ]
     },
     "execution_count": 9,
     "metadata": {},
     "output_type": "execute_result"
    }
   ],
   "source": [
    "os.listdir()"
   ]
  },
  {
   "cell_type": "markdown",
   "metadata": {},
   "source": [
    "### `shutil`\n",
    "\n",
    "`shutil` is used for file manipulation (not file content manipulation)\n"
   ]
  },
  {
   "cell_type": "code",
   "execution_count": 10,
   "metadata": {},
   "outputs": [],
   "source": [
    "with open(\"test.txt\", \"w\") as t:\n",
    "    t.write(\"Hello\")"
   ]
  },
  {
   "cell_type": "code",
   "execution_count": 11,
   "metadata": {},
   "outputs": [
    {
     "data": {
      "text/plain": [
       "['.ipynb_checkpoints',\n",
       " 'L24.ipynb',\n",
       " 'rand_dict.json',\n",
       " 'rand_dict.pickle',\n",
       " 'Temp',\n",
       " 'test.csv',\n",
       " 'test.txt']"
      ]
     },
     "execution_count": 11,
     "metadata": {},
     "output_type": "execute_result"
    }
   ],
   "source": [
    "os.listdir()"
   ]
  },
  {
   "cell_type": "code",
   "execution_count": 12,
   "metadata": {},
   "outputs": [
    {
     "data": {
      "text/plain": [
       "'test_copy.txt'"
      ]
     },
     "execution_count": 12,
     "metadata": {},
     "output_type": "execute_result"
    }
   ],
   "source": [
    "import shutil\n",
    "#copy the file\n",
    "shutil.copyfile(\"test.txt\", \"test_copy.txt\")"
   ]
  },
  {
   "cell_type": "code",
   "execution_count": null,
   "metadata": {},
   "outputs": [],
   "source": [
    "os.listdir()"
   ]
  },
  {
   "cell_type": "code",
   "execution_count": 13,
   "metadata": {},
   "outputs": [],
   "source": [
    "#delete a directory\n",
    "shutil.rmtree(\"Temp\")"
   ]
  },
  {
   "cell_type": "code",
   "execution_count": 14,
   "metadata": {},
   "outputs": [],
   "source": [
    "#deleting files is done with os\n",
    "os.remove(\"test_copy.txt\")"
   ]
  },
  {
   "cell_type": "code",
   "execution_count": null,
   "metadata": {},
   "outputs": [],
   "source": [
    "os.listdir()"
   ]
  },
  {
   "cell_type": "markdown",
   "metadata": {},
   "source": [
    "# Math\n",
    "\n",
    "There are a couple convenient \"math\" modules\n",
    "\n",
    "* math: basic math operations and quantities\n",
    "* random: pseudo-random numbers\n",
    "* statistics: basic statistics functions\n",
    "\n"
   ]
  },
  {
   "cell_type": "code",
   "execution_count": 15,
   "metadata": {},
   "outputs": [
    {
     "name": "stdout",
     "output_type": "stream",
     "text": [
      "e^2: 7.38905609893065\n",
      "log(1): 0.0\n",
      "3^4: 81.0\n",
      "sin(4): -0.7568024953079282\n"
     ]
    }
   ],
   "source": [
    "import math\n",
    "\n",
    "\n",
    "print(f\"e^2: {math.exp(2)}\")\n",
    "\n",
    "print(f\"log(1): {math.log(1)}\")\n",
    "\n",
    "print(f\"3^4: {math.pow(3, 4)}\")\n",
    "\n",
    "print(f\"sin(4): {math.sin(4)}\")"
   ]
  },
  {
   "cell_type": "markdown",
   "metadata": {},
   "source": [
    "### Random\n",
    "\n",
    "The `random` module gives you pseudo-random (no perfectly random generator exists) functionality."
   ]
  },
  {
   "cell_type": "code",
   "execution_count": 18,
   "metadata": {},
   "outputs": [
    {
     "name": "stdout",
     "output_type": "stream",
     "text": [
      "uniform random number: 0.4199826783981393\n",
      "uniform random number between 4 and 15 11\n",
      "gaussian random number with mean 0 and variance 1: 0.5279296760327262 \n"
     ]
    }
   ],
   "source": [
    "import random\n",
    "#random number uniformly from 0 and 1\n",
    "print(f\"uniform random number: {random.random()}\")\n",
    "\n",
    "print(f\"uniform random number between 4 and 15 {random.randrange(4, 16)}\")\n",
    "\n",
    "mu = 0\n",
    "sigma = 1\n",
    "print(f\"gaussian random number with mean {mu} and variance {sigma}: {random.gauss(mu, sigma)} \")"
   ]
  },
  {
   "cell_type": "markdown",
   "metadata": {},
   "source": [
    "Let's check that we're actually getting uniform and Gaussian distributions."
   ]
  },
  {
   "cell_type": "code",
   "execution_count": 19,
   "metadata": {},
   "outputs": [
    {
     "data": {
      "image/png": "[encoded data removed]",
      "text/plain": [
       "<matplotlib.figure.Figure at 0x109711f60>"
      ]
     },
     "metadata": {},
     "output_type": "display_data"
    },
    {
     "data": {
      "image/png": "[encoded data removed]",
      "text/plain": [
       "<matplotlib.figure.Figure at 0x1028efb00>"
      ]
     },
     "metadata": {},
     "output_type": "display_data"
    }
   ],
   "source": [
    "%matplotlib inline\n",
    "import matplotlib.pyplot as plt\n",
    "\n",
    "def rand_plot(samples):\n",
    "    n, bins, patches = plt.hist(samples, 10, normed=0, facecolor='green', alpha=0.75)\n",
    "    plt.xlabel(\"Value\")\n",
    "    plt.ylabel(\"Count\")\n",
    "    plt.show()\n",
    "    \n",
    "#uniform random number\n",
    "\n",
    "unif = [random.uniform(10, 15) for _ in range(1000)]\n",
    "rand_plot(unif)\n",
    "\n",
    "#gaussian random number\n",
    "\n",
    "gaussian = [random.gauss(mu, sigma) for _ in range(1000)]\n",
    "rand_plot(gaussian)"
   ]
  },
  {
   "cell_type": "markdown",
   "metadata": {},
   "source": [
    "We can also do random things with lists."
   ]
  },
  {
   "cell_type": "code",
   "execution_count": 20,
   "metadata": {},
   "outputs": [
    {
     "name": "stdout",
     "output_type": "stream",
     "text": [
      "duck\n",
      "tails\n",
      "['eagle', 'swan', 'goose', 'duck']\n"
     ]
    }
   ],
   "source": [
    "#randomly pick one item\n",
    "\n",
    "birds = [\"duck\", \"goose\", \"eagle\", \"swan\"]\n",
    "\n",
    "print(random.choice(birds))\n",
    "\n",
    "#coin toss\n",
    "coin = [\"heads\", \"tails\"]\n",
    "print(random.choice(coin))\n",
    "\n",
    "#shuffle the items of a list in place\n",
    "random.shuffle(birds)\n",
    "print(birds)\n"
   ]
  },
  {
   "cell_type": "markdown",
   "metadata": {},
   "source": [
    "# Data structures\n",
    "\n",
    "The `collections` module lets us enhance some of the container types we've seen for more user friendliness."
   ]
  },
  {
   "cell_type": "code",
   "execution_count": 21,
   "metadata": {},
   "outputs": [
    {
     "name": "stdout",
     "output_type": "stream",
     "text": [
      "Counter({'red': 4, 'blue': 2, 'black': 1})\n",
      "4\n",
      "[('red', 4), ('blue', 2)]\n"
     ]
    }
   ],
   "source": [
    "import collections\n",
    "\n",
    "#count number of occurences from a list\n",
    "c = collections.Counter([\"red\", \"red\", \"red\", \"black\", \"red\", \"blue\", \"blue\"])\n",
    "print(c)\n",
    "print(c['red'])\n",
    "#get the 2 most common elements\n",
    "print(c.most_common(2))"
   ]
  },
  {
   "cell_type": "markdown",
   "metadata": {},
   "source": [
    "`namedtuple` lets us give names to the indices of a tuple."
   ]
  },
  {
   "cell_type": "code",
   "execution_count": 25,
   "metadata": {},
   "outputs": [
    {
     "name": "stdout",
     "output_type": "stream",
     "text": [
      "2.1\n",
      "Carlos\n",
      "cs\n"
     ]
    }
   ],
   "source": [
    "Student = collections.namedtuple('Student', ['name', 'grade', 'major'])\n",
    "\n",
    "s = Student('Carlos', 2.1, 'cs')\n",
    "print(s.grade)\n",
    "print(s.name)\n",
    "print(s.major)"
   ]
  },
  {
   "cell_type": "markdown",
   "metadata": {},
   "source": [
    "Useful for giving CSV entries meaningful names.\n",
    "\n",
    "`test.csv`:\n",
    "\n",
    "```\n",
    "carlos,2.4,cs\n",
    "jim,3.1,math\n",
    "joan,2.5,phys\n",
    "jack,3.6,cs\n",
    "```"
   ]
  },
  {
   "cell_type": "code",
   "execution_count": 28,
   "metadata": {
    "scrolled": false
   },
   "outputs": [
    {
     "name": "stdout",
     "output_type": "stream",
     "text": [
      "Student(name='carlos', grade='2.4', major='cs')\n",
      "carlos\n",
      "Student(name='jim', grade='3.1', major='math')\n",
      "jim\n",
      "Student(name='joan', grade='2.5', major='phys')\n",
      "joan\n",
      "Student(name='jack', grade='3.6', major='cs')\n",
      "jack\n"
     ]
    }
   ],
   "source": [
    "with open(\"test.csv\", \"r\") as students:\n",
    "    for s in students:\n",
    "        #the _make() function lets you make a NamedTuple from an iterable\n",
    "        line = s.strip().split(\",\")\n",
    "        tup = Student._make(line)\n",
    "        print(tup)\n",
    "        print(tup.name)"
   ]
  },
  {
   "cell_type": "markdown",
   "metadata": {},
   "source": [
    "The `datetime` module is useful for handling date formats."
   ]
  },
  {
   "cell_type": "code",
   "execution_count": 30,
   "metadata": {},
   "outputs": [
    {
     "name": "stdout",
     "output_type": "stream",
     "text": [
      "2017-11-09\n",
      "2017\n",
      "2017-11-06\n",
      "<class 'datetime.timedelta'>\n",
      "Days till Christmas: 49 days, 0:00:00\n",
      "0\n",
      "0\n"
     ]
    }
   ],
   "source": [
    "import datetime as dt\n",
    "\n",
    "date = dt.date(2017, 11, 9)\n",
    "print(date)\n",
    "print(date.year)\n",
    "\n",
    "#today's date\n",
    "print(dt.date.today())\n",
    "\n",
    "#compare dates\n",
    "christmas = dt.date(2017, 12, 25)\n",
    "till_christmas = christmas - dt.date.today()\n",
    "#produces a timedelta object\n",
    "print(type(till_christmas))\n",
    "\n",
    "print(f\"Days till Christmas: {till_christmas}\")\n",
    "\n",
    "#day of the week as an integer\n",
    "print(dt.date.today().weekday())\n",
    "print(christmas.weekday())"
   ]
  },
  {
   "cell_type": "markdown",
   "metadata": {},
   "source": [
    "# Quality Control\n",
    "\n",
    "The `timeit` module helps you time the execution of some code snippets."
   ]
  },
  {
   "cell_type": "code",
   "execution_count": 31,
   "metadata": {},
   "outputs": [
    {
     "data": {
      "text/plain": [
       "7.79176791899954"
      ]
     },
     "execution_count": 31,
     "metadata": {},
     "output_type": "execute_result"
    }
   ],
   "source": [
    "import timeit\n",
    "\n",
    "timeit.timeit(\"[x*x for x in range(100)]\")"
   ]
  },
  {
   "cell_type": "markdown",
   "metadata": {},
   "source": [
    "The `doctest` module lets you put executable python in docstrings as test calls to make sure everything works as expected. The module looks for `>>>` interactive python calls and compares the actual call to what is in the string as the output. "
   ]
  },
  {
   "cell_type": "code",
   "execution_count": 33,
   "metadata": {},
   "outputs": [
    {
     "data": {
      "text/plain": [
       "TestResults(failed=0, attempted=2)"
      ]
     },
     "execution_count": 33,
     "metadata": {},
     "output_type": "execute_result"
    }
   ],
   "source": [
    "import doctest\n",
    "\n",
    "def mysquare(x):\n",
    "    \"\"\"\n",
    "        This function computes the square of a number.\n",
    "        >>> mysquare(5)\n",
    "        25\n",
    "    \"\"\"\n",
    "    return x*x\n",
    "def mymean(nums):\n",
    "    \"\"\"\n",
    "        This function computes the mean of a list of numbers.\n",
    "        >>> mymean([2, 2, 3, 4])\n",
    "        2.75\n",
    "    \"\"\"\n",
    "    tot = 0\n",
    "    for i in nums:\n",
    "        tot += i\n",
    "    return tot / len(nums)\n",
    "\n",
    "doctest.testmod()"
   ]
  },
  {
   "cell_type": "markdown",
   "metadata": {},
   "source": [
    "# Data Storage\n",
    "\n",
    "`pickle` is a very useful module for storing python objects in files so that you can keep working on them later.\n"
   ]
  },
  {
   "cell_type": "code",
   "execution_count": 35,
   "metadata": {},
   "outputs": [
    {
     "name": "stdout",
     "output_type": "stream",
     "text": [
      "{'dog': 0.3856088112400382, 'cat': 0.7451045373130774, 'giraffe': 0.4958727957365945, 'lion': 0.7046721287417177, 'zebra': 0.07175260118616189}\n"
     ]
    }
   ],
   "source": [
    "import pickle\n",
    "\n",
    "rand_dict = {}\n",
    "\n",
    "animals = [\"dog\", \"cat\", \"giraffe\", \"lion\", \"zebra\"]\n",
    "\n",
    "for a in animals:\n",
    "    rand_dict[a] = random.random()\n",
    "print(rand_dict)"
   ]
  },
  {
   "cell_type": "markdown",
   "metadata": {},
   "source": [
    "I can now store, or **dump** the dictionary to a file.\n",
    "\n",
    "Pickle stores objects as a binary representation which is not human readable and only works in Python but is very fast."
   ]
  },
  {
   "cell_type": "code",
   "execution_count": 36,
   "metadata": {},
   "outputs": [],
   "source": [
    "pickle.dump(rand_dict, open(\"rand_dict.pickle\", \"wb\"))"
   ]
  },
  {
   "cell_type": "code",
   "execution_count": 37,
   "metadata": {
    "collapsed": true
   },
   "outputs": [],
   "source": [
    "loaded = pickle.load(open(\"rand_dict.pickle\", \"rb\"))"
   ]
  },
  {
   "cell_type": "code",
   "execution_count": 38,
   "metadata": {},
   "outputs": [
    {
     "name": "stdout",
     "output_type": "stream",
     "text": [
      "{'dog': 0.3856088112400382, 'cat': 0.7451045373130774, 'giraffe': 0.4958727957365945, 'lion': 0.7046721287417177, 'zebra': 0.07175260118616189}\n"
     ]
    }
   ],
   "source": [
    "print(loaded)"
   ]
  },
  {
   "cell_type": "markdown",
   "metadata": {},
   "source": [
    "`json` does a similar job but the contents are human-readable and can be read by any language. The downside is it's not as fast.\n",
    "\n",
    "JSON cannot store any custom classes and not all python classes can be JSONed."
   ]
  },
  {
   "cell_type": "code",
   "execution_count": 39,
   "metadata": {
    "collapsed": true
   },
   "outputs": [],
   "source": [
    "import json\n",
    "\n",
    "json.dump(rand_dict, open(\"rand_dict.json\", \"w\"))"
   ]
  },
  {
   "cell_type": "code",
   "execution_count": 40,
   "metadata": {
    "collapsed": true
   },
   "outputs": [],
   "source": [
    "jsoned = json.load(open(\"rand_dict.json\", \"r\"))"
   ]
  },
  {
   "cell_type": "code",
   "execution_count": 41,
   "metadata": {},
   "outputs": [
    {
     "data": {
      "text/plain": [
       "{'cat': 0.7451045373130774,\n",
       " 'dog': 0.3856088112400382,\n",
       " 'giraffe': 0.4958727957365945,\n",
       " 'lion': 0.7046721287417177,\n",
       " 'zebra': 0.07175260118616189}"
      ]
     },
     "execution_count": 41,
     "metadata": {},
     "output_type": "execute_result"
    }
   ],
   "source": [
    "jsoned"
   ]
  },
  {
   "cell_type": "markdown",
   "metadata": {},
   "source": [
    "# Multiprocessing\n",
    "\n",
    "Sometimes you can have tasks that can be easily parallelized.\n",
    "\n",
    "Since most computers have more than one processor, we can let multiple processors work on our Python at the same time.\n",
    "\n",
    "For example:\n",
    "\n",
    "For a given number $n$ I want to compute the sum of every number **up to $n$** cubed. \n",
    "\n",
    "Obviously the process of squaring a particular number in the list is independent of squaring any other number."
   ]
  },
  {
   "cell_type": "code",
   "execution_count": 42,
   "metadata": {},
   "outputs": [
    {
     "name": "stdout",
     "output_type": "stream",
     "text": [
      "Parallel job took: 14.64725112915039\n",
      "Serial job took 25.040592908859253\n"
     ]
    }
   ],
   "source": [
    "from multiprocessing import Pool\n",
    "import time\n",
    "\n",
    "def cube_sum(x):\n",
    "    return sum([i**3 for i in range(x)])\n",
    "\n",
    "#we use the context manager to take care of all the setup\n",
    "#we create a Pool object which contains the processors we can send tasks to\n",
    "#here we have chosen to use 4 processes\n",
    "\n",
    "start = time.time()\n",
    "nums = [i for i in range(10000)]\n",
    "\n",
    "with Pool(4) as p:\n",
    "    result = p.map(cube_sum, nums)\n",
    "print(f\"Parallel job took: {time.time() - start}\")\n",
    "\n",
    "### normally:\n",
    "start_serial = time.time()\n",
    "serial_result = [cube_sum(x) for x in nums]\n",
    "print(f\"Serial job took {time.time() - start_serial}\")"
   ]
  },
  {
   "cell_type": "markdown",
   "metadata": {},
   "source": [
    "The reason I came up with such a weird function is that parallelizing is not always faster.\n",
    "\n",
    "There is quite a bit of setup and communication that needs to happen to coordinate the processors (aka **overhead**).\n",
    "\n",
    "If the actual comptuation is faster than the overhead then the normal serial method is faster."
   ]
  },
  {
   "cell_type": "markdown",
   "metadata": {},
   "source": [
    "# Others\n",
    "\n",
    "There are many other modules that I did not cover, and many other functionalities of the ones I did cover that I didn't have time to show you.\n",
    "\n",
    "Some notable Standard Library modules worth looking into:\n",
    "\n",
    "* `re`: searching for patterns inside strings\n",
    "* `statistics`: basics statistics function (mean, std, etc)\n",
    "* `os.path`, `glob`: handling file paths \n",
    "* `csv`: automatic CSV file parsing\n",
    "* `logging`: code and error logging\n",
    "* `argpars`: command line argument parser\n",
    "* `tkinter`: building graphical user interfaces"
   ]
  },
  {
   "cell_type": "code",
   "execution_count": null,
   "metadata": {
    "collapsed": true
   },
   "outputs": [],
   "source": []
  }
 ],
 "metadata": {
  "kernelspec": {
   "display_name": "Python 3",
   "language": "python",
   "name": "python3"
  },
  "language_info": {
   "codemirror_mode": {
    "name": "ipython",
    "version": 3
   },
   "file_extension": ".py",
   "mimetype": "text/x-python",
   "name": "python",
   "nbconvert_exporter": "python",
   "pygments_lexer": "ipython3",
   "version": "3.6.2"
  }
 },
 "nbformat": 4,
 "nbformat_minor": 2
}
