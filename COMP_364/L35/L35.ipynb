{
 "cells": [
  {
   "cell_type": "markdown",
   "metadata": {},
   "source": [
    "# COMP 364: Advanced Python Structures\n",
    "\n",
    "Today we briefly will covere some intermediate-to-advanced Python concepts.\n",
    "\n",
    "Topics:\n",
    "\n",
    "* iterators and generators\n",
    "* context managers\n",
    "* decorators\n",
    "\n",
    "\n",
    "\n",
    "Knowledge of these concepts will take your Python to a more advanced level.\n",
    "\n",
    "\n",
    "## Lazy lists: generators\n",
    "\n",
    "Remember: Any data Python computes during runtime is stored as an object in **memory** (RAM).\n",
    "\n",
    "** Not to be confused with long term storage.** \n",
    "\n",
    "Objects take up **space**. Just like books on a bookshelf.\n",
    "\n",
    "In general, we want to keep the memory footprint of our programs to a minimum.\n",
    "\n",
    "Misuse of memory can cause:\n",
    "\n",
    "1) Program and system slowdowns\n",
    "2) Full program crashes (`MemoryError`)\n",
    "\n",
    "In today's world of \"Big Data\", memory usage is a growing concern.\n",
    "\n",
    "### Problem\n",
    "\n",
    "Typical computer memory size is a couple of GB ~4-16 GB of memory.\n",
    "\n",
    "What happens when you need to process a data file that is 50GB large?\n",
    "\n",
    "Generators to the rescue!\n",
    "\n",
    "### Pre-computing vs lazy computing\n",
    "\n",
    "Under the hood we've been dealing with generators all along but thinking of them as lists.\n",
    "\n",
    "A **list** is a pre-computed container object because all its values exist in memory all at once.\n"
   ]
  },
  {
   "cell_type": "code",
   "execution_count": null,
   "metadata": {
    "collapsed": true
   },
   "outputs": [],
   "source": [
    "# this is a list of the first 10 numbers \n",
    "\n",
    "nums = [0, 1, 2, 3, 4, 5, 6, 7, 8, 9]"
   ]
  },
  {
   "cell_type": "markdown",
   "metadata": {},
   "source": [
    "We can access each element directly as they are all stored in memory."
   ]
  },
  {
   "cell_type": "code",
   "execution_count": null,
   "metadata": {},
   "outputs": [],
   "source": [
    "nums[6]"
   ]
  },
  {
   "cell_type": "markdown",
   "metadata": {},
   "source": [
    "I can also create this list with a loop."
   ]
  },
  {
   "cell_type": "code",
   "execution_count": null,
   "metadata": {
    "collapsed": true
   },
   "outputs": [],
   "source": [
    "def firstn(n):\n",
    "    nums = []\n",
    "    count = 0\n",
    "    while count < n:\n",
    "        nums.append(count)\n",
    "        count += 1\n",
    "    return nums"
   ]
  },
  {
   "cell_type": "code",
   "execution_count": null,
   "metadata": {},
   "outputs": [],
   "source": [
    "nums = firstn(10)\n",
    "print(nums)"
   ]
  },
  {
   "cell_type": "markdown",
   "metadata": {},
   "source": [
    "But what if we don't need all the numbers stored all at once?\n",
    "\n",
    "If we know the rule for computing the next number in the sequence we can just not do anything and spit out the next number when asked for it.\n",
    "\n",
    "This is what **generator** functions do.\n",
    "\n",
    "**generator** funcions return **generator** objects and can **yield** values during their execution.\n",
    "\n",
    "In this case, the rule is \"the next number is the previous number + 1\""
   ]
  },
  {
   "cell_type": "code",
   "execution_count": null,
   "metadata": {
    "collapsed": true
   },
   "outputs": [],
   "source": [
    "def firstn_gen(n):\n",
    "    count = 0\n",
    "    while count < n:\n",
    "        yield count\n",
    "        count += 1"
   ]
  },
  {
   "cell_type": "code",
   "execution_count": null,
   "metadata": {
    "collapsed": true
   },
   "outputs": [],
   "source": [
    "nums = firstn_gen(10)"
   ]
  },
  {
   "cell_type": "code",
   "execution_count": null,
   "metadata": {},
   "outputs": [],
   "source": [
    "print(nums)"
   ]
  },
  {
   "cell_type": "markdown",
   "metadata": {},
   "source": [
    "Ok so we got a `generator` object instead of a list.\n",
    "\n",
    "`generator` objects have an attribute called `__next__()` which is a function that returns the next item in the sequence."
   ]
  },
  {
   "cell_type": "code",
   "execution_count": null,
   "metadata": {},
   "outputs": [],
   "source": [
    "nums.__next__()"
   ]
  },
  {
   "cell_type": "markdown",
   "metadata": {},
   "source": [
    "If we put a geneator in a for loop, python repeatedly calls `__next__()` for you until it runs out of items."
   ]
  },
  {
   "cell_type": "code",
   "execution_count": null,
   "metadata": {},
   "outputs": [],
   "source": [
    "nums = firstn_gen(10)\n",
    "for i in nums:\n",
    "    print(i)"
   ]
  },
  {
   "cell_type": "markdown",
   "metadata": {},
   "source": [
    "Note: once we pulled out all the items in a geneator, we can't re-use it."
   ]
  },
  {
   "cell_type": "code",
   "execution_count": null,
   "metadata": {
    "collapsed": true
   },
   "outputs": [],
   "source": [
    "for i in nums:\n",
    "    print(i)"
   ]
  },
  {
   "cell_type": "markdown",
   "metadata": {},
   "source": [
    "Okay back to the funny `yield` statement."
   ]
  },
  {
   "cell_type": "code",
   "execution_count": null,
   "metadata": {
    "collapsed": true
   },
   "outputs": [],
   "source": [
    "def firstn_gen(n):\n",
    "    count = 0\n",
    "    print(\"before loop\")\n",
    "    while count < n:\n",
    "        print(\"yielding number\")\n",
    "        yield count\n",
    "        print(\"i'm back. incrementing count\")\n",
    "        count += 1"
   ]
  },
  {
   "cell_type": "code",
   "execution_count": null,
   "metadata": {
    "collapsed": true
   },
   "outputs": [],
   "source": [
    "nums = firstn_gen(10)"
   ]
  },
  {
   "cell_type": "markdown",
   "metadata": {},
   "source": [
    "`nums` is a generator and we can call its `__next__` method."
   ]
  },
  {
   "cell_type": "markdown",
   "metadata": {},
   "source": [
    "Generators behave like functions except their execution can be interrupted and re-started.\n",
    "\n",
    "When we reach a `yield` statement, the function exits, yields a number, and all varible assignments are maintained.\n",
    "\n",
    "With a normal function, once a function is exited, all local memory is lost."
   ]
  },
  {
   "cell_type": "markdown",
   "metadata": {},
   "source": [
    "`__next__` executes the function code. \n",
    "\n",
    "If it's the first time `__next__` is called, execution begins at the top of the definition and stops when `yield` is reached.\n",
    "\n",
    "Subsequent calls resume after the `yield`."
   ]
  },
  {
   "cell_type": "code",
   "execution_count": null,
   "metadata": {},
   "outputs": [],
   "source": [
    "#first call\n",
    "nums.__next__()"
   ]
  },
  {
   "cell_type": "code",
   "execution_count": null,
   "metadata": {},
   "outputs": [],
   "source": [
    "#second call, resumes after 'yield'\n",
    "nums.__next__()"
   ]
  },
  {
   "cell_type": "markdown",
   "metadata": {},
   "source": [
    "Because the generator remembers its current state, we can continue with the rest of the numbers with a for loop."
   ]
  },
  {
   "cell_type": "code",
   "execution_count": null,
   "metadata": {},
   "outputs": [],
   "source": [
    "for n in nums:\n",
    "    print(n)"
   ]
  },
  {
   "cell_type": "markdown",
   "metadata": {},
   "source": [
    "### Handling large data files with generators\n",
    "\n",
    "Often we want to read from a very large file and do something with each line but we don't need the whole file loaded all at once.\n",
    "\n",
    "I [downloaded](https://www.kaggle.com/stackoverflow/pythonquestions/data) all the questions about Python on Stack Overflow, a website I'm sure you're familiar with by now."
   ]
  },
  {
   "cell_type": "code",
   "execution_count": 2,
   "metadata": {
    "collapsed": true
   },
   "outputs": [],
   "source": [
    "filepath = \"Questions.csv\""
   ]
  },
  {
   "cell_type": "markdown",
   "metadata": {},
   "source": [
    "Here is the wrong way."
   ]
  },
  {
   "cell_type": "code",
   "execution_count": 3,
   "metadata": {
    "collapsed": true
   },
   "outputs": [],
   "source": [
    "def load_data_list(path, encoding=\"utf-8\"):\n",
    "    file_handle = open(path, \"r\", encoding=encoding)\n",
    "    file_lines = file_handle.readlines()\n",
    "    file_handle.close()\n",
    "    return file_lines"
   ]
  },
  {
   "cell_type": "code",
   "execution_count": 4,
   "metadata": {
    "collapsed": true
   },
   "outputs": [],
   "source": [
    "#this file has a non-standard encoding \"latin-1\" so I have to specify that. don't worry about file encodings.\n",
    "questions = load_data_list(filepath, encoding=\"latin-1\")"
   ]
  },
  {
   "cell_type": "markdown",
   "metadata": {},
   "source": [
    "We can use `memory_profiler` (doesn't work in Notebooks) to see how much memory this uses."
   ]
  },
  {
   "cell_type": "code",
   "execution_count": null,
   "metadata": {},
   "outputs": [],
   "source": [
    "print(questions[:10])"
   ]
  },
  {
   "cell_type": "code",
   "execution_count": null,
   "metadata": {},
   "outputs": [],
   "source": [
    "type(questions)"
   ]
  },
  {
   "cell_type": "markdown",
   "metadata": {},
   "source": [
    "Now let's lazily read the lines from the file."
   ]
  },
  {
   "cell_type": "code",
   "execution_count": 5,
   "metadata": {
    "collapsed": true
   },
   "outputs": [],
   "source": [
    "def lazy_read(filepath, lines, encoding=\"utf-8\"):\n",
    "    file_handle = open(filepath, \"r\", encoding=encoding)\n",
    "    line_count = 0\n",
    "    while line_count < lines:\n",
    "        yield file_handle.readline()\n",
    "        line_count += 1\n",
    "    file_handle.close()\n",
    "    "
   ]
  },
  {
   "cell_type": "code",
   "execution_count": 6,
   "metadata": {
    "collapsed": true
   },
   "outputs": [],
   "source": [
    "g = lazy_read(filepath, 10, encoding=\"latin-1\")"
   ]
  },
  {
   "cell_type": "code",
   "execution_count": 7,
   "metadata": {},
   "outputs": [
    {
     "name": "stdout",
     "output_type": "stream",
     "text": [
      "Id,OwnerUserId,CreationDate,Score,Title,Body\n",
      "\n",
      "469,147,2008-08-02T15:11:16Z,21,How can I find the full path to a font from its display name on a Mac?,\"<p>I am using the Photoshop's javascript API to find the fonts in a given PSD.</p>\n",
      "\n",
      "\n",
      "\n",
      "<p>Given a font name returned by the API, I want to find the actual physical font file that that font name corresponds to on the disc.</p>\n",
      "\n",
      "\n",
      "\n",
      "<p>This is all happening in a python program running on OSX so I guess I'm looking for one of:</p>\n",
      "\n",
      "\n",
      "\n",
      "<ul>\n",
      "\n",
      "<li>Some Photoshop javascript</li>\n",
      "\n",
      "<li>A Python function</li>\n",
      "\n"
     ]
    }
   ],
   "source": [
    "for line in g:\n",
    "    print(line)"
   ]
  },
  {
   "cell_type": "markdown",
   "metadata": {},
   "source": [
    "This is part of what Python does for you when you open a file using `with open()`."
   ]
  },
  {
   "cell_type": "markdown",
   "metadata": {},
   "source": [
    "### Generator comprehensions\n",
    "\n",
    "Just like list comprehensions, we can create generator comprehensions.\n",
    "\n",
    "Generator comprehensions look exactly like list comprehensions except they use round brackets ()."
   ]
  },
  {
   "cell_type": "code",
   "execution_count": 12,
   "metadata": {
    "collapsed": true
   },
   "outputs": [],
   "source": [
    "evens = (x for x in range(100) if x % 2 == 0)"
   ]
  },
  {
   "cell_type": "markdown",
   "metadata": {},
   "source": [
    "Is equivalent to:"
   ]
  },
  {
   "cell_type": "code",
   "execution_count": 13,
   "metadata": {
    "collapsed": true
   },
   "outputs": [],
   "source": [
    "def evens():\n",
    "    x = 0\n",
    "    while x < 100:\n",
    "        if x % 2 == 0:\n",
    "            yield x\n",
    "        x += 1\n",
    "e = evens()"
   ]
  },
  {
   "cell_type": "markdown",
   "metadata": {},
   "source": [
    "Generators can create an infinite amount of information while requiring almost zero memory!\n",
    "\n",
    "Example: [fibonacci](https://en.wikipedia.org/wiki/Fibonacci_number) numbers\n",
    "\n",
    "$F_n = F_{n-1} + F_{n-2}$ where $F_0 = 0$ and $F_1 = 1$\n",
    "\n",
    "e.g. $0, 1, 1, 2, 3, 5, 8, 13, 21, ...$\n",
    "\n",
    "![](http://seyferseed.ru/wp-content/uploads/2017/03/Fibonacci-Spiral.png)\n",
    "\n",
    "![](https://qph.ec.quoracdn.net/main-qimg-0281d782e4ec471ce2d5091d2c40f1b5-c)"
   ]
  },
  {
   "cell_type": "code",
   "execution_count": 19,
   "metadata": {
    "collapsed": true
   },
   "outputs": [],
   "source": [
    "def fib():\n",
    "    a = 0\n",
    "    b = 1\n",
    "    while True:\n",
    "        yield a\n",
    "        a, b = b, a + b"
   ]
  },
  {
   "cell_type": "code",
   "execution_count": 21,
   "metadata": {},
   "outputs": [
    {
     "name": "stdout",
     "output_type": "stream",
     "text": [
      "0\n",
      "1\n",
      "1\n",
      "2\n",
      "3\n",
      "5\n",
      "8\n",
      "13\n",
      "21\n",
      "34\n"
     ]
    }
   ],
   "source": [
    "f = fib()\n",
    "for i in range(10):\n",
    "    print(next(f))"
   ]
  },
  {
   "cell_type": "markdown",
   "metadata": {},
   "source": [
    "So now whenver we need the next fibonacci number we can just call our generator function without having to store anything practially in memory."
   ]
  },
  {
   "cell_type": "markdown",
   "metadata": {},
   "source": [
    "\n",
    "## Wrapping functions: Decorators\n",
    "\n",
    "\n",
    "In the spirit of Christmas, let's talk about **wrapping** functions and **decorators**.\n",
    "\n",
    "![](http://mybbaddict.com/wp-content/uploads/2017/10/delightful-decoration-snoopy-christmas-tree-274-best-peanuts-images-on-pinterest-charlie.jpg)\n",
    "\n",
    "First let's do a little recap on functions.\n",
    "\n",
    "**Functions are objects**\n",
    "\n",
    "Just like objects functions can be:\n",
    "\n",
    "* passed as arguments\n",
    "* bound to names\n",
    "* returned\n"
   ]
  },
  {
   "cell_type": "code",
   "execution_count": 29,
   "metadata": {},
   "outputs": [
    {
     "data": {
      "text/plain": [
       "10"
      ]
     },
     "execution_count": 29,
     "metadata": {},
     "output_type": "execute_result"
    }
   ],
   "source": [
    "def foo(x):\n",
    "    return x\n",
    "f = foo\n",
    "b = foo\n",
    "f(5)\n",
    "b(10)"
   ]
  },
  {
   "cell_type": "code",
   "execution_count": 28,
   "metadata": {},
   "outputs": [
    {
     "name": "stdout",
     "output_type": "stream",
     "text": [
      "calling is_even with input 5 result is: False\n",
      "calling is_odd with input 5 result is: True\n"
     ]
    }
   ],
   "source": [
    "def caller(func, arg):\n",
    "    return f\"calling {func.__name__} with input {arg} result is: {func(arg)}\"\n",
    "\n",
    "def is_even(num):\n",
    "    return not num % 2\n",
    "\n",
    "def is_odd(num):\n",
    "    return bool(num % 2)\n",
    "\n",
    "print(caller(is_even, 5))\n",
    "print(caller(is_odd, 5))"
   ]
  },
  {
   "cell_type": "markdown",
   "metadata": {},
   "source": [
    "We can also define functions inside other functions and return them."
   ]
  },
  {
   "cell_type": "code",
   "execution_count": 37,
   "metadata": {},
   "outputs": [
    {
     "data": {
      "text/plain": [
       "5"
      ]
     },
     "execution_count": 37,
     "metadata": {},
     "output_type": "execute_result"
    }
   ],
   "source": [
    "def foo():\n",
    "    def boo():\n",
    "        return 5\n",
    "    return boo\n",
    "\n",
    "five = foo()\n",
    "five()"
   ]
  },
  {
   "cell_type": "markdown",
   "metadata": {},
   "source": [
    "What if I want to time how long a function takes to run?"
   ]
  },
  {
   "cell_type": "code",
   "execution_count": 30,
   "metadata": {
    "collapsed": true
   },
   "outputs": [],
   "source": [
    "import time\n",
    "import random\n",
    "\n",
    "#this function runs for 0 to 5 seconds\n",
    "def foo():\n",
    "    print(\"doing some stuff..\")\n",
    "    time.sleep(random.randrange(5))\n"
   ]
  },
  {
   "cell_type": "code",
   "execution_count": 32,
   "metadata": {},
   "outputs": [
    {
     "name": "stdout",
     "output_type": "stream",
     "text": [
      "doing some stuff..\n",
      "time elapsed: 3.0057389736175537 seconds\n"
     ]
    }
   ],
   "source": [
    "start = time.time() #get current time\n",
    "foo()\n",
    "print(f\"time elapsed: {time.time() - start} seconds\")"
   ]
  },
  {
   "cell_type": "markdown",
   "metadata": {},
   "source": [
    "That's nice but what happens next time I want to time a different function?\n",
    "\n",
    "I have to write the same code again... repetitive code is no good."
   ]
  },
  {
   "cell_type": "code",
   "execution_count": 33,
   "metadata": {},
   "outputs": [
    {
     "name": "stdout",
     "output_type": "stream",
     "text": [
      "doing some other stuff\n",
      "time elapsed: 0.0006089210510253906 seconds\n"
     ]
    }
   ],
   "source": [
    "def boo():\n",
    "    print(\"doing some other stuff\")\n",
    "    time.sleep(random.randrange(3))\n",
    "start = time.time()\n",
    "boo()\n",
    "print(f\"time elapsed: {time.time() - start} seconds\")"
   ]
  },
  {
   "cell_type": "markdown",
   "metadata": {},
   "source": [
    "What if I want to make it so that I can automatically modify any function with timing functionality?\n",
    "\n",
    "This is where decorators come in.\n",
    "\n",
    "You can think of decorators as functions that create functions but with some useful \"decorations\"."
   ]
  },
  {
   "cell_type": "markdown",
   "metadata": {},
   "source": [
    "Since we know that we can return functions, why don't we write a function that takes a function as input and returns a decorated version of it?"
   ]
  },
  {
   "cell_type": "code",
   "execution_count": 44,
   "metadata": {
    "collapsed": true
   },
   "outputs": [],
   "source": [
    "def timer(func):\n",
    "    def wrapped():\n",
    "        start = time.time()\n",
    "        func()\n",
    "        print(f\"{func.__name__} took: {time.time() - start} seconds\")\n",
    "    #return the decorated function\n",
    "    return wrapped"
   ]
  },
  {
   "cell_type": "code",
   "execution_count": 45,
   "metadata": {
    "collapsed": true
   },
   "outputs": [],
   "source": [
    "def stuff():\n",
    "    print(\"doing some stuff..\")\n",
    "    time.sleep(random.randrange(3))"
   ]
  },
  {
   "cell_type": "markdown",
   "metadata": {},
   "source": [
    "Let's transform our boring `stuff` function into a decorated version of itself."
   ]
  },
  {
   "cell_type": "code",
   "execution_count": 46,
   "metadata": {},
   "outputs": [],
   "source": [
    "timed_stuff = timer(stuff)"
   ]
  },
  {
   "cell_type": "markdown",
   "metadata": {},
   "source": [
    "Now we can use the improved version of our function."
   ]
  },
  {
   "cell_type": "code",
   "execution_count": 47,
   "metadata": {},
   "outputs": [
    {
     "name": "stdout",
     "output_type": "stream",
     "text": [
      "doing some stuff..\n",
      "stuff took: 0.00034308433532714844 seconds\n"
     ]
    }
   ],
   "source": [
    "timed_stuff()"
   ]
  },
  {
   "cell_type": "markdown",
   "metadata": {},
   "source": [
    "And we can use the decorator to transform any function (**that takes no arguments**) without having to re-write any code."
   ]
  },
  {
   "cell_type": "code",
   "execution_count": 48,
   "metadata": {
    "collapsed": true
   },
   "outputs": [],
   "source": [
    "def other_stuff():\n",
    "    print(\"doing some other stuff..\")\n",
    "    time.sleep(random.randrange(3))\n"
   ]
  },
  {
   "cell_type": "code",
   "execution_count": 52,
   "metadata": {},
   "outputs": [
    {
     "name": "stdout",
     "output_type": "stream",
     "text": [
      "doing some other stuff..\n",
      "other_stuff took: 0.003927707672119141 seconds\n"
     ]
    }
   ],
   "source": [
    "timed_other_stuff = timer(other_stuff)\n",
    "timed_other_stuff()"
   ]
  },
  {
   "cell_type": "markdown",
   "metadata": {},
   "source": [
    "### The @ operator\n",
    "\n",
    "Python makes using decorators a little easier with the `@` operator.\n",
    "\n",
    "Instead of creating a new function explicitly, we can just put `@decoratorname` before any function we want to decorate."
   ]
  },
  {
   "cell_type": "code",
   "execution_count": 63,
   "metadata": {
    "collapsed": true
   },
   "outputs": [],
   "source": [
    "@timer\n",
    "def fibonaccis():\n",
    "    f = fib()\n",
    "    max_fib = 10\n",
    "    for i, num in enumerate(f):\n",
    "        print(num)\n",
    "        if i > max_fib:\n",
    "            break\n",
    "        i += 1"
   ]
  },
  {
   "cell_type": "code",
   "execution_count": 64,
   "metadata": {},
   "outputs": [
    {
     "name": "stdout",
     "output_type": "stream",
     "text": [
      "0\n",
      "1\n",
      "1\n",
      "2\n",
      "3\n",
      "5\n",
      "8\n",
      "13\n",
      "21\n",
      "34\n",
      "55\n",
      "89\n",
      "fibonaccis took: 0.0017268657684326172 seconds\n"
     ]
    }
   ],
   "source": [
    "fibonaccis()"
   ]
  },
  {
   "cell_type": "markdown",
   "metadata": {},
   "source": [
    "Another good use of decorators is argument type checking. (source: https://www.python-course.eu/python3_decorators.php)"
   ]
  },
  {
   "cell_type": "markdown",
   "metadata": {},
   "source": [
    "# Context Managers"
   ]
  },
  {
   "cell_type": "code",
   "execution_count": null,
   "metadata": {
    "collapsed": true
   },
   "outputs": [],
   "source": []
  }
 ],
 "metadata": {
  "kernelspec": {
   "display_name": "Python 3",
   "language": "python",
   "name": "python3"
  },
  "language_info": {
   "codemirror_mode": {
    "name": "ipython",
    "version": 3
   },
   "file_extension": ".py",
   "mimetype": "text/x-python",
   "name": "python",
   "nbconvert_exporter": "python",
   "pygments_lexer": "ipython3",
   "version": "3.6.2"
  }
 },
 "nbformat": 4,
 "nbformat_minor": 2
}
