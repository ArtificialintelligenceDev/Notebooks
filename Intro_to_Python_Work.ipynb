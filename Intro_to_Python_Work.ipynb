{
 "cells": [
  {
   "cell_type": "markdown",
   "metadata": {},
   "source": [
    "# Intro to Python Programming"
   ]
  },
  {
   "cell_type": "markdown",
   "metadata": {
    "collapsed": true
   },
   "source": [
    "# Why Python?\n",
    "\n",
    "* It's a full and general purpose programming language.\n",
    "* Clean and elegant, easy to learn and be productive.\n",
    "* It's free and open source (you can always know exactly what your code is doing)!\n",
    "* Huge community.\n",
    "* Very popular for scientific programming and data science.\n",
    "\n",
    "\n",
    "Projects using Python:\n",
    "\n",
    "* YouTube\n",
    "* Google\n",
    "* NASA\n",
    "* Dropbox\n",
    "* Many more.\n",
    "\n",
    "# Workshop Objectives\n",
    "\n",
    "* To give you the essential Python tools so that you can start to apply it to help you in your own work or research!"
   ]
  },
  {
   "cell_type": "markdown",
   "metadata": {},
   "source": [
    "# Programming Basics\n",
    "\n",
    "We can boil down programming into two main 'entities': Data and Operations. In a program, we have some information, or data, and we perform some operations on it to produce the desired output. So let's see how these two are represented in Python.\n",
    "\n",
    "## Data\n",
    "\n",
    "As you can imagine, data can come in several forms and be packaged in many ways. The fundamental Python data types that we will cover here are the following: integers, floats, booleans, and strings. We can store the values of these different types in what we call 'variables'. You can just think of them as containers with a name (no spaces or special characters!) that have a piece of data. Below are some examples of how we can work with these data types.\n",
    "\n",
    "### Primitives"
   ]
  },
  {
   "cell_type": "code",
   "execution_count": null,
   "metadata": {
    "collapsed": false
   },
   "outputs": [],
   "source": [
    "# this is a comment. anything that follows a '#' symbol in Python is ignored by the interpeter\n",
    "\n",
    "# here are two ways we can represent numbers\n",
    "\n",
    "#integers a.k.a int\n",
    "x = 4  #here we store the integer value of 4 in the variable x\n",
    "y = 2\n",
    "\n",
    "#floating point numbers \n",
    "a = 0.5\n",
    "b = 0.1\n",
    "\n",
    "# strings are sequences of characters. they are always contained in single or double quotes\n",
    "s = \"Hello, world.\"\n",
    "\n",
    "#booleans are data types that can take on only the values 'True' or 'False':\n",
    "\n",
    "n = False\n",
    "m  = True\n",
    "\n",
    "#finally, we have the 'None' type which is basically nothing, it's like an empty variable\n",
    "\n",
    "t = None\n",
    "\n",
    "## so now what we've done is store some values in some variables. how can we see what those values are? print!\n",
    "\n",
    "print(x)\n",
    "print(y)\n",
    "print(a, b)\n",
    "\n",
    "#print the rest of the variables\n",
    "...\n",
    "..."
   ]
  },
  {
   "cell_type": "code",
   "execution_count": null,
   "metadata": {
    "collapsed": false
   },
   "outputs": [],
   "source": [
    "#another useful thing is type-casting where we can convert some types into other types.\n",
    "\n",
    "x = 5.0\n",
    "y = \"5.0\"\n",
    "\n",
    "#converts a floating point number to an integer\n",
    "print(int(x))\n",
    "\n",
    "#converts the string \"5.0\" into a numeric value\n",
    "print(float(x))"
   ]
  },
  {
   "cell_type": "code",
   "execution_count": null,
   "metadata": {
    "collapsed": false
   },
   "outputs": [],
   "source": [
    "# we can do some basic operations on these data types\n",
    "\n",
    "print(4 + 4)  #add or subtract two integers\n",
    "print(4/5)    # divide"
   ]
  },
  {
   "cell_type": "code",
   "execution_count": null,
   "metadata": {
    "collapsed": false
   },
   "outputs": [],
   "source": [
    "# we can assign the value of a variable back to itself.\n",
    "\n",
    "x = x + 1\n",
    "print(x)"
   ]
  },
  {
   "cell_type": "code",
   "execution_count": null,
   "metadata": {
    "collapsed": false
   },
   "outputs": [],
   "source": [
    "#we can 'concatenate' two strings\n",
    "\n",
    "print(s + \" How are you?\")"
   ]
  },
  {
   "cell_type": "markdown",
   "metadata": {},
   "source": [
    "### Data structures\n",
    "\n",
    "Now that we have a better idea of the types of information Python handles. We would like to scale things up and be able to store the data in a way as to be able to easily handle many values at once.\n",
    "\n",
    "#### Lists\n",
    "\n",
    "A list is simply an ordered collection of values."
   ]
  },
  {
   "cell_type": "code",
   "execution_count": null,
   "metadata": {
    "collapsed": false
   },
   "outputs": [],
   "source": [
    "# This is a list:\n",
    "l = [1, 2, 3, 4]\n",
    "# we can access each element in a list with its index (starting from 0)\n",
    "print(l)\n",
    "print(l[0]) #prints the first element in the list\n",
    "print(l[1]) #prints the second element in the list\n",
    "print(l[-1]) #what does this print?"
   ]
  },
  {
   "cell_type": "code",
   "execution_count": null,
   "metadata": {
    "collapsed": false
   },
   "outputs": [],
   "source": [
    "#list slicing. very useful way in python to access sub-lists in python\n",
    "\n",
    "#say we want to make a list that only has the elements between positions 2 and 4 in list l\n",
    "\n",
    "sliced = l[2:4]\n",
    "\n",
    "print(sliced)\n",
    "\n",
    "#now say we want a list that contains everything but the first number in l\n",
    "\n",
    "everything_but_first = l[1:]\n",
    "\n",
    "print(everything_but_first)\n",
    "\n",
    "#now make a list that has everything except the last element in the list (remember the -1 index)\n",
    "\n",
    "everything_but_last = l[...]\n",
    "print(everything_but_last)"
   ]
  },
  {
   "cell_type": "code",
   "execution_count": null,
   "metadata": {
    "collapsed": false
   },
   "outputs": [],
   "source": [
    "#we can modify the values in the list\n",
    "l[1] = 3000\n",
    "print(l[1])"
   ]
  },
  {
   "cell_type": "code",
   "execution_count": null,
   "metadata": {
    "collapsed": false
   },
   "outputs": [],
   "source": [
    "#we can add values to the end of the list with the append() function\n",
    "print(\"adding a value\")\n",
    "l.append(\"hi!\")\n",
    "print(l)"
   ]
  },
  {
   "cell_type": "markdown",
   "metadata": {},
   "source": [
    "#### Tuples\n",
    "\n",
    "Tuples are like lists, but they are less flexible. Unlike lists, they have a fixed size, and you can't reassign elements to them once they're assigned. The advantage is that they are more memory efficient than lists. So it's good to use them when you know that you will not be changing your data around much."
   ]
  },
  {
   "cell_type": "code",
   "execution_count": null,
   "metadata": {
    "collapsed": false
   },
   "outputs": [],
   "source": [
    "#declare a tuple. use round brackets instead of square brackets\n",
    "person = ('Martin', 50, 1.65) \n",
    "print(person)\n",
    "\n",
    "#you can still access its elements just like in a list\n",
    "print(person[1])\n"
   ]
  },
  {
   "cell_type": "markdown",
   "metadata": {},
   "source": [
    "#### Dictionaries\n",
    "\n",
    "Dictionaries are one of the most useful data structures in Python and because they are very powerful for organizing data. A dictionary is like a list, except every element is indexed by a 'key instead of a number like we saw with lists and tuples. \n",
    "\n",
    "```d[key] = value ```"
   ]
  },
  {
   "cell_type": "code",
   "execution_count": null,
   "metadata": {
    "collapsed": false
   },
   "outputs": [],
   "source": [
    "# dictionaries are initialized with curly braces\n",
    "d = {} # is an empty dictionary\n",
    "\n",
    "#let's add some keys to the dictionary and give it a value.\n",
    "d['heights'] = []\n",
    "d['weights'] = []\n",
    "\n",
    "print(d)"
   ]
  },
  {
   "cell_type": "code",
   "execution_count": null,
   "metadata": {
    "collapsed": false
   },
   "outputs": [],
   "source": [
    "#now we can add 'heights' to the list \n",
    "d['heights'].append(165.4)\n",
    "d['weights'].append(221.2)\n",
    "\n",
    "print(d)\n",
    "\n",
    "#if we want to get the 'keys' of the dictionary we use the keys() function\n",
    "\n",
    "print(d.keys())"
   ]
  },
  {
   "cell_type": "markdown",
   "metadata": {},
   "source": [
    "### Python is very flexible with data \n",
    "\n",
    "As you may have started to notice, it is possible to store any kind of mixture of data into lists, tuples, and dictionaries. Here are some examples:"
   ]
  },
  {
   "cell_type": "code",
   "execution_count": null,
   "metadata": {
    "collapsed": false
   },
   "outputs": [],
   "source": [
    "mix = ['hi', 1, 2, ('a', 2, 'e')]\n",
    "print(mix)\n",
    "\n",
    "d2 = {1: [1, 2, 3], 'bob': 4}\n",
    "print(d2)"
   ]
  },
  {
   "cell_type": "markdown",
   "metadata": {},
   "source": [
    "## Operations\n",
    "\n",
    "Now that we have an idea of how Python stores data, we would like to be able to do something interesting with is. That is, peform operations on the data in an efficient manner."
   ]
  },
  {
   "cell_type": "markdown",
   "metadata": {},
   "source": [
    "### `for` loops\n",
    "\n",
    "Loops make python repeat a set of commands a given number of times. They are by far the most widely used loop."
   ]
  },
  {
   "cell_type": "code",
   "execution_count": null,
   "metadata": {
    "collapsed": false
   },
   "outputs": [],
   "source": [
    "# for loops store the each item in the list in the variable following the 'for' one at a time.\n",
    "\n",
    "#let's iterate through that 'mix' list that we made in the previous cell and print each item in the list\n",
    "for i in mix:\n",
    "    print(i)"
   ]
  },
  {
   "cell_type": "code",
   "execution_count": null,
   "metadata": {
    "collapsed": false
   },
   "outputs": [],
   "source": [
    "# we can also iterate through a range of numbers by using the range(n) command which returns a special kind of \n",
    "# list (not exactly a normal list) containing the integers within the specified range\n",
    "\n",
    "for i in range(10):\n",
    "    print(i)"
   ]
  },
  {
   "cell_type": "code",
   "execution_count": null,
   "metadata": {
    "collapsed": false
   },
   "outputs": [],
   "source": [
    "#write a for loop that adds the numbers from 1 to n. declare any variables you may need\n",
    "\n",
    "...\n",
    "..."
   ]
  },
  {
   "cell_type": "markdown",
   "metadata": {},
   "source": [
    "### `if` statements\n",
    "\n",
    "`if` statements allow us to control which parts of code are executed depending on a condition. This condition is expressed as a boolean that can be `True` or `False`. If the statement is `True` then the code contained in the `if` statement will execute. Otherwise, it gets skipped."
   ]
  },
  {
   "cell_type": "code",
   "execution_count": null,
   "metadata": {
    "collapsed": false
   },
   "outputs": [],
   "source": [
    "#first, a bit more about booleans. we can compare two booleans using the '==' operator to obtain a 'True' if they are\n",
    "# equal and 'False' if they are not equal.\n",
    "\n",
    "print(True == True)\n",
    "print(True == False)"
   ]
  },
  {
   "cell_type": "code",
   "execution_count": null,
   "metadata": {
    "collapsed": false
   },
   "outputs": [],
   "source": [
    "# We can perform some operations on boolean variables to better express conditions\n",
    "\n",
    "#the 'and' operation gives a True boolean if both elements are true\n",
    "a,b = True, True\n",
    "print(a and b)\n",
    "\n",
    "a,b = True, False\n",
    "print(a and b)\n",
    "\n",
    "\n",
    "# the 'or' operator gives True if either one (or both) of the elements is true\n",
    "print(a or b)\n",
    "\n",
    "# the 'not' operator simply gives you the opposite of the given element\n",
    "print(not a)"
   ]
  },
  {
   "cell_type": "code",
   "execution_count": null,
   "metadata": {
    "collapsed": false
   },
   "outputs": [],
   "source": [
    "feel_like_it = True\n",
    "raining = False\n",
    "date_tonight = True\n",
    "\n",
    "\n",
    "#write a boolean to decide if you should go to the gym based on the three booleans above.\n",
    "go_to_gym = ...\n",
    "\n",
    "print(go_to_gym)\n",
    "\n",
    "#play around with different values of the variables!"
   ]
  },
  {
   "cell_type": "markdown",
   "metadata": {},
   "source": [
    "We can use `if` statements to make our loops more powerful"
   ]
  },
  {
   "cell_type": "code",
   "execution_count": null,
   "metadata": {
    "collapsed": true
   },
   "outputs": [],
   "source": [
    "#write a for loop that prints every even number up until n. (hint. use the modulo operator which returns the \n",
    "# remainder of dividing two numbers. e.g. 5 % 2 = 3, 10%2 = 0)\n",
    "\n",
    "n = 25\n",
    "for i in range(n):\n",
    "    if ...:\n",
    "        print(i)\n",
    "    else:\n",
    "        continue #the 'continue' statement lets you skip to the next iteration in the loop\n"
   ]
  },
  {
   "cell_type": "code",
   "execution_count": null,
   "metadata": {
    "collapsed": false
   },
   "outputs": [],
   "source": [
    "if feel_like_it and raining: #whatever follows the if has to be a boolean statement\n",
    "    print(\"i feel like it, but it's raining\")\n",
    "#if the previous clause is not met, the 'elif' or 'else if' block is checked\n",
    "elif date_tonight:\n",
    "    print(\"i have a date tonight\"\n",
    "#if neither the if or the elif match then we go into the 'else'\n",
    "else:\n",
    "    print(\"i should just stay home\")"
   ]
  },
  {
   "cell_type": "markdown",
   "metadata": {},
   "source": [
    "Try an example for yourself. This is a famous programming challenge to test `if` statements, known as the 'fizzbuzz' test. You have to print the numbers from 0 to 50 following three rules:\n",
    "\n",
    "* If the number is divisible by 3, print 'fizz'\n",
    "* If the number is divisible by 5, print 'buzz'\n",
    "* If the number is divisible by both 3 and 5, pring 'fizzbuzz'\n",
    "* Otherwise, print the number.\n",
    "\n",
    "There are many different ways to do this, so take a couple of minutes to come up with yours. (hint. use the `%` operator)."
   ]
  },
  {
   "cell_type": "code",
   "execution_count": null,
   "metadata": {
    "collapsed": false
   },
   "outputs": [],
   "source": [
    "for i in range(100):\n",
    "    ...\n",
    "    ..."
   ]
  },
  {
   "cell_type": "markdown",
   "metadata": {},
   "source": [
    "### List comprehensions\n",
    "\n",
    "List comprehensions are a very nice Python feature that allow you to make lists in a single line. Let's see how they work."
   ]
  },
  {
   "cell_type": "code",
   "execution_count": null,
   "metadata": {
    "collapsed": true
   },
   "outputs": [],
   "source": [
    "# this will grow a list where each element in the list is whatever the statement preceding the 'for' evaluates to\n",
    "numbers_times_two = [n*2 for n in range(10)] \n",
    "print(numbers_time_two)"
   ]
  },
  {
   "cell_type": "code",
   "execution_count": null,
   "metadata": {
    "collapsed": true
   },
   "outputs": [],
   "source": [
    "# we can also add if statements in the list comprehension\n",
    "odd_numbers = [i for i in range(10) if i % 2 != 0]\n",
    "print(odd_numbers)"
   ]
  },
  {
   "cell_type": "code",
   "execution_count": null,
   "metadata": {
    "collapsed": true
   },
   "outputs": [],
   "source": [
    "#now try one yourself. make a list comprehension where each item is a tuple (number, number*number) \n",
    "square_tuples = [...]"
   ]
  },
  {
   "cell_type": "markdown",
   "metadata": {},
   "source": [
    "## Functions\n",
    "\n",
    "That day of the week function was super useful! Let's say we want to use that code again many times, but sometimes we want it to find a different day of the week. We would have to change our if statement each time and re-run the code. This seems like a bit of a pain. Thankfully there is a better way.. functions! Think of a function as a little machine that takes in some input and does something to it and returns some output. So let's turn the days of the week finder into a function."
   ]
  },
  {
   "cell_type": "code",
   "execution_count": null,
   "metadata": {
    "collapsed": true
   },
   "outputs": [],
   "source": [
    "#the first line of every function is a header. headers have 3 parts. the 'def' keyword which tells python you are\n",
    "#about to declare a function, then the name of the function, and finally the inputs to the function\n",
    "\n",
    "def day_finder(day_to_find):\n",
    "    days_of_week = ['Monday', 'Tuesday', 'Wednesday', 'Thursday', 'Friday', 'Satuday', 'Sunday']\n",
    "    for day in days_of_week:\n",
    "        if day == day_to_find:\n",
    "            #the return statement ends every function and it 'sends' the output of your function to whoever called it\n",
    "            return \"Thank God it's %s.\" % (day) # the %s in the string is like a placeholder that gets filled with\n",
    "                                                # the value of the string variable 'day'\n",
    "        else:\n",
    "            continue\n",
    "    "
   ]
  },
  {
   "cell_type": "code",
   "execution_count": null,
   "metadata": {
    "collapsed": false
   },
   "outputs": [],
   "source": [
    "#you can call any function just by typing its name and the arguments you want it to work on in braces ()\n",
    "print(day_finder('Tuesday')) #\"thank god it's tuesday\" is the return value of the function day_finder()"
   ]
  },
  {
   "cell_type": "markdown",
   "metadata": {},
   "source": [
    "### A word on 'variable scope'\n",
    "\n",
    "As you may have noticed, it would be a mess if variables were accessible from everywhere in the code. In fact, in Python, anything that is defined within an 'indentation block' is shared but not otherwise.\n",
    "\n",
    "Example:\n",
    "\n",
    "```\n",
    "a = 3\n",
    "\n",
    "def fun():\n",
    "    b  = 3\n",
    "    for i in range(10):\n",
    "        i = i + 1 \n",
    "        \n",
    "```\n",
    "\n",
    "In this example `a` can be accessed from anywhere in the code. `b` can only be seen inside the indentation block started by `fun()` and `i` can only be seen within the indentation block defined by the `for` loop."
   ]
  },
  {
   "cell_type": "markdown",
   "metadata": {},
   "source": [
    "## Object Oriented Programming\n",
    "\n",
    "Just how we generalized a piece of code that runs on similar kinds of input and gave it a name with the functions example, we can do the same thing with just about any piece of Python. Objects let us easily work with instances of some kind of *thing* where each instance might be a little different from the other but still behave according to its type of *thing*. \n",
    "\n",
    "Let's illustrate this with our *thing* being a Recipe. We can have many different types of recipes but we would like to be able to deal with each one in a uniform manner. We therefore define a Recipe as an object that is defined by some 'attributes'"
   ]
  },
  {
   "cell_type": "code",
   "execution_count": null,
   "metadata": {
    "collapsed": true
   },
   "outputs": [],
   "source": [
    "# every object is defined in a 'class' and classes are declared with the 'class' keyword\n",
    "class Recipe:\n",
    "    def __init__(self, n, ig, ml, pt):\n",
    "        self.name = n\n",
    "        self.ingredients = ig #set the ingredients attribute of the object to the value of ig\n",
    "        self.meal = ml\n",
    "        self.prep_time = pt\n",
    "    "
   ]
  },
  {
   "cell_type": "code",
   "execution_count": null,
   "metadata": {
    "collapsed": false
   },
   "outputs": [],
   "source": [
    "#now that we've defined what a Recipe should look like, we can nicely store some new recipes. \n",
    "\n",
    "#let's make some recipes\n",
    "\n",
    "sandwich = Recipe('sandwich', ['ham', 'bread', 'cheese'], 'lunch', 10)\n",
    "cake = Recipe('cake', ['flour', 'sugar', 'eggs'], 'dessert', 90)\n",
    "\n",
    "#add two more recipes of your own!\n",
    "...\n",
    "...\n",
    "\n",
    "# now we can very conveniently access some information about our recipes by name. This can be done with the '.' \n",
    "# operator that we saw above\n",
    "\n",
    "#print the ingredients in the sandwich, and the preparation time of the cake\n",
    "\n",
    "print(sandwich.ingredients)\n",
    "\n",
    "print(cake.prep_time)"
   ]
  },
  {
   "cell_type": "markdown",
   "metadata": {},
   "source": [
    "Let's go even further and make a new object to contain our Recipe objects. Let's call this class *Cookbook* and it will simply contain a list of Recipe objects. However, it will not only have some data variables, but it will also be able to perform functions. "
   ]
  },
  {
   "cell_type": "code",
   "execution_count": null,
   "metadata": {
    "collapsed": true
   },
   "outputs": [],
   "source": [
    "class Cookbook:\n",
    "    def __init__(self, r):\n",
    "        self.recipes = r\n",
    "        \n",
    "    #functions declared inside a class are called 'Class functions' and they act on an object\n",
    "    def get_vegetarian(self):\n",
    "        \"\"\"This function is going to return recipes in the cookbook that do not contain meat.\"\"\"\n",
    "        meats = ['ham', 'beef', 'chicken', 'fish']\n",
    "        veg_dishes = []\n",
    "        for recipe in self.recipes: #the 'self' keyword is used to access the object the function is being called on\n",
    "            if meats not in recipe.ingredients: #hint: use the 'in' operator which returns true if a value is in the \n",
    "                                                #given list. e.g.: 5 in [1, 3, 5] returns True.\n",
    "                veg_dishes.append(recipe)\n",
    "        return veg_dishes\n",
    "    \n",
    "    #write a class function that returns a list of recipes that take under 'n' minutes to prepare\n",
    "    def preptime(self, n):\n",
    "        ...\n",
    "        ...\n",
    "                "
   ]
  },
  {
   "cell_type": "code",
   "execution_count": null,
   "metadata": {
    "collapsed": false
   },
   "outputs": [],
   "source": [
    "# let's make a cookbook\n",
    "\n",
    "#gather some recipes\n",
    "recipes = []\n",
    "\n",
    "recipes.append(Recipe('steak', ['beef', 'butter', 'mashed potatoes'], 'main', 120))\n",
    "recipes.append(Recipe('toast', ['nutella', 'bread'], 'snack', 5))\n",
    "recipes.append(Recipe('salad', ['lettuce', 'kale', 'tomatoes'], 'main', 15))\n",
    "recipes.append(Recipe('chicken parm', ['chicken', 'sauce', 'cheese'], 'main', 90))\n",
    "recipes.append(Recipe('brownie', ['chocolate', 'flour', 'eggs'], 'dessert', 15))\n",
    "\n",
    "#put them in a cookbook\n",
    "\n",
    "cookbook = Cookbook(recipes)"
   ]
  },
  {
   "cell_type": "code",
   "execution_count": null,
   "metadata": {
    "collapsed": false
   },
   "outputs": [],
   "source": [
    "#get vegetarian recipes\n",
    "\n",
    "print(cookbook.get_vegetarian())\n",
    "\n",
    "#get recipes that take less than 20 minutes to prepare\n",
    "\n",
    "print(...)"
   ]
  },
  {
   "cell_type": "code",
   "execution_count": null,
   "metadata": {
    "collapsed": false
   },
   "outputs": [],
   "source": [
    "#oops what is that? because our functions are returning lists of objects we are seeing how the objects are represented\n",
    "# when we print them. What you see are addresses in memory where the objects are stored. Let's print it in a way\n",
    "# we can understand\n",
    "\n",
    "\n",
    "#print the name and ingredients of recipes that take under 20 minutes to prepare\n",
    "short_recipes = cookbook.preptime(20)\n",
    "\n",
    "for s in short_recipes:\n",
    "    print(s.name)"
   ]
  },
  {
   "cell_type": "markdown",
   "metadata": {},
   "source": [
    "# Libraries\n",
    "\n",
    "We've now covered most of the basics you need to get up and running. However, one of the nicest things about Python is that it has a fairly extensive 'standard library'. The standard library is a set of functions that come with Python that do a variety of useful things so that you don't have to reinvent the wheel each time you write a program. We've already seen an example with the `range()` function. I'm going to give some examples of some of the most useful functions in the standard library, but you should always check if what you are trying to do has already been implemented to save you time.\n",
    "\n",
    "Some functions are directly built-in and some you have to `import` from a *module* which is just the name of a Python program whose functions you can use in your code."
   ]
  },
  {
   "cell_type": "markdown",
   "metadata": {},
   "source": [
    "### Help"
   ]
  },
  {
   "cell_type": "code",
   "execution_count": null,
   "metadata": {
    "collapsed": false
   },
   "outputs": [],
   "source": [
    "#help prints what the given function does\n",
    "help(abs)"
   ]
  },
  {
   "cell_type": "markdown",
   "metadata": {},
   "source": [
    "### Sets and Lists"
   ]
  },
  {
   "cell_type": "code",
   "execution_count": null,
   "metadata": {
    "collapsed": false
   },
   "outputs": [],
   "source": [
    "#a set is a group of unique items from a list\n",
    "pop_stars = [\"beyonce\", \"rihanna\", \"lady gaga\", \"lady gaga\"]\n",
    "\n",
    "hip_hop_stars = [\"rihanna\", \"nicki minaj\", \"lil kim\"]\n",
    "\n",
    "pop = set(pop_stars)\n",
    "\n",
    "hip_hop = set(hip_hop_stars)\n",
    "\n",
    "print(pop, hip_hop)\n",
    "\n",
    "#you can perform some set operations. look up the Python set documentation an print the intersection between both sets.\n",
    "\n",
    "overlap = ...\n",
    "\n",
    "print(overlap)"
   ]
  },
  {
   "cell_type": "code",
   "execution_count": null,
   "metadata": {
    "collapsed": false
   },
   "outputs": [],
   "source": [
    "#sort a list\n",
    "\n",
    "s = sorted([1, 5, 3, 2])\n",
    "print(s)\n",
    "\n",
    "#max and min of a list\n",
    "print(max(s))\n",
    "print(min(s))\n",
    "\n",
    "#print the sum of a list's elements\n",
    "\n",
    "print(sum(s))\n",
    "\n",
    "#get length of list\n",
    "\n",
    "print(len(s))"
   ]
  },
  {
   "cell_type": "code",
   "execution_count": null,
   "metadata": {
    "collapsed": true
   },
   "outputs": [],
   "source": [
    "#write a for loop that iterates through each *index* in s and prints the index (Hint: combine range() and len())\n",
    "\n",
    "..."
   ]
  },
  {
   "cell_type": "code",
   "execution_count": null,
   "metadata": {
    "collapsed": false
   },
   "outputs": [],
   "source": [
    "#the enumerate() function gives you the item and the index of a list at the same time\n",
    "\n",
    "for i, number in enumerate(hip_hop_stars):\n",
    "    print(i, number)"
   ]
  },
  {
   "cell_type": "markdown",
   "metadata": {},
   "source": [
    "### Some math"
   ]
  },
  {
   "cell_type": "code",
   "execution_count": null,
   "metadata": {
    "collapsed": true
   },
   "outputs": [],
   "source": [
    "#let's import some libraries so we can use their functions\n",
    "import math \n",
    "import random\n",
    "#python numerical tools\n",
    "import numpy as np"
   ]
  },
  {
   "cell_type": "code",
   "execution_count": null,
   "metadata": {
    "collapsed": false
   },
   "outputs": [],
   "source": [
    "#generate a random floating point number between 0 and 1\n",
    "ran = random.random()\n",
    "print(ran)\n",
    "\n",
    "#print a random integer in the given range\n",
    "random_integer = random.randint(2, 100)\n",
    "print(random_integer)\n",
    "\n",
    "#sample randomly from a list\n",
    "print(np.random.choice([\"watermelon\", \"mango\", \"pineapple\"]))"
   ]
  },
  {
   "cell_type": "code",
   "execution_count": null,
   "metadata": {
    "collapsed": false
   },
   "outputs": [],
   "source": [
    "#compute e^(n)\n",
    "print(math.exp(10))\n",
    "\n",
    "#compute x^n\n",
    "print(math.pow(2,3))"
   ]
  },
  {
   "cell_type": "markdown",
   "metadata": {},
   "source": [
    "### String functions"
   ]
  },
  {
   "cell_type": "code",
   "execution_count": 2,
   "metadata": {
    "collapsed": false
   },
   "outputs": [
    {
     "name": "stdout",
     "output_type": "stream",
     "text": [
      "I'm. Walt. Disney\n",
      "I-'-m-.- -W-a-l-t-.- -D-i-s-n-e-y-.\n",
      "[\"I'm\", ' Walt', ' Disney', '']\n"
     ]
    }
   ],
   "source": [
    "# you can remove characters from the end of a string with the strip() function\n",
    "\n",
    "disney = \"I'm. Walt. Disney.\"\n",
    "\n",
    "print(disney.strip(\".\")) #removes the character from the given string (default removes whitespace characters)\n",
    "\n",
    "#the join function inserts characters between elements in a list and joins them into a string\n",
    "\n",
    "print(\"-\".join(disney))\n",
    "\n",
    "#the opposite of join is the split() function which breaks a string up into a list of sub-strings\n",
    "\n",
    "print(disney.split(\".\")) #you can also tell split() which characters to break on\n"
   ]
  },
  {
   "cell_type": "markdown",
   "metadata": {},
   "source": [
    "### File handling\n",
    "\n",
    "A very important part of dealing with scientific data is handling files containing your data and loading them into your Python scripts. Thankfully Python also makes this very easy.\n"
   ]
  },
  {
   "cell_type": "code",
   "execution_count": null,
   "metadata": {
    "collapsed": false
   },
   "outputs": [],
   "source": [
    "#to open a file you just use the open() function along with the 'with' context manager (more on this below)\n",
    "\n",
    "#the 'with' block takes care of opening and closing the file, and giving us the lines of the file to iterate over\n",
    "with open(\"food.csv\", \"r\") as food: # the \"r\" argument tells open() that we want to read the file\n",
    "    for item in food:\n",
    "        print(item.strip(\"\\n\")) #let's get rid of the linebreak character"
   ]
  },
  {
   "cell_type": "code",
   "execution_count": null,
   "metadata": {
    "collapsed": true
   },
   "outputs": [],
   "source": [
    "#we can also write to a file\n",
    "with open(\"helloworld.txt\", \"w+\") as hello:\n",
    "    hello.write(\"Hello, world!\")\n",
    "    \n",
    "#check to see if the file was created"
   ]
  },
  {
   "cell_type": "markdown",
   "metadata": {},
   "source": [
    "### Multiprocessing\n",
    "\n",
    "Most computers today have multiple processors, meaning you can use these processors simulaneously to make your computations go a lot faster. Default python code is run as a single process. So if you have some work to do that can be split up into independent parts, you can easily implement this with the `multiprocessing` module in Python."
   ]
  },
  {
   "cell_type": "code",
   "execution_count": null,
   "metadata": {
    "collapsed": false
   },
   "outputs": [],
   "source": [
    "import multiprocessing\n",
    "import time #this module allows us to do some operations involving time.\n",
    "\n",
    "MAX_PROC = 4\n",
    "\n",
    "def square(x):\n",
    "    time.sleep(3) #let's make it a bit slower by making python sleep for 10 seconds before returning the output\n",
    "    return x*x\n",
    "\n",
    "to_do = [1, 2, 3, 4, 5, 6, 7, 8]\n",
    "\n",
    "#let's write a loop that squares each element in that list in series\n",
    "\n",
    "#record the time at which we start the computation\n",
    "t_start_serial = time.time() \n",
    "\n",
    "squared_serial = []\n",
    "for i in to_do:\n",
    "    squared.append(square(i))\n",
    "\n",
    "#get the difference in time between now and the start time to get total time.\n",
    "t_total_serial = ...\n",
    "\n",
    "print(\"Serial job took %s seconds.\" % (t_total_serial))\n",
    "print(squared_serial)"
   ]
  },
  {
   "cell_type": "code",
   "execution_count": null,
   "metadata": {
    "collapsed": false
   },
   "outputs": [],
   "source": [
    "#that was slow! now let's do this in parallel\n",
    "\n",
    "pool = multiprocessing.Pool(MAX_PROC) #we start a 'pool' of workers that we can send processing jobs to\n",
    "\n",
    "t_start_para = time.time()\n",
    "\n",
    "squared_para = []\n",
    "for squared_number in pool.map(square, to_do):\n",
    "    squared_para.append(squared_number) \n",
    "\n",
    "t_total_para = ...\n",
    "print(\"Parallel job took %s seconds!\" % (t_total_para))\n",
    "print(squared_para)"
   ]
  },
  {
   "cell_type": "markdown",
   "metadata": {},
   "source": [
    "## Mini-project\n",
    "\n",
    "At this point you should have a pretty good idea of the Python basics and some of the extras. Yet, we are still only scratching the surface of the surface of the iceberg. Python has appliations in pretty much every field of programming and software development. But since we are mainly interested in using it as a tool for data handling let's do a mini data-science project to get an idea of some more data-specific Python capabilities. Here the goal is to be able to load a data-set efficiently and do some nice visualizations. \n",
    "\n",
    "The mini project is to take baby name data from the US social security database and try to identify \"Hipster\" names. This example inspired by a Kaggle post (https://www.kaggle.com/ryanburge/d/kaggle/us-baby-names/hipster-names). You can load the original dataset [here](https://www.kaggle.com/kaggle/us-baby-names). \n",
    "\n",
    "I filtered and re-arranged the original data to make it easier for us to handle (but trust, me I used Python for that and it was very easy). So you can find the dataset we will use in this exercise in the workshop downloads under the name `BabyNames.csv`\n",
    "\n",
    "Here's what the data looks like:\n",
    "\n",
    "```\n",
    "name, 1880, 1881, 1882, .... , 2014\n",
    "Aaron, 3, 4, 6, 22, 0, ...., 199\n",
    "Aaliyah, 0, 0, 0, 0, 1, ...., 100\n",
    "```\n",
    "\n",
    "As you can see, each row in the file is a baby name, and each column contains the number of babies with that name for each year this dataset was collected."
   ]
  },
  {
   "cell_type": "code",
   "execution_count": null,
   "metadata": {
    "collapsed": false
   },
   "outputs": [],
   "source": [
    "import os\n",
    "#this is python's main plotting library\n",
    "import matplotlib.pyplot as plt\n",
    "\n",
    "#tell the notebook to make plots appear inline\n",
    "%matplotlib inline"
   ]
  },
  {
   "cell_type": "code",
   "execution_count": null,
   "metadata": {
    "collapsed": false
   },
   "outputs": [],
   "source": [
    "# the os module lets us take care of operating system operations. let's use it to specify \n",
    "# the path to a  file for opening\n",
    "\n",
    "#let's load the name dataset. Replace the arguments with your own path.\n",
    "babypath = os.path.join(\"/\", \"Users\", \"carlosgonzalezoliver\", \"Projects\", \"Notebooks\", \\\n",
    "                       \"BabyNames.csv\")\n",
    "\n",
    "#let's first get an idea of what the lines look like.\n",
    "\n",
    "#print the first 10 lines\n",
    "with open(babypath, \"r\") as b:\n",
    "    for i, line in enumerate(...):\n",
    "        if i < 10:\n",
    "            print(b)\n",
    "        else:\n",
    "            break"
   ]
  },
  {
   "cell_type": "markdown",
   "metadata": {},
   "source": [
    "Now we can write a function that stores the information in the file so that we can work with it in Python."
   ]
  },
  {
   "cell_type": "code",
   "execution_count": null,
   "metadata": {
    "collapsed": true
   },
   "outputs": [],
   "source": [
    "#this function reads the file in the given path line by line and returns two thing:\n",
    "# 1. a dictionary in the form dict['name'] = [0, 33, 110, 3, 0, ...] where the each key is a baby name\n",
    "# and the value at each key is a list of counts per year\n",
    "# 2. a list whose elements are the values of the years in the study i.e. [1880, 1881, .., 2014]\n",
    "\n",
    "def read_names(file_path):\n",
    "    names_dict = {}\n",
    "    with open(file_path) as f:\n",
    "        for row_number, row_string in enumerate(f):\n",
    "            #get the values of each column into a list (hint: split())\n",
    "            row_info = ...\n",
    "            #first we need to check if we're at a header row\n",
    "            if ...:\n",
    "                #let's store the years so we can use them as labels later             \n",
    "                #we split the row_string by the comma since this is a csv file\n",
    "                #and we only keep the entries after the first one since it is just the first column label\n",
    "                #split() and list slicing come in handy here!\n",
    "                \n",
    "                years = ...\n",
    "                \n",
    "                #convert each year in the list to an integer\n",
    "                int_years = [int(y.strip()) for ...]\n",
    "                \n",
    "            #if we're not at a header then we're in the real data. so we need to store counts and baby names\n",
    "            else:\n",
    "                \n",
    "                name = row_info[...]\n",
    "                counts = [float(c.strip()) ...]\n",
    "                \n",
    "                #make the key-value entry in the dictionary\n",
    "                names_dict[...] = ...\n",
    "    #return a dictionary with all the names and their data, and a list with the years \n",
    "    return names_dict, int_years"
   ]
  },
  {
   "cell_type": "code",
   "execution_count": null,
   "metadata": {
    "collapsed": false
   },
   "outputs": [],
   "source": [
    "baby_dict, year_list = read_names(babypath)\n",
    "\n",
    "#look up your name in the dictionary!\n",
    "print(baby_dict[...])"
   ]
  },
  {
   "cell_type": "code",
   "execution_count": null,
   "metadata": {
    "collapsed": false
   },
   "outputs": [],
   "source": [
    "#first let's look for an individual name and plot its popularity trend in time.\n",
    "\n",
    "#notice the 'title=' argument. this is known as keyword argument. it is useful for giving a default value to a function\n",
    "#so in this case the user can decide whether or not he gives the title of the plot. If he/she doesn't then the title\n",
    "#defaults to \"Plot Title\"\n",
    "\n",
    "def name_plot(name, names_dict, year_list, title=\"Plot Title\"):\n",
    "    #we give the matplotlib function plot() the x and y lists that we would like to plot\n",
    "    plt.plot(year_list, baby_dict[name], label=name)\n",
    "    plt.title(title)\n",
    "    plt.xlabel(\"Year\")\n",
    "    plt.ylabel(\"Count\")\n",
    "    \n",
    "    pass\n",
    "   "
   ]
  },
  {
   "cell_type": "code",
   "execution_count": null,
   "metadata": {
    "collapsed": false
   },
   "outputs": [],
   "source": [
    "#let's try out the function. give it a name and the names_df\n",
    "name_plot(..., baby_dict, year_list, title=\"Carlos Popularity\")\n"
   ]
  },
  {
   "cell_type": "code",
   "execution_count": null,
   "metadata": {
    "collapsed": true
   },
   "outputs": [],
   "source": [
    "# we define a hipster name with the three following criteria. let's say a name is popular if it reaches 1000 babies in \n",
    "# a given year.\n",
    "# Criteria:\n",
    "# * was very popular a long time ago (at least 1000 count between 1915-1930)\n",
    "# * very unpopular 30 years ago (under 1000 between 1980-2000)\n",
    "# * popular in recent years (more than 1000 after 2010)\n",
    "\n",
    "\n",
    "def hipster_names(baby_dict, year_list):\n",
    "    \n",
    "    #let's start an emty list to contain all the matching 'hip' names\n",
    "    hip_names = []\n",
    "    \n",
    "    #let's establish the ranges of time to look at\n",
    "    popular_range = range(1915, 1930)\n",
    "    unpopular_range = range(1960, 2000)\n",
    "    recent = 2010\n",
    "    \n",
    "    #get all the baby names so we can check each one\n",
    "    names = baby_dict.keys()\n",
    "\n",
    "    #we go through each row in the name group\n",
    "    for name in names:\n",
    "        #set some booleans with some initial values that will tell us together if the name is hip\n",
    "        was_popular = False\n",
    "        was_unpopular = True\n",
    "        becoming_popular = False\n",
    "        \n",
    "        #we go through each year in the name\n",
    "        for index, count in enumerate(baby_dict[name]):\n",
    "            \n",
    "            #look up what year we're in with the year_list\n",
    "            current_year = year_list[index]\n",
    "            \n",
    "            #check if the name was popular a long time ago\n",
    "            if current_year in popular_range and ...:\n",
    "                was_popular = True\n",
    "                continue\n",
    "            #check if the year was unpopular recently (find a year where it was popular in the range)\n",
    "            if ...:\n",
    "                was_unpopular = False\n",
    "                continue\n",
    "            #check if the name is growing in popularity\n",
    "            if ...:\n",
    "                becoming_popular = True\n",
    "                continue\n",
    "\n",
    "        #combine all the booleans to tell us if the name matches all our criteria. if it does, add it to the list\n",
    "        if ...:\n",
    "            hip_names.append(name)\n",
    "\n",
    "    #return the list.\n",
    "    return hip_names"
   ]
  },
  {
   "cell_type": "code",
   "execution_count": null,
   "metadata": {
    "collapsed": false
   },
   "outputs": [],
   "source": [
    "#now we just have to call the function hipster_names.\n",
    "hip_names = hipster_names(baby_dict, year_list)\n",
    "print(hip_names)"
   ]
  },
  {
   "cell_type": "code",
   "execution_count": null,
   "metadata": {
    "collapsed": false
   },
   "outputs": [],
   "source": [
    "#let's plot the trendlines of each hip name\n",
    "for n in hip_names:\n",
    "    name_plot(n, baby_dict, year_list, title=\"Hipster Names\")\n",
    "\n",
    "#we set the legend, x-axis label, y-axis label, and title of the plot\n",
    "plt.legend(loc=\"upper left\")"
   ]
  },
  {
   "cell_type": "markdown",
   "metadata": {},
   "source": [
    "## Things we didn't cover\n",
    "\n",
    "There are many, many, many more useful libraries that I didn't have time to cover. I'm going to list a few of the ones that you might want to check out.\n",
    "\n",
    "* [numpy](http://www.numpy.org/) very powerful numerical and matrix operations \n",
    "* [pandas](http://pandas.pydata.org/) game changer for data handling\n",
    "* [seaborn](http://seaborn.pydata.org/index.html) scientific plotting \n",
    "* [scikit-learn](http://scikit-learn.org/stable/) very complete Machine Learning algorithms and tools\n",
    "* [BioPython](http://biopython.org/wiki/Biopython) biological sequence data and analysis. (alignments, trees, etc.)"
   ]
  }
 ],
 "metadata": {
  "kernelspec": {
   "display_name": "Python 3",
   "language": "python",
   "name": "python3"
  },
  "language_info": {
   "codemirror_mode": {
    "name": "ipython",
    "version": 3
   },
   "file_extension": ".py",
   "mimetype": "text/x-python",
   "name": "python",
   "nbconvert_exporter": "python",
   "pygments_lexer": "ipython3",
   "version": "3.5.2"
  }
 },
 "nbformat": 4,
 "nbformat_minor": 0
}
